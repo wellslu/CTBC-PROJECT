{
 "cells": [
  {
   "cell_type": "code",
   "execution_count": 1,
   "metadata": {},
   "outputs": [],
   "source": [
    "a_date = []\n",
    "for i in range(200501, 201913, 1):\n",
    "    i = str(i)\n",
    "    if 1 <= int(i[4:]) <= 12:\n",
    "        a_date.append(i)"
   ]
  },
  {
   "cell_type": "code",
   "execution_count": null,
   "metadata": {},
   "outputs": [],
   "source": [
    "import multiprocessing as mp\n",
    "from function import test_fun\n",
    "if __name__ == '__main__':\n",
    "    pool_list = [i for i in range(0, len(a_date)-1, 1)]\n",
    "    pool = mp.Pool(processes=5)\n",
    "    df_list = pool.map(test_fun.fun, pool_list)"
   ]
  },
  {
   "cell_type": "code",
   "execution_count": null,
   "metadata": {},
   "outputs": [],
   "source": []
  }
 ],
 "metadata": {
  "kernelspec": {
   "display_name": "Python 3",
   "language": "python",
   "name": "python3"
  },
  "language_info": {
   "codemirror_mode": {
    "name": "ipython",
    "version": 3
   },
   "file_extension": ".py",
   "mimetype": "text/x-python",
   "name": "python",
   "nbconvert_exporter": "python",
   "pygments_lexer": "ipython3",
   "version": "3.7.3"
  }
 },
 "nbformat": 4,
 "nbformat_minor": 2
}
