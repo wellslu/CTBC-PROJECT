{
 "cells": [
  {
   "cell_type": "code",
   "execution_count": 2,
   "metadata": {},
   "outputs": [],
   "source": [
    "import pandas as pd\n",
    "from tqdm import tqdm_notebook\n",
    "import numpy as np\n",
    "import statistics as stat\n",
    "from scipy import stats\n",
    "lone_pine = pd.read_csv('lone_pine.csv')\n",
    "crsp_data = pd.read_csv('StockPriceMonthly.csv', encoding='utf8', low_memory=False)"
   ]
  },
  {
   "cell_type": "markdown",
   "metadata": {},
   "source": [
    "# pre-processing"
   ]
  },
  {
   "cell_type": "code",
   "execution_count": 3,
   "metadata": {},
   "outputs": [],
   "source": [
    "lone_pine.drop(['% Port', '% OS', 'Hist', 'Change', 'Change.1'], axis=1, inplace=True)"
   ]
  },
  {
   "cell_type": "code",
   "execution_count": 4,
   "metadata": {},
   "outputs": [],
   "source": [
    "lone_pine['Ticker'] = lone_pine['Ticker'].astype('str')\n",
    "lone_pine['Class'] = lone_pine['Class'].astype('str')\n",
    "def ab(aa):\n",
    "    if '.' in aa:\n",
    "        return aa.split('.')[0]\n",
    "    if '/' in aa:\n",
    "        return aa.split('/')[0]\n",
    "    else:\n",
    "        return aa\n",
    "lone_pine['Ticker'] = lone_pine['Ticker'].apply(ab)"
   ]
  },
  {
   "cell_type": "code",
   "execution_count": 5,
   "metadata": {},
   "outputs": [],
   "source": [
    "def abc(aa):\n",
    "    aa = aa.split('/')\n",
    "    year = aa[2]\n",
    "    month = aa[0]\n",
    "    day = aa[1]\n",
    "    return year+month\n",
    "lone_pine['Date'] = lone_pine['Date'].apply(abc)"
   ]
  },
  {
   "cell_type": "code",
   "execution_count": 6,
   "metadata": {},
   "outputs": [],
   "source": [
    "lone_pine = lone_pine[lone_pine['Class']!='PUT'].loc[lone_pine['Class']!='CALL']\n",
    "lone_pine = lone_pine[lone_pine['Class']!='put'].loc[lone_pine['Class']!='call']\n",
    "lone_pine = lone_pine[lone_pine['Class']!='Put'].loc[lone_pine['Class']!='Call']"
   ]
  },
  {
   "cell_type": "code",
   "execution_count": 7,
   "metadata": {},
   "outputs": [],
   "source": [
    "def class_3str(df_col):\n",
    "    df_col = df_col.replace(' ', '')\n",
    "    df_col = df_col[0:3]\n",
    "    df_col = df_col.upper()\n",
    "    return df_col\n",
    "lone_pine['Class'] = lone_pine['Class'].apply(class_3str)"
   ]
  },
  {
   "cell_type": "code",
   "execution_count": 8,
   "metadata": {},
   "outputs": [],
   "source": [
    "lone_pine_not = lone_pine[lone_pine['Ticker']!='nan']\n",
    "lone_pine_is = lone_pine[lone_pine['Ticker']=='nan']"
   ]
  },
  {
   "cell_type": "code",
   "execution_count": 9,
   "metadata": {},
   "outputs": [
    {
     "name": "stderr",
     "output_type": "stream",
     "text": [
      "C:\\Users\\wells\\AppData\\Local\\Continuum\\anaconda3\\lib\\site-packages\\pandas\\core\\frame.py:3940: SettingWithCopyWarning: \n",
      "A value is trying to be set on a copy of a slice from a DataFrame\n",
      "\n",
      "See the caveats in the documentation: http://pandas.pydata.org/pandas-docs/stable/indexing.html#indexing-view-versus-copy\n",
      "  errors=errors)\n"
     ]
    }
   ],
   "source": [
    "lone_pine_not.drop('Name', axis=1, inplace=True)\n",
    "lone_pine_not = lone_pine_not.groupby(['Ticker','Class','Date'])[['Shares', 'Value']].agg('sum').reset_index().copy()"
   ]
  },
  {
   "cell_type": "code",
   "execution_count": 10,
   "metadata": {},
   "outputs": [
    {
     "name": "stderr",
     "output_type": "stream",
     "text": [
      "C:\\Users\\wells\\AppData\\Local\\Continuum\\anaconda3\\lib\\site-packages\\pandas\\core\\indexing.py:543: SettingWithCopyWarning: \n",
      "A value is trying to be set on a copy of a slice from a DataFrame.\n",
      "Try using .loc[row_indexer,col_indexer] = value instead\n",
      "\n",
      "See the caveats in the documentation: http://pandas.pydata.org/pandas-docs/stable/indexing.html#indexing-view-versus-copy\n",
      "  self.obj[item] = s\n"
     ]
    }
   ],
   "source": [
    "lone_pine_is.loc[:, 'Ticker'] = lone_pine_is['Name']\n",
    "lone_pine_is.drop('Name', axis=1, inplace=True)\n",
    "lone_pine_is = lone_pine_is.groupby(['Ticker','Class','Date'])[['Shares', 'Value']].agg('sum').reset_index().copy()"
   ]
  },
  {
   "cell_type": "code",
   "execution_count": 11,
   "metadata": {
    "scrolled": true
   },
   "outputs": [],
   "source": [
    "date = sorted(list(set(lone_pine_not['Date'])))"
   ]
  },
  {
   "cell_type": "code",
   "execution_count": 12,
   "metadata": {},
   "outputs": [],
   "source": [
    "new_lone_pine = pd.DataFrame()"
   ]
  },
  {
   "cell_type": "code",
   "execution_count": 13,
   "metadata": {
    "scrolled": true
   },
   "outputs": [],
   "source": [
    "for num in range(len(date)-1):\n",
    "    first_date = date[num]\n",
    "    second_date = date[num+1]\n",
    "    first_df = lone_pine_not[lone_pine_not['Date']==first_date]\n",
    "    second_df = lone_pine_not[lone_pine_not['Date']==second_date]\n",
    "    first_df = first_df.drop(['Date'],axis=1)\n",
    "    first_df.columns = ['Ticker', 'Class', 'Last_Shares', 'Last_Value']\n",
    "    merge_df = second_df.merge(first_df, on=['Ticker','Class'], how='left')\n",
    "    if len(merge_df) != len(second_df):\n",
    "        print(second_date)\n",
    "    new_lone_pine = pd.concat([new_lone_pine, merge_df], ignore_index=True)"
   ]
  },
  {
   "cell_type": "code",
   "execution_count": 14,
   "metadata": {},
   "outputs": [],
   "source": [
    "new_lone_pine_is = pd.DataFrame()"
   ]
  },
  {
   "cell_type": "code",
   "execution_count": 15,
   "metadata": {},
   "outputs": [],
   "source": [
    "for num in range(len(date)-1):\n",
    "    first_date = date[num]\n",
    "    second_date = date[num+1]\n",
    "    first_df = lone_pine_is[lone_pine_is['Date']==first_date]\n",
    "    second_df = lone_pine_is[lone_pine_is['Date']==second_date]\n",
    "    first_df = first_df.drop(['Date'],axis=1)\n",
    "    first_df.columns = ['Ticker', 'Class', 'Last_Shares', 'Last_Value']\n",
    "    merge_df = second_df.merge(first_df, on=['Ticker','Class'], how='left')\n",
    "    if len(merge_df) != len(second_df):\n",
    "        print(second_date)\n",
    "    new_lone_pine_is = pd.concat([new_lone_pine_is, merge_df], ignore_index=True, sort=False)"
   ]
  },
  {
   "cell_type": "code",
   "execution_count": 16,
   "metadata": {
    "scrolled": true
   },
   "outputs": [],
   "source": [
    "new_lone_pine = pd.concat([new_lone_pine, lone_pine_not[lone_pine_not['Date']==date[0]]], ignore_index=True, sort=False)\n",
    "new_lone_pine_is = pd.concat([new_lone_pine_is, lone_pine_is[lone_pine_is['Date']==date[0]]],ignore_index=True, sort=False)\n",
    "lone_pine_a = pd.concat([new_lone_pine, new_lone_pine_is], ignore_index=True, sort=False)"
   ]
  },
  {
   "cell_type": "code",
   "execution_count": 17,
   "metadata": {
    "scrolled": true
   },
   "outputs": [],
   "source": [
    "lone_pine_a = lone_pine_a.replace(np.nan, 0)"
   ]
  },
  {
   "cell_type": "code",
   "execution_count": 18,
   "metadata": {
    "scrolled": true
   },
   "outputs": [],
   "source": [
    "lone_pine_a.loc[:, 'Shares_Change'] = lone_pine_a['Shares'] - lone_pine_a['Last_Shares']\n",
    "lone_pine_a.loc[:, 'Value_Change'] = lone_pine_a['Value'] - lone_pine_a['Last_Value']"
   ]
  },
  {
   "cell_type": "code",
   "execution_count": 19,
   "metadata": {
    "scrolled": true
   },
   "outputs": [],
   "source": [
    "lone_pine_a.drop(['Last_Shares', 'Last_Value'], axis=1, inplace=True)"
   ]
  },
  {
   "cell_type": "code",
   "execution_count": 20,
   "metadata": {},
   "outputs": [
    {
     "data": {
      "application/vnd.jupyter.widget-view+json": {
       "model_id": "7fa0ba8434664017b704229b382caf96",
       "version_major": 2,
       "version_minor": 0
      },
      "text/plain": [
       "HBox(children=(IntProgress(value=0, max=3181), HTML(value='')))"
      ]
     },
     "metadata": {},
     "output_type": "display_data"
    },
    {
     "name": "stdout",
     "output_type": "stream",
     "text": [
      "\n"
     ]
    }
   ],
   "source": [
    "add_df = pd.DataFrame(columns=lone_pine_a.columns)\n",
    "for index in tqdm_notebook(range(len(lone_pine_a))):\n",
    "    each_data = lone_pine_a.loc[index]\n",
    "    each_data = list(each_data)\n",
    "    date = int(each_data[2])\n",
    "    if date % 4 == 0:\n",
    "        date = date - 12 + 100\n",
    "    each_data[2] = str(date+1)\n",
    "    each_data[5] = 0\n",
    "    each_data[6] = 0\n",
    "    add_df.loc[-1] = each_data\n",
    "    add_df = add_df.reset_index(drop=True)\n",
    "    date = int(each_data[2])\n",
    "    each_data[2] = str(date+1)\n",
    "    each_data[5] = 0\n",
    "    each_data[6] = 0\n",
    "    add_df.loc[-1] = each_data\n",
    "    add_df = add_df.reset_index(drop=True)\n",
    "lone_pine_a = pd.concat([lone_pine_a, add_df], ignore_index=True, sort=False)"
   ]
  },
  {
   "cell_type": "code",
   "execution_count": 21,
   "metadata": {
    "scrolled": true
   },
   "outputs": [],
   "source": [
    "lone_pine_a.drop(lone_pine_a[lone_pine_a['Shares']==0].loc[lone_pine_a['Value']==0].loc[lone_pine_a['Shares_Change']==0].loc[lone_pine_a['Value_Change']==0].index, inplace=True)"
   ]
  },
  {
   "cell_type": "code",
   "execution_count": 22,
   "metadata": {},
   "outputs": [],
   "source": [
    "def class_(df_col):\n",
    "    if df_col == 'CLA':\n",
    "        return 'A'\n",
    "    elif df_col == 'CLB':\n",
    "        return 'B'\n",
    "    elif df_col == 'CLC':\n",
    "        return 'C'\n",
    "    elif df_col == 'CLD':\n",
    "        return 'D'\n",
    "    else:\n",
    "        return df_col\n",
    "lone_pine_a['Class'] = lone_pine_a['Class'].apply(class_)"
   ]
  },
  {
   "cell_type": "code",
   "execution_count": 23,
   "metadata": {},
   "outputs": [],
   "source": [
    "def division(df):\n",
    "    if df['Shares_Change'] == 0 and df['Shares'] == 0:\n",
    "        return 0\n",
    "    elif df['Shares'] == 0 and df['Value'] == 0:\n",
    "        return df['Value_Change'] / df['Shares_Change']\n",
    "    else:\n",
    "        return df['Value'] / df['Shares']\n",
    "lone_pine_a['price'] = lone_pine_a.apply(division, axis=1)"
   ]
  },
  {
   "cell_type": "code",
   "execution_count": 24,
   "metadata": {},
   "outputs": [],
   "source": [
    "def abcd(aa):\n",
    "    return str(aa)[0:6]\n",
    "crsp_data['date'] = crsp_data['date'].apply(abcd)"
   ]
  },
  {
   "cell_type": "code",
   "execution_count": 25,
   "metadata": {
    "scrolled": true
   },
   "outputs": [],
   "source": [
    "crsp_data.columns = ['PERMNO', 'Date', 'Ticker', 'COMNAM', 'Class', 'DIVAMT', 'PRC', 'VOL']"
   ]
  },
  {
   "cell_type": "code",
   "execution_count": 26,
   "metadata": {},
   "outputs": [],
   "source": [
    "def to_abs(df_col):\n",
    "    return abs(df_col)\n",
    "crsp_data_c = crsp_data[['Date', 'Ticker', 'PRC', 'Class']]\n",
    "crsp_data_c = crsp_data_c[crsp_data_c['Ticker'].isin(list(set(lone_pine_a['Ticker'])))]\n",
    "crsp_data_c = crsp_data_c[crsp_data_c['PRC'].notnull()].drop_duplicates(keep='first')\n",
    "crsp_data_c['PRC'] = crsp_data_c['PRC'].apply(to_abs)"
   ]
  },
  {
   "cell_type": "code",
   "execution_count": 27,
   "metadata": {},
   "outputs": [],
   "source": [
    "# crsp_data_c = crsp_data_c.sort_values(by=['Ticker', 'Date']).reset_index(drop=True)\n",
    "# df_list = []\n",
    "# for each in tqdm_notebook(crsp_data_c.groupby(by='Ticker')):\n",
    "#     ticker, df = each\n",
    "#     df.loc[:, 'Last_PRC'] = df['PRC'].shift()\n",
    "#     df_list.append(df)"
   ]
  },
  {
   "cell_type": "code",
   "execution_count": 28,
   "metadata": {},
   "outputs": [
    {
     "name": "stdout",
     "output_type": "stream",
     "text": [
      "2.5651121139526367\n"
     ]
    }
   ],
   "source": [
    "import multiprocessing as mp\n",
    "import time\n",
    "from function import test_function\n",
    "if __name__ == '__main__':\n",
    "    a = time.time()\n",
    "    pool_list = [i for i in crsp_data_c.groupby(by='Ticker')]\n",
    "    pool = mp.Pool(processes=5)\n",
    "    df_list = pool.map(test_function.last_price, pool_list)\n",
    "    b = time.time()\n",
    "    print(b - a)"
   ]
  },
  {
   "cell_type": "code",
   "execution_count": 29,
   "metadata": {},
   "outputs": [],
   "source": [
    "crsp_data_c = pd.concat(df_list)"
   ]
  },
  {
   "cell_type": "code",
   "execution_count": 30,
   "metadata": {},
   "outputs": [],
   "source": [
    "lone_pine_all = lone_pine_a.merge(crsp_data_c, on=['Date', 'Ticker'], how = 'left')"
   ]
  },
  {
   "cell_type": "code",
   "execution_count": 31,
   "metadata": {},
   "outputs": [],
   "source": [
    "for ticker in list(set(list(lone_pine_all['Ticker']))):\n",
    "    if len(lone_pine_a[lone_pine_a['Ticker']==ticker].reset_index(drop=True)) != len(lone_pine_all[lone_pine_all['Ticker']==ticker].reset_index(drop=True)):\n",
    "        drop_df = lone_pine_all[lone_pine_all['Ticker']==ticker].loc[lone_pine_all['Class_x']!=lone_pine_all['Class_y']]\n",
    "        lone_pine_all.drop(list(drop_df.index), inplace=True)"
   ]
  },
  {
   "cell_type": "code",
   "execution_count": 34,
   "metadata": {},
   "outputs": [],
   "source": [
    "error = lone_pine_all[lone_pine_all['PRC'].isnull()]"
   ]
  },
  {
   "cell_type": "code",
   "execution_count": 35,
   "metadata": {
    "scrolled": true
   },
   "outputs": [
    {
     "data": {
      "application/vnd.jupyter.widget-view+json": {
       "model_id": "2d00a86d12574d89aeb81e29f797dbbf",
       "version_major": 2,
       "version_minor": 0
      },
      "text/plain": [
       "HBox(children=(IntProgress(value=0, max=364), HTML(value='')))"
      ]
     },
     "metadata": {},
     "output_type": "display_data"
    },
    {
     "name": "stdout",
     "output_type": "stream",
     "text": [
      "\n"
     ]
    }
   ],
   "source": [
    "test = lone_pine_all\n",
    "new_error = []\n",
    "for index in tqdm_notebook(error.index):\n",
    "    each = error.loc[index]\n",
    "    df = crsp_data[crsp_data['Ticker']==each['Ticker']]\n",
    "    try:\n",
    "        if int(each['Date']) > int(list(df['Date'])[-1]):\n",
    "            test = test.drop(index)\n",
    "        else:\n",
    "            new_error.append(list(each))\n",
    "    except:\n",
    "        new_error.append(list(each))\n",
    "lone_pine_all = test"
   ]
  },
  {
   "cell_type": "code",
   "execution_count": 36,
   "metadata": {
    "scrolled": true
   },
   "outputs": [],
   "source": [
    "new_error = pd.DataFrame(new_error)\n",
    "new_error.columns = lone_pine_all.columns\n",
    "new_error = new_error.sort_values(by='Date').reset_index(drop=True)"
   ]
  },
  {
   "cell_type": "code",
   "execution_count": 37,
   "metadata": {},
   "outputs": [
    {
     "data": {
      "application/vnd.jupyter.widget-view+json": {
       "model_id": "9ddb2755253b442db8ff3f363cf8134a",
       "version_major": 2,
       "version_minor": 0
      },
      "text/plain": [
       "HBox(children=(IntProgress(value=0, max=23), HTML(value='')))"
      ]
     },
     "metadata": {},
     "output_type": "display_data"
    },
    {
     "name": "stderr",
     "output_type": "stream",
     "text": [
      "C:\\Users\\wells\\AppData\\Local\\Continuum\\anaconda3\\lib\\site-packages\\pandas\\core\\indexing.py:543: SettingWithCopyWarning: \n",
      "A value is trying to be set on a copy of a slice from a DataFrame.\n",
      "Try using .loc[row_indexer,col_indexer] = value instead\n",
      "\n",
      "See the caveats in the documentation: http://pandas.pydata.org/pandas-docs/stable/indexing.html#indexing-view-versus-copy\n",
      "  self.obj[item] = s\n"
     ]
    },
    {
     "name": "stdout",
     "output_type": "stream",
     "text": [
      "\n"
     ]
    }
   ],
   "source": [
    "df_list = []\n",
    "for each in tqdm_notebook(new_error.groupby(by='Ticker')):\n",
    "    ticker, df = each\n",
    "    df.loc[:, 'PRC'] = df['price']\n",
    "    df.loc[:, 'Last_PRC'] = df['PRC'].shift()\n",
    "    df_list.append(df)\n",
    "new_error = pd.concat(df_list)"
   ]
  },
  {
   "cell_type": "code",
   "execution_count": 38,
   "metadata": {
    "scrolled": true
   },
   "outputs": [],
   "source": [
    "lone_pine_all = pd.concat([lone_pine_all[lone_pine_all['PRC'].notnull()], new_error], ignore_index=True, sort=False)"
   ]
  },
  {
   "cell_type": "code",
   "execution_count": 40,
   "metadata": {},
   "outputs": [],
   "source": [
    "lone_pine_all = lone_pine_all.sort_values(by=['Ticker', 'Date']).reset_index(drop=True)"
   ]
  },
  {
   "cell_type": "markdown",
   "metadata": {},
   "source": [
    "# industry"
   ]
  },
  {
   "cell_type": "code",
   "execution_count": 144,
   "metadata": {},
   "outputs": [],
   "source": [
    "industry = pd.read_csv('industry2.csv')\n",
    "lone_pine = pd.read_csv('lone_pine.csv')"
   ]
  },
  {
   "cell_type": "code",
   "execution_count": 145,
   "metadata": {
    "scrolled": true
   },
   "outputs": [],
   "source": [
    "lone_pine = lone_pine[['Ticker', 'Class', 'Date']]\n",
    "lone_pine['Ticker'] = lone_pine['Ticker'].astype('str')\n",
    "lone_pine['Class'] = lone_pine['Class'].astype('str')\n",
    "def ab(aa):\n",
    "    if '.' in aa:\n",
    "        return aa.split('.')[0]\n",
    "    if '/' in aa:\n",
    "        return aa.split('/')[0]\n",
    "    else:\n",
    "        return aa\n",
    "lone_pine['Ticker'] = lone_pine['Ticker'].apply(ab)\n",
    "def abc(aa):\n",
    "    aa = aa.split('/')\n",
    "    year = aa[2]\n",
    "    month = aa[0]\n",
    "    day = aa[1]\n",
    "    return year+month\n",
    "lone_pine['Date'] = lone_pine['Date'].apply(abc)\n",
    "lone_pine = lone_pine[lone_pine['Class']!='PUT'].loc[lone_pine['Class']!='CALL']\n",
    "lone_pine = lone_pine[lone_pine['Class']!='put'].loc[lone_pine['Class']!='call']\n",
    "lone_pine = lone_pine[lone_pine['Class']!='Put'].loc[lone_pine['Class']!='Call']\n",
    "def class_3str(df_col):\n",
    "    df_col = df_col.replace(' ', '')\n",
    "    df_col = df_col[0:3]\n",
    "    df_col = df_col.upper()\n",
    "    return df_col\n",
    "lone_pine['Class'] = lone_pine['Class'].apply(class_3str)"
   ]
  },
  {
   "cell_type": "code",
   "execution_count": 147,
   "metadata": {
    "scrolled": true
   },
   "outputs": [],
   "source": [
    "lone_pine_indus = lone_pine.merge(industry[['tic', 'gsector', 'ggroup']], left_on='Ticker', right_on='tic', how='left')"
   ]
  },
  {
   "cell_type": "code",
   "execution_count": 234,
   "metadata": {
    "scrolled": true
   },
   "outputs": [],
   "source": [
    "def indus_sort(data, date):\n",
    "    pre_date = []\n",
    "    date_list = sorted(list(set(data['Date'])))\n",
    "    last_date = int(date[-1])\n",
    "    # insert newest date\n",
    "    if last_date % 4 == 0:\n",
    "        date_list.append(str(last_date+100-12+3))\n",
    "    else:\n",
    "        date_list.append(str(last_date+3))\n",
    "    # get pre 4 seasons date\n",
    "    try:\n",
    "        index = date_list.index(date)\n",
    "        for r in range(4):\n",
    "            if index > 0:\n",
    "                index-=1\n",
    "                pre_date.append(date_list[index])\n",
    "    except:\n",
    "        return 'date error'\n",
    "    \n",
    "    data = data[data['Date'].isin(pre_date)]\n",
    "    data2 = data[data['gsector'].notnull()]\n",
    "    data4 = data[data['ggroup'].notnull()]\n",
    "    \n",
    "    dic2 = {}\n",
    "    for each_gsector in list(data2['gsector']):\n",
    "        if each_gsector not in dic2:\n",
    "            dic2[each_gsector] = 0\n",
    "        dic2[each_gsector]+=1\n",
    "    dic2 = {k: v for k, v in sorted(dic2.items(), reverse=True, key=lambda item: item[1])}\n",
    "    for num in dic2:\n",
    "        dic2[num] = (dic2[num] / len(list(data2[data2['gsector'].notnull()]['gsector'])))*100\n",
    "    dic2_new = {}\n",
    "    percent = 0\n",
    "    dic2_key = list(dic2.keys())\n",
    "    for num in dic2_key:\n",
    "        percent = percent + dic2[num]\n",
    "        dic2_new[num] = dic2[num]\n",
    "        if percent > 80:\n",
    "            break\n",
    "    if len(dic2_new) < 5:\n",
    "        for n in list(dic2)[:5]:\n",
    "            dic2_new[n] = dic2[n]\n",
    "    \n",
    "    dic4 = {}\n",
    "    for each_ggroup in list(data4['ggroup']):\n",
    "        if each_ggroup not in dic4:\n",
    "            dic4[each_ggroup] = 0\n",
    "        dic4[each_ggroup]+=1\n",
    "    dic4 = {k: v for k, v in sorted(dic4.items(), reverse=True, key=lambda item: item[1])}\n",
    "    for num in dic4:\n",
    "        dic4[num] = (dic4[num] / len(list(data4[data4['ggroup'].notnull()]['ggroup'])))*100\n",
    "    dic4_new = {}\n",
    "    dic4_key = list(dic4.keys())\n",
    "    for num in dic4_key:\n",
    "        if dic4[num] > 5:\n",
    "            dic4_new[num] = dic4[num]\n",
    "        else:\n",
    "            break\n",
    "    \n",
    "    return dic2_new, dic4_new"
   ]
  },
  {
   "cell_type": "code",
   "execution_count": 237,
   "metadata": {},
   "outputs": [
    {
     "data": {
      "text/plain": [
       "({45.0: 22.435897435897438,\n",
       "  35.0: 16.666666666666664,\n",
       "  15.0: 11.538461538461538,\n",
       "  25.0: 11.538461538461538,\n",
       "  50.0: 10.897435897435898,\n",
       "  40.0: 10.897435897435898},\n",
       " {4510.0: 14.102564102564102,\n",
       "  1510.0: 11.538461538461538,\n",
       "  4020.0: 9.615384615384617,\n",
       "  3520.0: 8.333333333333332,\n",
       "  2550.0: 8.333333333333332,\n",
       "  3510.0: 8.333333333333332,\n",
       "  1010.0: 7.051282051282051,\n",
       "  2010.0: 6.41025641025641,\n",
       "  5010.0: 5.769230769230769,\n",
       "  4520.0: 5.769230769230769,\n",
       "  5020.0: 5.128205128205128})"
      ]
     },
     "execution_count": 237,
     "metadata": {},
     "output_type": "execute_result"
    }
   ],
   "source": [
    "indus_sort(lone_pine_indus, '200806')"
   ]
  },
  {
   "cell_type": "markdown",
   "metadata": {},
   "source": [
    "# revenue"
   ]
  },
  {
   "cell_type": "code",
   "execution_count": 42,
   "metadata": {
    "scrolled": true
   },
   "outputs": [],
   "source": [
    "lone_pine_all.drop(['Class_x', 'price'], axis=1, inplace=True)\n",
    "lone_pine_all.columns = ['Ticker', 'Date', 'Shares', 'Value', 'Shares_Change', 'Value_Change', 'Price',\n",
    "                         'Class', 'Last_Price']"
   ]
  },
  {
   "cell_type": "code",
   "execution_count": 43,
   "metadata": {},
   "outputs": [
    {
     "name": "stderr",
     "output_type": "stream",
     "text": [
      "C:\\Users\\wells\\AppData\\Local\\Continuum\\anaconda3\\lib\\site-packages\\pandas\\core\\indexing.py:362: SettingWithCopyWarning: \n",
      "A value is trying to be set on a copy of a slice from a DataFrame.\n",
      "Try using .loc[row_indexer,col_indexer] = value instead\n",
      "\n",
      "See the caveats in the documentation: http://pandas.pydata.org/pandas-docs/stable/indexing.html#indexing-view-versus-copy\n",
      "  self.obj[key] = _infer_fill_value(value)\n"
     ]
    }
   ],
   "source": [
    "new_share = lone_pine_all.loc[lone_pine_all['Shares']==lone_pine_all['Shares_Change']]\n",
    "new_share.loc[:,'New_Value'] = new_share['Shares'] * new_share['Price']"
   ]
  },
  {
   "cell_type": "code",
   "execution_count": 44,
   "metadata": {},
   "outputs": [],
   "source": [
    "new_share.to_csv('new_share.csv', index=False)"
   ]
  },
  {
   "cell_type": "code",
   "execution_count": 45,
   "metadata": {},
   "outputs": [],
   "source": [
    "sell_share = lone_pine_all[lone_pine_all['Shares']==0]\n",
    "sell_share.loc[:,'New_Value'] = sell_share['Shares_Change'] * sell_share['Price']"
   ]
  },
  {
   "cell_type": "code",
   "execution_count": 46,
   "metadata": {},
   "outputs": [],
   "source": [
    "sell_share.to_csv('sell_share.csv', index=False)"
   ]
  },
  {
   "cell_type": "code",
   "execution_count": 47,
   "metadata": {},
   "outputs": [],
   "source": [
    "more_share = lone_pine_all[lone_pine_all['Shares_Change']>0].loc[lone_pine_all['Shares']!=lone_pine_all['Shares_Change']]\n",
    "more_share.loc[:,'New_Value'] = more_share['Shares'] * more_share['Price']"
   ]
  },
  {
   "cell_type": "code",
   "execution_count": 48,
   "metadata": {},
   "outputs": [],
   "source": [
    "more_share.to_csv('more_share.csv', index=False)"
   ]
  },
  {
   "cell_type": "code",
   "execution_count": 49,
   "metadata": {},
   "outputs": [],
   "source": [
    "less_share = lone_pine_all[lone_pine_all['Shares_Change']<0].loc[lone_pine_all['Shares']!=0]\n",
    "less_share.loc[:,'New_Value'] = (less_share['Shares'] + abs(less_share['Shares_Change'])) * less_share['Price']"
   ]
  },
  {
   "cell_type": "code",
   "execution_count": 50,
   "metadata": {},
   "outputs": [],
   "source": [
    "less_share.to_csv('less_share.csv', index=False)"
   ]
  },
  {
   "cell_type": "code",
   "execution_count": 51,
   "metadata": {},
   "outputs": [],
   "source": [
    "same_share = lone_pine_all[lone_pine_all['Shares_Change']==0]\n",
    "same_share.loc[:,'New_Value'] = same_share['Shares'] * same_share['Price']"
   ]
  },
  {
   "cell_type": "code",
   "execution_count": 52,
   "metadata": {},
   "outputs": [],
   "source": [
    "same_share.to_csv('same_share.csv', index=False)"
   ]
  },
  {
   "cell_type": "code",
   "execution_count": 53,
   "metadata": {
    "scrolled": true
   },
   "outputs": [],
   "source": [
    "lone_pine_all.loc[:,'New_Value'] = lone_pine_all['Shares'] * lone_pine_all['Price']"
   ]
  },
  {
   "cell_type": "code",
   "execution_count": 54,
   "metadata": {},
   "outputs": [],
   "source": [
    "total_asset = []\n",
    "for date in list(set(lone_pine_all['Date'])):\n",
    "    lone_pine_all_t = lone_pine_all[lone_pine_all['Date']==date]\n",
    "    total_asset.append(sum(lone_pine_all_t['New_Value']))"
   ]
  },
  {
   "cell_type": "code",
   "execution_count": 55,
   "metadata": {},
   "outputs": [],
   "source": [
    "revenue = []\n",
    "for date in list(set(lone_pine_all['Date'])):\n",
    "    lone_pine_all_t = lone_pine_all[lone_pine_all['Date']==date]\n",
    "\n",
    "    sell_shares = lone_pine_all_t[lone_pine_all_t['Shares']==0]\n",
    "    more_shares = lone_pine_all_t[lone_pine_all_t['Shares_Change']>0].loc[lone_pine_all_t['Shares']!=lone_pine_all_t['Shares_Change']]\n",
    "    less_shares = lone_pine_all_t[lone_pine_all_t['Shares_Change']<0].loc[lone_pine_all_t['Shares']!=0]\n",
    "    same_shares = lone_pine_all_t[lone_pine_all_t['Shares_Change']==0]\n",
    "\n",
    "    sell_shares.loc[:,'diff'] = abs(sell_shares['Shares_Change']) * ((sell_shares['Price'] - sell_shares['Last_Price']) / 2)\n",
    "    more_shares.loc[:,'diff'] = (more_shares['Shares'] - more_shares['Shares_Change']) * (more_shares['Price'] - more_shares['Last_Price'])\n",
    "    less_shares.loc[:,'diff'] = less_shares['Shares'] * (less_shares['Price'] - less_shares['Last_Price']) + abs(less_shares['Shares_Change']) * ((less_shares['Price'] - less_shares['Last_Price']) / 2)\n",
    "    same_shares.loc[:,'diff'] = same_shares['Shares'] * (same_shares['Price'] - same_shares['Last_Price'])\n",
    "    \n",
    "    sell_shares = sell_shares[sell_shares['diff'].notnull()]\n",
    "    more_shares = more_shares[more_shares['diff'].notnull()]\n",
    "    less_shares = less_shares[less_shares['diff'].notnull()]\n",
    "    same_shares = same_shares[same_shares['diff'].notnull()]\n",
    "    \n",
    "    revenue.append(sum(sell_shares['diff']) + sum(more_shares['diff']) + sum(less_shares['diff']) + sum(same_shares['diff']))"
   ]
  },
  {
   "cell_type": "code",
   "execution_count": 56,
   "metadata": {
    "scrolled": true
   },
   "outputs": [],
   "source": [
    "revenue_df = pd.DataFrame({'date':list(set(lone_pine_all['Date'])),\n",
    "                          'asset':total_asset,\n",
    "                          'revenue':revenue})"
   ]
  },
  {
   "cell_type": "code",
   "execution_count": 57,
   "metadata": {
    "scrolled": true
   },
   "outputs": [],
   "source": [
    "revenue_df = revenue_df.sort_values(by='date').reset_index(drop=True)"
   ]
  },
  {
   "cell_type": "code",
   "execution_count": 58,
   "metadata": {
    "scrolled": true
   },
   "outputs": [],
   "source": [
    "revenue_df['last_asset'] = revenue_df['asset'].shift()"
   ]
  },
  {
   "cell_type": "code",
   "execution_count": 59,
   "metadata": {
    "scrolled": true
   },
   "outputs": [],
   "source": [
    "revenue_df['return_rate'] = round(revenue_df['revenue'] / revenue_df['last_asset'] * 100, 4)"
   ]
  },
  {
   "cell_type": "code",
   "execution_count": 60,
   "metadata": {
    "scrolled": true
   },
   "outputs": [],
   "source": [
    "revenue_df = revenue_df[0:-2].reset_index(drop=True)"
   ]
  },
  {
   "cell_type": "code",
   "execution_count": 61,
   "metadata": {
    "collapsed": true
   },
   "outputs": [
    {
     "data": {
      "text/html": [
       "<div>\n",
       "<style scoped>\n",
       "    .dataframe tbody tr th:only-of-type {\n",
       "        vertical-align: middle;\n",
       "    }\n",
       "\n",
       "    .dataframe tbody tr th {\n",
       "        vertical-align: top;\n",
       "    }\n",
       "\n",
       "    .dataframe thead th {\n",
       "        text-align: right;\n",
       "    }\n",
       "</style>\n",
       "<table border=\"1\" class=\"dataframe\">\n",
       "  <thead>\n",
       "    <tr style=\"text-align: right;\">\n",
       "      <th></th>\n",
       "      <th>date</th>\n",
       "      <th>asset</th>\n",
       "      <th>revenue</th>\n",
       "      <th>last_asset</th>\n",
       "      <th>return_rate</th>\n",
       "    </tr>\n",
       "  </thead>\n",
       "  <tbody>\n",
       "    <tr>\n",
       "      <th>0</th>\n",
       "      <td>200412</td>\n",
       "      <td>5.495695e+09</td>\n",
       "      <td>0.000000e+00</td>\n",
       "      <td>NaN</td>\n",
       "      <td>NaN</td>\n",
       "    </tr>\n",
       "    <tr>\n",
       "      <th>1</th>\n",
       "      <td>200501</td>\n",
       "      <td>5.393992e+09</td>\n",
       "      <td>-1.017030e+08</td>\n",
       "      <td>5.495695e+09</td>\n",
       "      <td>-1.8506</td>\n",
       "    </tr>\n",
       "    <tr>\n",
       "      <th>2</th>\n",
       "      <td>200502</td>\n",
       "      <td>5.439646e+09</td>\n",
       "      <td>4.565398e+07</td>\n",
       "      <td>5.393992e+09</td>\n",
       "      <td>0.8464</td>\n",
       "    </tr>\n",
       "    <tr>\n",
       "      <th>3</th>\n",
       "      <td>200503</td>\n",
       "      <td>7.240458e+09</td>\n",
       "      <td>-1.092002e+08</td>\n",
       "      <td>5.439646e+09</td>\n",
       "      <td>-2.0075</td>\n",
       "    </tr>\n",
       "    <tr>\n",
       "      <th>4</th>\n",
       "      <td>200504</td>\n",
       "      <td>6.989394e+09</td>\n",
       "      <td>-2.510637e+08</td>\n",
       "      <td>7.240458e+09</td>\n",
       "      <td>-3.4675</td>\n",
       "    </tr>\n",
       "    <tr>\n",
       "      <th>5</th>\n",
       "      <td>200505</td>\n",
       "      <td>7.383804e+09</td>\n",
       "      <td>3.944094e+08</td>\n",
       "      <td>6.989394e+09</td>\n",
       "      <td>5.6430</td>\n",
       "    </tr>\n",
       "    <tr>\n",
       "      <th>6</th>\n",
       "      <td>200506</td>\n",
       "      <td>8.001011e+09</td>\n",
       "      <td>2.845453e+08</td>\n",
       "      <td>7.383804e+09</td>\n",
       "      <td>3.8536</td>\n",
       "    </tr>\n",
       "    <tr>\n",
       "      <th>7</th>\n",
       "      <td>200507</td>\n",
       "      <td>7.954283e+09</td>\n",
       "      <td>-4.672828e+07</td>\n",
       "      <td>8.001011e+09</td>\n",
       "      <td>-0.5840</td>\n",
       "    </tr>\n",
       "    <tr>\n",
       "      <th>8</th>\n",
       "      <td>200508</td>\n",
       "      <td>7.865848e+09</td>\n",
       "      <td>-8.843514e+07</td>\n",
       "      <td>7.954283e+09</td>\n",
       "      <td>-1.1118</td>\n",
       "    </tr>\n",
       "    <tr>\n",
       "      <th>9</th>\n",
       "      <td>200509</td>\n",
       "      <td>7.425471e+09</td>\n",
       "      <td>7.608325e+07</td>\n",
       "      <td>7.865848e+09</td>\n",
       "      <td>0.9673</td>\n",
       "    </tr>\n",
       "    <tr>\n",
       "      <th>10</th>\n",
       "      <td>200510</td>\n",
       "      <td>7.468792e+09</td>\n",
       "      <td>4.332148e+07</td>\n",
       "      <td>7.425471e+09</td>\n",
       "      <td>0.5834</td>\n",
       "    </tr>\n",
       "    <tr>\n",
       "      <th>11</th>\n",
       "      <td>200511</td>\n",
       "      <td>7.749970e+09</td>\n",
       "      <td>2.811773e+08</td>\n",
       "      <td>7.468792e+09</td>\n",
       "      <td>3.7647</td>\n",
       "    </tr>\n",
       "    <tr>\n",
       "      <th>12</th>\n",
       "      <td>200512</td>\n",
       "      <td>6.989340e+09</td>\n",
       "      <td>9.021193e+07</td>\n",
       "      <td>7.749970e+09</td>\n",
       "      <td>1.1640</td>\n",
       "    </tr>\n",
       "    <tr>\n",
       "      <th>13</th>\n",
       "      <td>200601</td>\n",
       "      <td>7.334159e+09</td>\n",
       "      <td>3.448190e+08</td>\n",
       "      <td>6.989340e+09</td>\n",
       "      <td>4.9335</td>\n",
       "    </tr>\n",
       "    <tr>\n",
       "      <th>14</th>\n",
       "      <td>200602</td>\n",
       "      <td>7.287999e+09</td>\n",
       "      <td>-4.616029e+07</td>\n",
       "      <td>7.334159e+09</td>\n",
       "      <td>-0.6294</td>\n",
       "    </tr>\n",
       "    <tr>\n",
       "      <th>15</th>\n",
       "      <td>200603</td>\n",
       "      <td>7.714795e+09</td>\n",
       "      <td>1.903226e+07</td>\n",
       "      <td>7.287999e+09</td>\n",
       "      <td>0.2611</td>\n",
       "    </tr>\n",
       "    <tr>\n",
       "      <th>16</th>\n",
       "      <td>200604</td>\n",
       "      <td>7.559397e+09</td>\n",
       "      <td>-1.553982e+08</td>\n",
       "      <td>7.714795e+09</td>\n",
       "      <td>-2.0143</td>\n",
       "    </tr>\n",
       "    <tr>\n",
       "      <th>17</th>\n",
       "      <td>200605</td>\n",
       "      <td>6.933532e+09</td>\n",
       "      <td>-6.258643e+08</td>\n",
       "      <td>7.559397e+09</td>\n",
       "      <td>-8.2793</td>\n",
       "    </tr>\n",
       "    <tr>\n",
       "      <th>18</th>\n",
       "      <td>200606</td>\n",
       "      <td>6.306461e+09</td>\n",
       "      <td>-1.599973e+08</td>\n",
       "      <td>6.933532e+09</td>\n",
       "      <td>-2.3076</td>\n",
       "    </tr>\n",
       "    <tr>\n",
       "      <th>19</th>\n",
       "      <td>200607</td>\n",
       "      <td>5.955799e+09</td>\n",
       "      <td>-3.506621e+08</td>\n",
       "      <td>6.306461e+09</td>\n",
       "      <td>-5.5604</td>\n",
       "    </tr>\n",
       "    <tr>\n",
       "      <th>20</th>\n",
       "      <td>200608</td>\n",
       "      <td>6.210481e+09</td>\n",
       "      <td>2.546820e+08</td>\n",
       "      <td>5.955799e+09</td>\n",
       "      <td>4.2762</td>\n",
       "    </tr>\n",
       "    <tr>\n",
       "      <th>21</th>\n",
       "      <td>200609</td>\n",
       "      <td>7.030280e+09</td>\n",
       "      <td>2.225408e+08</td>\n",
       "      <td>6.210481e+09</td>\n",
       "      <td>3.5833</td>\n",
       "    </tr>\n",
       "    <tr>\n",
       "      <th>22</th>\n",
       "      <td>200610</td>\n",
       "      <td>7.418201e+09</td>\n",
       "      <td>3.879213e+08</td>\n",
       "      <td>7.030280e+09</td>\n",
       "      <td>5.5179</td>\n",
       "    </tr>\n",
       "    <tr>\n",
       "      <th>23</th>\n",
       "      <td>200611</td>\n",
       "      <td>7.854615e+09</td>\n",
       "      <td>4.364141e+08</td>\n",
       "      <td>7.418201e+09</td>\n",
       "      <td>5.8830</td>\n",
       "    </tr>\n",
       "    <tr>\n",
       "      <th>24</th>\n",
       "      <td>200612</td>\n",
       "      <td>8.008909e+09</td>\n",
       "      <td>-2.826434e+07</td>\n",
       "      <td>7.854615e+09</td>\n",
       "      <td>-0.3598</td>\n",
       "    </tr>\n",
       "    <tr>\n",
       "      <th>25</th>\n",
       "      <td>200701</td>\n",
       "      <td>8.488445e+09</td>\n",
       "      <td>4.795361e+08</td>\n",
       "      <td>8.008909e+09</td>\n",
       "      <td>5.9875</td>\n",
       "    </tr>\n",
       "    <tr>\n",
       "      <th>26</th>\n",
       "      <td>200702</td>\n",
       "      <td>8.366663e+09</td>\n",
       "      <td>-1.217827e+08</td>\n",
       "      <td>8.488445e+09</td>\n",
       "      <td>-1.4347</td>\n",
       "    </tr>\n",
       "    <tr>\n",
       "      <th>27</th>\n",
       "      <td>200703</td>\n",
       "      <td>8.907864e+09</td>\n",
       "      <td>-7.074223e+07</td>\n",
       "      <td>8.366663e+09</td>\n",
       "      <td>-0.8455</td>\n",
       "    </tr>\n",
       "    <tr>\n",
       "      <th>28</th>\n",
       "      <td>200704</td>\n",
       "      <td>9.240568e+09</td>\n",
       "      <td>3.327048e+08</td>\n",
       "      <td>8.907864e+09</td>\n",
       "      <td>3.7350</td>\n",
       "    </tr>\n",
       "    <tr>\n",
       "      <th>29</th>\n",
       "      <td>200705</td>\n",
       "      <td>9.907477e+09</td>\n",
       "      <td>6.669089e+08</td>\n",
       "      <td>9.240568e+09</td>\n",
       "      <td>7.2172</td>\n",
       "    </tr>\n",
       "    <tr>\n",
       "      <th>...</th>\n",
       "      <td>...</td>\n",
       "      <td>...</td>\n",
       "      <td>...</td>\n",
       "      <td>...</td>\n",
       "      <td>...</td>\n",
       "    </tr>\n",
       "    <tr>\n",
       "      <th>151</th>\n",
       "      <td>201707</td>\n",
       "      <td>2.030022e+10</td>\n",
       "      <td>8.938632e+08</td>\n",
       "      <td>1.940636e+10</td>\n",
       "      <td>4.6060</td>\n",
       "    </tr>\n",
       "    <tr>\n",
       "      <th>152</th>\n",
       "      <td>201708</td>\n",
       "      <td>2.076753e+10</td>\n",
       "      <td>4.673054e+08</td>\n",
       "      <td>2.030022e+10</td>\n",
       "      <td>2.3020</td>\n",
       "    </tr>\n",
       "    <tr>\n",
       "      <th>153</th>\n",
       "      <td>201709</td>\n",
       "      <td>2.055540e+10</td>\n",
       "      <td>-1.787201e+08</td>\n",
       "      <td>2.076753e+10</td>\n",
       "      <td>-0.8606</td>\n",
       "    </tr>\n",
       "    <tr>\n",
       "      <th>154</th>\n",
       "      <td>201710</td>\n",
       "      <td>2.123889e+10</td>\n",
       "      <td>6.834924e+08</td>\n",
       "      <td>2.055540e+10</td>\n",
       "      <td>3.3251</td>\n",
       "    </tr>\n",
       "    <tr>\n",
       "      <th>155</th>\n",
       "      <td>201711</td>\n",
       "      <td>2.025834e+10</td>\n",
       "      <td>1.064722e+08</td>\n",
       "      <td>2.123889e+10</td>\n",
       "      <td>0.5013</td>\n",
       "    </tr>\n",
       "    <tr>\n",
       "      <th>156</th>\n",
       "      <td>201712</td>\n",
       "      <td>1.915522e+10</td>\n",
       "      <td>6.211951e+07</td>\n",
       "      <td>2.025834e+10</td>\n",
       "      <td>0.3066</td>\n",
       "    </tr>\n",
       "    <tr>\n",
       "      <th>157</th>\n",
       "      <td>201801</td>\n",
       "      <td>2.115414e+10</td>\n",
       "      <td>1.998923e+09</td>\n",
       "      <td>1.915522e+10</td>\n",
       "      <td>10.4354</td>\n",
       "    </tr>\n",
       "    <tr>\n",
       "      <th>158</th>\n",
       "      <td>201802</td>\n",
       "      <td>1.949848e+10</td>\n",
       "      <td>-6.003503e+08</td>\n",
       "      <td>2.115414e+10</td>\n",
       "      <td>-2.8380</td>\n",
       "    </tr>\n",
       "    <tr>\n",
       "      <th>159</th>\n",
       "      <td>201803</td>\n",
       "      <td>1.974498e+10</td>\n",
       "      <td>-3.130624e+08</td>\n",
       "      <td>1.949848e+10</td>\n",
       "      <td>-1.6056</td>\n",
       "    </tr>\n",
       "    <tr>\n",
       "      <th>160</th>\n",
       "      <td>201804</td>\n",
       "      <td>2.003559e+10</td>\n",
       "      <td>2.906132e+08</td>\n",
       "      <td>1.974498e+10</td>\n",
       "      <td>1.4718</td>\n",
       "    </tr>\n",
       "    <tr>\n",
       "      <th>161</th>\n",
       "      <td>201805</td>\n",
       "      <td>2.093766e+10</td>\n",
       "      <td>9.020700e+08</td>\n",
       "      <td>2.003559e+10</td>\n",
       "      <td>4.5023</td>\n",
       "    </tr>\n",
       "    <tr>\n",
       "      <th>162</th>\n",
       "      <td>201806</td>\n",
       "      <td>1.890861e+10</td>\n",
       "      <td>7.309103e+07</td>\n",
       "      <td>2.093766e+10</td>\n",
       "      <td>0.3491</td>\n",
       "    </tr>\n",
       "    <tr>\n",
       "      <th>163</th>\n",
       "      <td>201807</td>\n",
       "      <td>1.947461e+10</td>\n",
       "      <td>5.659963e+08</td>\n",
       "      <td>1.890861e+10</td>\n",
       "      <td>2.9933</td>\n",
       "    </tr>\n",
       "    <tr>\n",
       "      <th>164</th>\n",
       "      <td>201808</td>\n",
       "      <td>1.979786e+10</td>\n",
       "      <td>3.232477e+08</td>\n",
       "      <td>1.947461e+10</td>\n",
       "      <td>1.6598</td>\n",
       "    </tr>\n",
       "    <tr>\n",
       "      <th>165</th>\n",
       "      <td>201809</td>\n",
       "      <td>1.944476e+10</td>\n",
       "      <td>1.318525e+08</td>\n",
       "      <td>1.979786e+10</td>\n",
       "      <td>0.6660</td>\n",
       "    </tr>\n",
       "    <tr>\n",
       "      <th>166</th>\n",
       "      <td>201810</td>\n",
       "      <td>1.725637e+10</td>\n",
       "      <td>-2.188389e+09</td>\n",
       "      <td>1.944476e+10</td>\n",
       "      <td>-11.2544</td>\n",
       "    </tr>\n",
       "    <tr>\n",
       "      <th>167</th>\n",
       "      <td>201811</td>\n",
       "      <td>1.738531e+10</td>\n",
       "      <td>1.289398e+08</td>\n",
       "      <td>1.725637e+10</td>\n",
       "      <td>0.7472</td>\n",
       "    </tr>\n",
       "    <tr>\n",
       "      <th>168</th>\n",
       "      <td>201812</td>\n",
       "      <td>1.477420e+10</td>\n",
       "      <td>-1.519438e+09</td>\n",
       "      <td>1.738531e+10</td>\n",
       "      <td>-8.7398</td>\n",
       "    </tr>\n",
       "    <tr>\n",
       "      <th>169</th>\n",
       "      <td>201901</td>\n",
       "      <td>1.658866e+10</td>\n",
       "      <td>1.814470e+09</td>\n",
       "      <td>1.477420e+10</td>\n",
       "      <td>12.2813</td>\n",
       "    </tr>\n",
       "    <tr>\n",
       "      <th>170</th>\n",
       "      <td>201902</td>\n",
       "      <td>1.712981e+10</td>\n",
       "      <td>5.411487e+08</td>\n",
       "      <td>1.658866e+10</td>\n",
       "      <td>3.2622</td>\n",
       "    </tr>\n",
       "    <tr>\n",
       "      <th>171</th>\n",
       "      <td>201903</td>\n",
       "      <td>1.710720e+10</td>\n",
       "      <td>5.031306e+08</td>\n",
       "      <td>1.712981e+10</td>\n",
       "      <td>2.9372</td>\n",
       "    </tr>\n",
       "    <tr>\n",
       "      <th>172</th>\n",
       "      <td>201904</td>\n",
       "      <td>1.826440e+10</td>\n",
       "      <td>1.157203e+09</td>\n",
       "      <td>1.710720e+10</td>\n",
       "      <td>6.7644</td>\n",
       "    </tr>\n",
       "    <tr>\n",
       "      <th>173</th>\n",
       "      <td>201905</td>\n",
       "      <td>1.686904e+10</td>\n",
       "      <td>-1.395365e+09</td>\n",
       "      <td>1.826440e+10</td>\n",
       "      <td>-7.6398</td>\n",
       "    </tr>\n",
       "    <tr>\n",
       "      <th>174</th>\n",
       "      <td>201906</td>\n",
       "      <td>1.609887e+10</td>\n",
       "      <td>1.141936e+09</td>\n",
       "      <td>1.686904e+10</td>\n",
       "      <td>6.7694</td>\n",
       "    </tr>\n",
       "    <tr>\n",
       "      <th>175</th>\n",
       "      <td>201907</td>\n",
       "      <td>1.636883e+10</td>\n",
       "      <td>2.699529e+08</td>\n",
       "      <td>1.609887e+10</td>\n",
       "      <td>1.6768</td>\n",
       "    </tr>\n",
       "    <tr>\n",
       "      <th>176</th>\n",
       "      <td>201908</td>\n",
       "      <td>1.602898e+10</td>\n",
       "      <td>-3.398458e+08</td>\n",
       "      <td>1.636883e+10</td>\n",
       "      <td>-2.0762</td>\n",
       "    </tr>\n",
       "    <tr>\n",
       "      <th>177</th>\n",
       "      <td>201909</td>\n",
       "      <td>1.700382e+10</td>\n",
       "      <td>-3.730795e+08</td>\n",
       "      <td>1.602898e+10</td>\n",
       "      <td>-2.3275</td>\n",
       "    </tr>\n",
       "    <tr>\n",
       "      <th>178</th>\n",
       "      <td>201910</td>\n",
       "      <td>1.778132e+10</td>\n",
       "      <td>7.774961e+08</td>\n",
       "      <td>1.700382e+10</td>\n",
       "      <td>4.5725</td>\n",
       "    </tr>\n",
       "    <tr>\n",
       "      <th>179</th>\n",
       "      <td>201911</td>\n",
       "      <td>1.915494e+10</td>\n",
       "      <td>1.373616e+09</td>\n",
       "      <td>1.778132e+10</td>\n",
       "      <td>7.7251</td>\n",
       "    </tr>\n",
       "    <tr>\n",
       "      <th>180</th>\n",
       "      <td>201912</td>\n",
       "      <td>1.866104e+10</td>\n",
       "      <td>5.206634e+08</td>\n",
       "      <td>1.915494e+10</td>\n",
       "      <td>2.7182</td>\n",
       "    </tr>\n",
       "  </tbody>\n",
       "</table>\n",
       "<p>181 rows × 5 columns</p>\n",
       "</div>"
      ],
      "text/plain": [
       "       date         asset       revenue    last_asset  return_rate\n",
       "0    200412  5.495695e+09  0.000000e+00           NaN          NaN\n",
       "1    200501  5.393992e+09 -1.017030e+08  5.495695e+09      -1.8506\n",
       "2    200502  5.439646e+09  4.565398e+07  5.393992e+09       0.8464\n",
       "3    200503  7.240458e+09 -1.092002e+08  5.439646e+09      -2.0075\n",
       "4    200504  6.989394e+09 -2.510637e+08  7.240458e+09      -3.4675\n",
       "5    200505  7.383804e+09  3.944094e+08  6.989394e+09       5.6430\n",
       "6    200506  8.001011e+09  2.845453e+08  7.383804e+09       3.8536\n",
       "7    200507  7.954283e+09 -4.672828e+07  8.001011e+09      -0.5840\n",
       "8    200508  7.865848e+09 -8.843514e+07  7.954283e+09      -1.1118\n",
       "9    200509  7.425471e+09  7.608325e+07  7.865848e+09       0.9673\n",
       "10   200510  7.468792e+09  4.332148e+07  7.425471e+09       0.5834\n",
       "11   200511  7.749970e+09  2.811773e+08  7.468792e+09       3.7647\n",
       "12   200512  6.989340e+09  9.021193e+07  7.749970e+09       1.1640\n",
       "13   200601  7.334159e+09  3.448190e+08  6.989340e+09       4.9335\n",
       "14   200602  7.287999e+09 -4.616029e+07  7.334159e+09      -0.6294\n",
       "15   200603  7.714795e+09  1.903226e+07  7.287999e+09       0.2611\n",
       "16   200604  7.559397e+09 -1.553982e+08  7.714795e+09      -2.0143\n",
       "17   200605  6.933532e+09 -6.258643e+08  7.559397e+09      -8.2793\n",
       "18   200606  6.306461e+09 -1.599973e+08  6.933532e+09      -2.3076\n",
       "19   200607  5.955799e+09 -3.506621e+08  6.306461e+09      -5.5604\n",
       "20   200608  6.210481e+09  2.546820e+08  5.955799e+09       4.2762\n",
       "21   200609  7.030280e+09  2.225408e+08  6.210481e+09       3.5833\n",
       "22   200610  7.418201e+09  3.879213e+08  7.030280e+09       5.5179\n",
       "23   200611  7.854615e+09  4.364141e+08  7.418201e+09       5.8830\n",
       "24   200612  8.008909e+09 -2.826434e+07  7.854615e+09      -0.3598\n",
       "25   200701  8.488445e+09  4.795361e+08  8.008909e+09       5.9875\n",
       "26   200702  8.366663e+09 -1.217827e+08  8.488445e+09      -1.4347\n",
       "27   200703  8.907864e+09 -7.074223e+07  8.366663e+09      -0.8455\n",
       "28   200704  9.240568e+09  3.327048e+08  8.907864e+09       3.7350\n",
       "29   200705  9.907477e+09  6.669089e+08  9.240568e+09       7.2172\n",
       "..      ...           ...           ...           ...          ...\n",
       "151  201707  2.030022e+10  8.938632e+08  1.940636e+10       4.6060\n",
       "152  201708  2.076753e+10  4.673054e+08  2.030022e+10       2.3020\n",
       "153  201709  2.055540e+10 -1.787201e+08  2.076753e+10      -0.8606\n",
       "154  201710  2.123889e+10  6.834924e+08  2.055540e+10       3.3251\n",
       "155  201711  2.025834e+10  1.064722e+08  2.123889e+10       0.5013\n",
       "156  201712  1.915522e+10  6.211951e+07  2.025834e+10       0.3066\n",
       "157  201801  2.115414e+10  1.998923e+09  1.915522e+10      10.4354\n",
       "158  201802  1.949848e+10 -6.003503e+08  2.115414e+10      -2.8380\n",
       "159  201803  1.974498e+10 -3.130624e+08  1.949848e+10      -1.6056\n",
       "160  201804  2.003559e+10  2.906132e+08  1.974498e+10       1.4718\n",
       "161  201805  2.093766e+10  9.020700e+08  2.003559e+10       4.5023\n",
       "162  201806  1.890861e+10  7.309103e+07  2.093766e+10       0.3491\n",
       "163  201807  1.947461e+10  5.659963e+08  1.890861e+10       2.9933\n",
       "164  201808  1.979786e+10  3.232477e+08  1.947461e+10       1.6598\n",
       "165  201809  1.944476e+10  1.318525e+08  1.979786e+10       0.6660\n",
       "166  201810  1.725637e+10 -2.188389e+09  1.944476e+10     -11.2544\n",
       "167  201811  1.738531e+10  1.289398e+08  1.725637e+10       0.7472\n",
       "168  201812  1.477420e+10 -1.519438e+09  1.738531e+10      -8.7398\n",
       "169  201901  1.658866e+10  1.814470e+09  1.477420e+10      12.2813\n",
       "170  201902  1.712981e+10  5.411487e+08  1.658866e+10       3.2622\n",
       "171  201903  1.710720e+10  5.031306e+08  1.712981e+10       2.9372\n",
       "172  201904  1.826440e+10  1.157203e+09  1.710720e+10       6.7644\n",
       "173  201905  1.686904e+10 -1.395365e+09  1.826440e+10      -7.6398\n",
       "174  201906  1.609887e+10  1.141936e+09  1.686904e+10       6.7694\n",
       "175  201907  1.636883e+10  2.699529e+08  1.609887e+10       1.6768\n",
       "176  201908  1.602898e+10 -3.398458e+08  1.636883e+10      -2.0762\n",
       "177  201909  1.700382e+10 -3.730795e+08  1.602898e+10      -2.3275\n",
       "178  201910  1.778132e+10  7.774961e+08  1.700382e+10       4.5725\n",
       "179  201911  1.915494e+10  1.373616e+09  1.778132e+10       7.7251\n",
       "180  201912  1.866104e+10  5.206634e+08  1.915494e+10       2.7182\n",
       "\n",
       "[181 rows x 5 columns]"
      ]
     },
     "execution_count": 61,
     "metadata": {},
     "output_type": "execute_result"
    }
   ],
   "source": [
    "revenue_df"
   ]
  },
  {
   "cell_type": "code",
   "execution_count": 409,
   "metadata": {},
   "outputs": [],
   "source": [
    "revenue_df.to_csv('revenue.csv', index=False)"
   ]
  },
  {
   "cell_type": "markdown",
   "metadata": {},
   "source": [
    "# LinearRegression"
   ]
  },
  {
   "cell_type": "code",
   "execution_count": 342,
   "metadata": {},
   "outputs": [],
   "source": [
    "from sklearn.linear_model import LinearRegression"
   ]
  },
  {
   "cell_type": "code",
   "execution_count": 183,
   "metadata": {},
   "outputs": [],
   "source": [
    "x = fama_3[['Mkt-RF', 'SMB', 'HML']]\n",
    "y = fama_3[['return_rate']]\n",
    "x_train, x_test, y_train, y_test = train_test_split(x, y, test_size=0.25)\n",
    "\n",
    "# sc = StandardScaler()\n",
    "# sc.fit(x_train)  #可以使用計算得到的均值和方差來對訓練資料做標準化處理\n",
    "# x_train_std = sc.transform(x_train)\n",
    "# x_test_std = sc.transform(x_test)"
   ]
  },
  {
   "cell_type": "code",
   "execution_count": 185,
   "metadata": {},
   "outputs": [
    {
     "name": "stdout",
     "output_type": "stream",
     "text": [
      "p-value: [0.5364073564694, 0.7714801695018272, 0.18793909123183322]\n",
      "coef: [-0.57247408  0.23711452 -0.94635621  0.18319545 -0.31237053]\n",
      "score_train: 0.03589049297583946\n",
      "score_prediction: -0.03566527760886751\n",
      "e: 27.781236821420062\n"
     ]
    }
   ],
   "source": [
    "lr = LinearRegression(alpha)\n",
    "lr.fit(x_train_std, y_train['return_rate'].values)\n",
    "y_predict_train = lr.predict(x_train_std)\n",
    "score_train = r2_score(y_train['return_rate'].values, y_predict_train)\n",
    "y_predict = lr.predict(x_test_std)\n",
    "score=r2_score(y_test['return_rate'].values, y_predict)\n",
    "e = mean_squared_error(y_test['return_rate'].values, y_predict)\n",
    "coeff_used = np.sum(lr.coef_!=0)\n",
    "print('p-value:', list(f_regression(x_test, y_predict)[1]))\n",
    "print('coef:', lr.coef_)\n",
    "print('score_train:',score_train)\n",
    "print('score_prediction:',score)\n",
    "print('e:',e)\n",
    "# list(lr.coef_) + [score_train, score, e, coeff_used]"
   ]
  },
  {
   "cell_type": "code",
   "execution_count": 467,
   "metadata": {
    "scrolled": true
   },
   "outputs": [],
   "source": [
    "fama_5 = fama_5.reset_index(drop=True)\n",
    "x = fama_5[['Mkt-RF', 'SMB', 'RMW', 'CMA', 'HML']].values\n",
    "y = fama_5[['return_rate']].values\n",
    "x_train, x_test, y_train, y_test = train_test_split(x, y, test_size=0.25)\n",
    "\n",
    "# sc = StandardScaler()\n",
    "# sc.fit(x_train)  #可以使用計算得到的均值和方差來對訓練資料做標準化處理\n",
    "# x_train_std = sc.transform(x_train)\n",
    "# x_test_std = sc.transform(x_test)"
   ]
  },
  {
   "cell_type": "code",
   "execution_count": 468,
   "metadata": {},
   "outputs": [
    {
     "name": "stderr",
     "output_type": "stream",
     "text": [
      "C:\\Users\\wells\\AppData\\Local\\Continuum\\anaconda3\\lib\\site-packages\\sklearn\\utils\\validation.py:761: DataConversionWarning: A column-vector y was passed when a 1d array was expected. Please change the shape of y to (n_samples, ), for example using ravel().\n",
      "  y = column_or_1d(y, warn=True)\n"
     ]
    },
    {
     "name": "stdout",
     "output_type": "stream",
     "text": [
      "p-value: [1.7077306071700508e-37, 8.60780085941154e-05, 6.892823204276131e-05, 1.9131572454502635e-05, 0.48342675604247676]\n",
      "coef: [[ 1.00505773  0.04930608  0.13185248 -0.5469867  -0.3264541 ]]\n",
      "score_train: 0.6838660785711304\n",
      "score_prediction: 0.8572360985613784\n",
      "e: 8.231465820219352\n",
      "[0.22820167]\n"
     ]
    }
   ],
   "source": [
    "lr = LinearRegression(fit_intercept=True)\n",
    "lr.fit(x, y)\n",
    "y_predict_train = lr.predict(x)\n",
    "score_train = r2_score(y, y_predict_train)\n",
    "# y_predict = lr.predict(x_test)\n",
    "# score=r2_score(y_train['return_rate'].values, y_predict_train)\n",
    "e = mean_squared_error(y, y_predict_train)\n",
    "coeff_used = np.sum(lr.coef_!=0)\n",
    "print('p-value:', list(f_regression(x, y)[1]))\n",
    "print('coef:', lr.coef_)\n",
    "print('score_train:',score_train)\n",
    "print('score_prediction:',score)\n",
    "print('e:',e)\n",
    "print(lr.intercept_)\n",
    "# list(lr.coef_) + [score, e, coeff_used]"
   ]
  },
  {
   "cell_type": "code",
   "execution_count": 469,
   "metadata": {},
   "outputs": [
    {
     "name": "stderr",
     "output_type": "stream",
     "text": [
      "C:\\Users\\wells\\AppData\\Local\\Continuum\\anaconda3\\lib\\site-packages\\sklearn\\utils\\validation.py:761: DataConversionWarning: A column-vector y was passed when a 1d array was expected. Please change the shape of y to (n_samples, ), for example using ravel().\n",
      "  y = column_or_1d(y, warn=True)\n"
     ]
    },
    {
     "data": {
      "text/plain": [
       "(array([271.36490153,  16.1630756 ,  16.62366372,  19.31340754,\n",
       "          0.49320973]),\n",
       " array([1.70773061e-37, 8.60780086e-05, 6.89282320e-05, 1.91315725e-05,\n",
       "        4.83426756e-01]))"
      ]
     },
     "execution_count": 469,
     "metadata": {},
     "output_type": "execute_result"
    }
   ],
   "source": [
    "f_regression(x,y)"
   ]
  },
  {
   "cell_type": "code",
   "execution_count": null,
   "metadata": {},
   "outputs": [],
   "source": []
  },
  {
   "cell_type": "code",
   "execution_count": null,
   "metadata": {},
   "outputs": [],
   "source": []
  },
  {
   "cell_type": "code",
   "execution_count": null,
   "metadata": {},
   "outputs": [],
   "source": []
  },
  {
   "cell_type": "code",
   "execution_count": null,
   "metadata": {},
   "outputs": [],
   "source": []
  },
  {
   "cell_type": "code",
   "execution_count": null,
   "metadata": {},
   "outputs": [],
   "source": []
  },
  {
   "cell_type": "code",
   "execution_count": 110,
   "metadata": {},
   "outputs": [],
   "source": [
    "p1 = [93]\n",
    "p2 = [85, 84, 73, 88, 80, 85, 77, 68, 95, 80, 92, 90, 78, 95, 94, 84, 72, 81]\n",
    "p3 = [80, 73, 78, 78, 74, 79, 96, 74, 90, 90, 82, 88, 82, 90, 82, 92, 88, 96, 87, 91, 92, 86, 98]"
   ]
  },
  {
   "cell_type": "code",
   "execution_count": 111,
   "metadata": {},
   "outputs": [],
   "source": [
    "def point_change(n):\n",
    "    if 80 <= n <= 100:\n",
    "        return 4\n",
    "    elif 70 <= n < 80:\n",
    "        return 3\n",
    "    elif 60 <= n < 70:\n",
    "        return 2\n",
    "    else:\n",
    "        return 1\n",
    "for i in range(len(p1)):\n",
    "    p1[i] = point_change(p1[i])\n",
    "for i in range(len(p2)):\n",
    "    p2[i] = point_change(p2[i])\n",
    "for i in range(len(p3)):\n",
    "    p3[i] = point_change(p3[i])"
   ]
  },
  {
   "cell_type": "code",
   "execution_count": 472,
   "metadata": {},
   "outputs": [
    {
     "data": {
      "text/plain": [
       "3.7169811320754715"
      ]
     },
     "execution_count": 472,
     "metadata": {},
     "output_type": "execute_result"
    }
   ],
   "source": [
    "(sum(p1)*1 + sum(p2)*2 + sum(p3)*3) / (len(p1)*1 + len(p2)*2 + len(p3)*3)"
   ]
  },
  {
   "cell_type": "code",
   "execution_count": null,
   "metadata": {},
   "outputs": [],
   "source": []
  }
 ],
 "metadata": {
  "kernelspec": {
   "display_name": "Python 3",
   "language": "python",
   "name": "python3"
  },
  "language_info": {
   "codemirror_mode": {
    "name": "ipython",
    "version": 3
   },
   "file_extension": ".py",
   "mimetype": "text/x-python",
   "name": "python",
   "nbconvert_exporter": "python",
   "pygments_lexer": "ipython3",
   "version": "3.7.3"
  }
 },
 "nbformat": 4,
 "nbformat_minor": 2
}
