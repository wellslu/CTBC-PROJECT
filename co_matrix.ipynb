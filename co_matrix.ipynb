{
 "cells": [
  {
   "cell_type": "markdown",
   "metadata": {},
   "source": [
    "# make co-matrix"
   ]
  },
  {
   "cell_type": "code",
   "execution_count": 18,
   "metadata": {},
   "outputs": [],
   "source": [
    "import pandas as pd\n",
    "from tqdm import tqdm_notebook\n",
    "\n",
    "from mlxtend.preprocessing import TransactionEncoder\n",
    "\n",
    "with open('./co_matrix.txt'. 'r') as f:\n",
    "    co_matrix = f.read()\n",
    "\n",
    "te = TransactionEncoder()\n",
    "te_ary = te.fit(co_matrix).transform(co_matrix)\n",
    "df = pd.DataFrame(te_ary, columns=te.columns_)"
   ]
  },
  {
   "cell_type": "code",
   "execution_count": 67,
   "metadata": {
    "scrolled": true
   },
   "outputs": [],
   "source": [
    "df = df.drop('', axis=1)"
   ]
  },
  {
   "cell_type": "code",
   "execution_count": 4,
   "metadata": {},
   "outputs": [],
   "source": [
    "col = list(df.columns)\n",
    "co_matrix_df = pd.DataFrame(columns=col)\n",
    "co_matrix_weight = []\n",
    "for index in tqdm_notebook(col):\n",
    "    line_list = []\n",
    "    for df_label in col:\n",
    "        if index == df_label:\n",
    "            line_list.append(0)\n",
    "#             co_matrix_weight.append([index, df_label, 0])\n",
    "        else:\n",
    "            df1 = df[df[index] == True]\n",
    "            df1 = df1[df1[df_label] == True]\n",
    "            line_list.append(len(df1))\n",
    "#             co_matrix_weight.append([index, df_label, len(df1)])\n",
    "            if len(df1) >= 0:\n",
    "                co_matrix_weight.append([index, df_label, len(df1)])\n",
    "        \n",
    "    co_matrix_df.loc[index] = line_list"
   ]
  },
  {
   "cell_type": "code",
   "execution_count": 120,
   "metadata": {
    "scrolled": true
   },
   "outputs": [],
   "source": [
    "co_matrix_df = co_matrix_df.fillna(0)"
   ]
  },
  {
   "cell_type": "code",
   "execution_count": 121,
   "metadata": {},
   "outputs": [],
   "source": [
    "# import numpy as np\n",
    "# co_matrix_df = co_matrix_df.replace(0,np.nan)"
   ]
  },
  {
   "cell_type": "code",
   "execution_count": 122,
   "metadata": {},
   "outputs": [],
   "source": [
    "import seaborn as sns"
   ]
  },
  {
   "cell_type": "code",
   "execution_count": 1,
   "metadata": {},
   "outputs": [],
   "source": [
    "# 圖示結果請參考img/img1.png\n",
    "plt.figure(figsize=(6,6))\n",
    "sns.heatmap(co_matrix_df,mask=co_matrix_df < 1,cmap='GnBu')\n",
    "plt.title('stock', size = 14)\n",
    "plt.suptitle('feature heat map',x = 0.435,y=0.95, fontsize=18)"
   ]
  },
  {
   "cell_type": "markdown",
   "metadata": {},
   "source": [
    "# co-occurrence graph"
   ]
  },
  {
   "cell_type": "code",
   "execution_count": 22,
   "metadata": {},
   "outputs": [],
   "source": [
    "from matplotlib import pyplot as plt\n",
    "import networkx as nx"
   ]
  },
  {
   "cell_type": "code",
   "execution_count": 2,
   "metadata": {},
   "outputs": [],
   "source": [
    "# 圖示結果請參考img/img2.png\n",
    "plt.figure(figsize=(15,10))\n",
    "plt.rcParams['font.sans-serif'] = ['SimHei']   \n",
    "plt.rcParams['font.family']='sans-serif'\n",
    "g = nx.Graph()\n",
    "g.add_weighted_edges_from(co_matrix_weight)\n",
    "pos=nx.spring_layout(g)\n",
    "nx.draw_networkx_nodes(g, pos, alpha=0.5,node_size=[val*60 for (node, val) in g.degree()], node_color='#08c5b1')\n",
    "nx.draw_networkx_edges(g, pos, node_color='b', alpha=0.2)\n",
    "# for p in pos:  # raise text positions\n",
    "#     pos[p][1] = pos[p][1] + 0.03\n",
    "nx.draw_networkx_labels(g, pos, font_size = 10, font_family='sans-serif', alpha=0.8)\n",
    "plt.title('stock info co-matrix', size = 10)\n",
    "plt.suptitle('stock',x = 0.51,y=0.92, fontsize=20)\n",
    "#plt.savefig(\"用詞共線圖_以每筆通聯紀錄為一句.png\", dpi=100)\n",
    "plt.show()"
   ]
  },
  {
   "cell_type": "code",
   "execution_count": 108,
   "metadata": {},
   "outputs": [],
   "source": [
    "co_matrix_weight_n = []\n",
    "for each in co_matrix_weight:\n",
    "    if each[2] > 20:\n",
    "        co_matrix_weight_n.append(each)"
   ]
  },
  {
   "cell_type": "code",
   "execution_count": 109,
   "metadata": {},
   "outputs": [],
   "source": [
    "edges = g.edges()\n",
    "weights = [g[u][v]['weight'] for u,v in edges]\n",
    "\n",
    "n_weights = []\n",
    "for i in weights:\n",
    "    n_weights.append((i-min(weights))/(max(weights)-min(weights)))"
   ]
  },
  {
   "cell_type": "code",
   "execution_count": 3,
   "metadata": {},
   "outputs": [],
   "source": [
    "# 圖示結果請參考img/img3.png\n",
    "plt.figure(figsize=(15,10))\n",
    "plt.rcParams['font.sans-serif'] = ['SimHei']   \n",
    "plt.rcParams['font.family']='sans-serif'\n",
    "g = nx.Graph()\n",
    "g.add_weighted_edges_from(co_matrix_weight_n)\n",
    "pos=nx.spring_layout(g)\n",
    "nx.draw_networkx_nodes(g, pos, alpha=0.5,node_size=[val**2*10 for (node, val) in g.degree()], node_color='#08c5b1')\n",
    "nx.draw_networkx_edges(g, pos, width=n_weights, node_color='b', alpha=1)\n",
    "# for p in pos:  # raise text positions\n",
    "#     pos[p][1] = pos[p][1] + 0.03\n",
    "nx.draw_networkx_labels(g, pos, font_size = 10, font_family='sans-serif', alpha=0.8)\n",
    "plt.title('stock info co-matrix', size = 10)\n",
    "plt.suptitle('stock',x = 0.51,y=0.92, fontsize=20)\n",
    "#plt.savefig(\"用詞共線圖_以每筆通聯紀錄為一句.png\", dpi=100)\n",
    "plt.show()"
   ]
  },
  {
   "cell_type": "code",
   "execution_count": null,
   "metadata": {},
   "outputs": [],
   "source": []
  }
 ],
 "metadata": {
  "kernelspec": {
   "display_name": "Python 3 (ipykernel)",
   "language": "python",
   "name": "python3"
  },
  "language_info": {
   "codemirror_mode": {
    "name": "ipython",
    "version": 3
   },
   "file_extension": ".py",
   "mimetype": "text/x-python",
   "name": "python",
   "nbconvert_exporter": "python",
   "pygments_lexer": "ipython3",
   "version": "3.9.12"
  }
 },
 "nbformat": 4,
 "nbformat_minor": 2
}
