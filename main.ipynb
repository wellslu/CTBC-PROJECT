{
 "cells": [
  {
   "cell_type": "code",
   "execution_count": 1,
   "metadata": {
    "scrolled": true
   },
   "outputs": [
    {
     "name": "stdout",
     "output_type": "stream",
     "text": [
      "要爬蟲選1，預測投組選2: 2\n",
      "本月月份(結果為預期下個月的投組): 200704\n"
     ]
    },
    {
     "name": "stderr",
     "output_type": "stream",
     "text": [
      "C:\\Users\\wells\\AppData\\Local\\Continuum\\anaconda3\\lib\\site-packages\\pandas\\core\\indexing.py:543: SettingWithCopyWarning: \n",
      "A value is trying to be set on a copy of a slice from a DataFrame.\n",
      "Try using .loc[row_indexer,col_indexer] = value instead\n",
      "\n",
      "See the caveats in the documentation: http://pandas.pydata.org/pandas-docs/stable/indexing.html#indexing-view-versus-copy\n",
      "  self.obj[item] = s\n"
     ]
    },
    {
     "name": "stdout",
     "output_type": "stream",
     "text": [
      "37.97752523422241\n",
      "41.82097005844116\n"
     ]
    },
    {
     "ename": "ValueError",
     "evalue": "Found array with 0 sample(s) (shape=(0, 6)) while a minimum of 1 is required.",
     "output_type": "error",
     "traceback": [
      "\u001b[1;31m---------------------------------------------------------------------------\u001b[0m",
      "\u001b[1;31mValueError\u001b[0m                                Traceback (most recent call last)",
      "\u001b[1;32m<ipython-input-1-c5ad06314074>\u001b[0m in \u001b[0;36m<module>\u001b[1;34m\u001b[0m\n\u001b[0;32m     59\u001b[0m     \u001b[0mrft_clf\u001b[0m \u001b[1;33m=\u001b[0m \u001b[0mtool\u001b[0m\u001b[1;33m.\u001b[0m\u001b[0mrft_model\u001b[0m\u001b[1;33m(\u001b[0m\u001b[0mx\u001b[0m\u001b[1;33m,\u001b[0m \u001b[0my\u001b[0m\u001b[1;33m)\u001b[0m\u001b[1;33m\u001b[0m\u001b[1;33m\u001b[0m\u001b[0m\n\u001b[0;32m     60\u001b[0m     \u001b[1;32mif\u001b[0m \u001b[0mrft_clf\u001b[0m \u001b[1;32mis\u001b[0m \u001b[1;32mnot\u001b[0m \u001b[1;32mFalse\u001b[0m\u001b[1;33m:\u001b[0m\u001b[1;33m\u001b[0m\u001b[1;33m\u001b[0m\u001b[0m\n\u001b[1;32m---> 61\u001b[1;33m         \u001b[0my_pred\u001b[0m \u001b[1;33m=\u001b[0m \u001b[0mrft_clf\u001b[0m\u001b[1;33m.\u001b[0m\u001b[0mpredict\u001b[0m\u001b[1;33m(\u001b[0m\u001b[0mx_test\u001b[0m\u001b[1;33m)\u001b[0m\u001b[1;33m\u001b[0m\u001b[1;33m\u001b[0m\u001b[0m\n\u001b[0m\u001b[0;32m     62\u001b[0m         \u001b[0mtesting_data\u001b[0m\u001b[1;33m.\u001b[0m\u001b[0mloc\u001b[0m\u001b[1;33m[\u001b[0m\u001b[1;33m:\u001b[0m\u001b[1;33m,\u001b[0m \u001b[1;34m'rtf'\u001b[0m\u001b[1;33m]\u001b[0m \u001b[1;33m=\u001b[0m \u001b[0my_pred\u001b[0m\u001b[1;33m\u001b[0m\u001b[1;33m\u001b[0m\u001b[0m\n\u001b[0;32m     63\u001b[0m         \u001b[0mtesting_data\u001b[0m \u001b[1;33m=\u001b[0m \u001b[0mtesting_data\u001b[0m\u001b[1;33m[\u001b[0m\u001b[0mtesting_data\u001b[0m\u001b[1;33m[\u001b[0m\u001b[1;34m'rtf'\u001b[0m\u001b[1;33m]\u001b[0m\u001b[1;33m==\u001b[0m\u001b[1;36m1\u001b[0m\u001b[1;33m]\u001b[0m\u001b[1;33m\u001b[0m\u001b[1;33m\u001b[0m\u001b[0m\n",
      "\u001b[1;32m~\\AppData\\Local\\Continuum\\anaconda3\\lib\\site-packages\\sklearn\\ensemble\\_forest.py\u001b[0m in \u001b[0;36mpredict\u001b[1;34m(self, X)\u001b[0m\n\u001b[0;32m    627\u001b[0m             \u001b[0mThe\u001b[0m \u001b[0mpredicted\u001b[0m \u001b[0mclasses\u001b[0m\u001b[1;33m.\u001b[0m\u001b[1;33m\u001b[0m\u001b[1;33m\u001b[0m\u001b[0m\n\u001b[0;32m    628\u001b[0m         \"\"\"\n\u001b[1;32m--> 629\u001b[1;33m         \u001b[0mproba\u001b[0m \u001b[1;33m=\u001b[0m \u001b[0mself\u001b[0m\u001b[1;33m.\u001b[0m\u001b[0mpredict_proba\u001b[0m\u001b[1;33m(\u001b[0m\u001b[0mX\u001b[0m\u001b[1;33m)\u001b[0m\u001b[1;33m\u001b[0m\u001b[1;33m\u001b[0m\u001b[0m\n\u001b[0m\u001b[0;32m    630\u001b[0m \u001b[1;33m\u001b[0m\u001b[0m\n\u001b[0;32m    631\u001b[0m         \u001b[1;32mif\u001b[0m \u001b[0mself\u001b[0m\u001b[1;33m.\u001b[0m\u001b[0mn_outputs_\u001b[0m \u001b[1;33m==\u001b[0m \u001b[1;36m1\u001b[0m\u001b[1;33m:\u001b[0m\u001b[1;33m\u001b[0m\u001b[1;33m\u001b[0m\u001b[0m\n",
      "\u001b[1;32m~\\AppData\\Local\\Continuum\\anaconda3\\lib\\site-packages\\sklearn\\ensemble\\_forest.py\u001b[0m in \u001b[0;36mpredict_proba\u001b[1;34m(self, X)\u001b[0m\n\u001b[0;32m    671\u001b[0m         \u001b[0mcheck_is_fitted\u001b[0m\u001b[1;33m(\u001b[0m\u001b[0mself\u001b[0m\u001b[1;33m)\u001b[0m\u001b[1;33m\u001b[0m\u001b[1;33m\u001b[0m\u001b[0m\n\u001b[0;32m    672\u001b[0m         \u001b[1;31m# Check data\u001b[0m\u001b[1;33m\u001b[0m\u001b[1;33m\u001b[0m\u001b[1;33m\u001b[0m\u001b[0m\n\u001b[1;32m--> 673\u001b[1;33m         \u001b[0mX\u001b[0m \u001b[1;33m=\u001b[0m \u001b[0mself\u001b[0m\u001b[1;33m.\u001b[0m\u001b[0m_validate_X_predict\u001b[0m\u001b[1;33m(\u001b[0m\u001b[0mX\u001b[0m\u001b[1;33m)\u001b[0m\u001b[1;33m\u001b[0m\u001b[1;33m\u001b[0m\u001b[0m\n\u001b[0m\u001b[0;32m    674\u001b[0m \u001b[1;33m\u001b[0m\u001b[0m\n\u001b[0;32m    675\u001b[0m         \u001b[1;31m# Assign chunk of trees to jobs\u001b[0m\u001b[1;33m\u001b[0m\u001b[1;33m\u001b[0m\u001b[1;33m\u001b[0m\u001b[0m\n",
      "\u001b[1;32m~\\AppData\\Local\\Continuum\\anaconda3\\lib\\site-packages\\sklearn\\ensemble\\_forest.py\u001b[0m in \u001b[0;36m_validate_X_predict\u001b[1;34m(self, X)\u001b[0m\n\u001b[0;32m    419\u001b[0m         \u001b[0mcheck_is_fitted\u001b[0m\u001b[1;33m(\u001b[0m\u001b[0mself\u001b[0m\u001b[1;33m)\u001b[0m\u001b[1;33m\u001b[0m\u001b[1;33m\u001b[0m\u001b[0m\n\u001b[0;32m    420\u001b[0m \u001b[1;33m\u001b[0m\u001b[0m\n\u001b[1;32m--> 421\u001b[1;33m         \u001b[1;32mreturn\u001b[0m \u001b[0mself\u001b[0m\u001b[1;33m.\u001b[0m\u001b[0mestimators_\u001b[0m\u001b[1;33m[\u001b[0m\u001b[1;36m0\u001b[0m\u001b[1;33m]\u001b[0m\u001b[1;33m.\u001b[0m\u001b[0m_validate_X_predict\u001b[0m\u001b[1;33m(\u001b[0m\u001b[0mX\u001b[0m\u001b[1;33m,\u001b[0m \u001b[0mcheck_input\u001b[0m\u001b[1;33m=\u001b[0m\u001b[1;32mTrue\u001b[0m\u001b[1;33m)\u001b[0m\u001b[1;33m\u001b[0m\u001b[1;33m\u001b[0m\u001b[0m\n\u001b[0m\u001b[0;32m    422\u001b[0m \u001b[1;33m\u001b[0m\u001b[0m\n\u001b[0;32m    423\u001b[0m     \u001b[1;33m@\u001b[0m\u001b[0mproperty\u001b[0m\u001b[1;33m\u001b[0m\u001b[1;33m\u001b[0m\u001b[0m\n",
      "\u001b[1;32m~\\AppData\\Local\\Continuum\\anaconda3\\lib\\site-packages\\sklearn\\tree\\_classes.py\u001b[0m in \u001b[0;36m_validate_X_predict\u001b[1;34m(self, X, check_input)\u001b[0m\n\u001b[0;32m    386\u001b[0m         \u001b[1;34m\"\"\"Validate X whenever one tries to predict, apply, predict_proba\"\"\"\u001b[0m\u001b[1;33m\u001b[0m\u001b[1;33m\u001b[0m\u001b[0m\n\u001b[0;32m    387\u001b[0m         \u001b[1;32mif\u001b[0m \u001b[0mcheck_input\u001b[0m\u001b[1;33m:\u001b[0m\u001b[1;33m\u001b[0m\u001b[1;33m\u001b[0m\u001b[0m\n\u001b[1;32m--> 388\u001b[1;33m             \u001b[0mX\u001b[0m \u001b[1;33m=\u001b[0m \u001b[0mcheck_array\u001b[0m\u001b[1;33m(\u001b[0m\u001b[0mX\u001b[0m\u001b[1;33m,\u001b[0m \u001b[0mdtype\u001b[0m\u001b[1;33m=\u001b[0m\u001b[0mDTYPE\u001b[0m\u001b[1;33m,\u001b[0m \u001b[0maccept_sparse\u001b[0m\u001b[1;33m=\u001b[0m\u001b[1;34m\"csr\"\u001b[0m\u001b[1;33m)\u001b[0m\u001b[1;33m\u001b[0m\u001b[1;33m\u001b[0m\u001b[0m\n\u001b[0m\u001b[0;32m    389\u001b[0m             if issparse(X) and (X.indices.dtype != np.intc or\n\u001b[0;32m    390\u001b[0m                                 X.indptr.dtype != np.intc):\n",
      "\u001b[1;32m~\\AppData\\Local\\Continuum\\anaconda3\\lib\\site-packages\\sklearn\\utils\\validation.py\u001b[0m in \u001b[0;36minner_f\u001b[1;34m(*args, **kwargs)\u001b[0m\n\u001b[0;32m     71\u001b[0m                           FutureWarning)\n\u001b[0;32m     72\u001b[0m         \u001b[0mkwargs\u001b[0m\u001b[1;33m.\u001b[0m\u001b[0mupdate\u001b[0m\u001b[1;33m(\u001b[0m\u001b[1;33m{\u001b[0m\u001b[0mk\u001b[0m\u001b[1;33m:\u001b[0m \u001b[0marg\u001b[0m \u001b[1;32mfor\u001b[0m \u001b[0mk\u001b[0m\u001b[1;33m,\u001b[0m \u001b[0marg\u001b[0m \u001b[1;32min\u001b[0m \u001b[0mzip\u001b[0m\u001b[1;33m(\u001b[0m\u001b[0msig\u001b[0m\u001b[1;33m.\u001b[0m\u001b[0mparameters\u001b[0m\u001b[1;33m,\u001b[0m \u001b[0margs\u001b[0m\u001b[1;33m)\u001b[0m\u001b[1;33m}\u001b[0m\u001b[1;33m)\u001b[0m\u001b[1;33m\u001b[0m\u001b[1;33m\u001b[0m\u001b[0m\n\u001b[1;32m---> 73\u001b[1;33m         \u001b[1;32mreturn\u001b[0m \u001b[0mf\u001b[0m\u001b[1;33m(\u001b[0m\u001b[1;33m**\u001b[0m\u001b[0mkwargs\u001b[0m\u001b[1;33m)\u001b[0m\u001b[1;33m\u001b[0m\u001b[1;33m\u001b[0m\u001b[0m\n\u001b[0m\u001b[0;32m     74\u001b[0m     \u001b[1;32mreturn\u001b[0m \u001b[0minner_f\u001b[0m\u001b[1;33m\u001b[0m\u001b[1;33m\u001b[0m\u001b[0m\n\u001b[0;32m     75\u001b[0m \u001b[1;33m\u001b[0m\u001b[0m\n",
      "\u001b[1;32m~\\AppData\\Local\\Continuum\\anaconda3\\lib\\site-packages\\sklearn\\utils\\validation.py\u001b[0m in \u001b[0;36mcheck_array\u001b[1;34m(array, accept_sparse, accept_large_sparse, dtype, order, copy, force_all_finite, ensure_2d, allow_nd, ensure_min_samples, ensure_min_features, estimator)\u001b[0m\n\u001b[0;32m    652\u001b[0m                              \u001b[1;34m\" minimum of %d is required%s.\"\u001b[0m\u001b[1;33m\u001b[0m\u001b[1;33m\u001b[0m\u001b[0m\n\u001b[0;32m    653\u001b[0m                              % (n_samples, array.shape, ensure_min_samples,\n\u001b[1;32m--> 654\u001b[1;33m                                 context))\n\u001b[0m\u001b[0;32m    655\u001b[0m \u001b[1;33m\u001b[0m\u001b[0m\n\u001b[0;32m    656\u001b[0m     \u001b[1;32mif\u001b[0m \u001b[0mensure_min_features\u001b[0m \u001b[1;33m>\u001b[0m \u001b[1;36m0\u001b[0m \u001b[1;32mand\u001b[0m \u001b[0marray\u001b[0m\u001b[1;33m.\u001b[0m\u001b[0mndim\u001b[0m \u001b[1;33m==\u001b[0m \u001b[1;36m2\u001b[0m\u001b[1;33m:\u001b[0m\u001b[1;33m\u001b[0m\u001b[1;33m\u001b[0m\u001b[0m\n",
      "\u001b[1;31mValueError\u001b[0m: Found array with 0 sample(s) (shape=(0, 6)) while a minimum of 1 is required."
     ]
    }
   ],
   "source": [
    "import time\n",
    "a = time.time()\n",
    "import pandas as pd\n",
    "import numpy as np\n",
    "\n",
    "key = input('要爬蟲選1，預測投組選2: ')\n",
    "if key == '1':\n",
    "    from tool_class import Tool\n",
    "    website = input('爬蟲網址 ex:https://www.rocketfinancial.com/Holdings.aspx?fID=250: ')\n",
    "    f13_data = Tool.crawler(website)\n",
    "    f13_data.to_csv('lone_pine.csv', index=False)\n",
    "elif key == '2':\n",
    "    import tool_class\n",
    "    f13_data = pd.read_csv('lone_pine.csv')\n",
    "    price_data = pd.read_csv('liquidity+highlow+class.csv', encoding='utf8', low_memory=False)\n",
    "    industry = pd.read_csv('industry2.csv')\n",
    "    asset = pd.read_csv('asset and book value.csv')\n",
    "\n",
    "    date = input('本月月份(結果為預期下個月的投組): ')\n",
    "    tool = tool_class.Tool(f13_data, price_data, industry, asset, date)\n",
    "\n",
    "    feature_data = tool.training_set()\n",
    "    b = time.time()\n",
    "    print(b-a)\n",
    "    testing_data = tool.testing_set()\n",
    "    b = time.time()\n",
    "    print(b-a)\n",
    "    last_buy_count = len(feature_data[feature_data['buy']==1])\n",
    "    not_buy_count = len(feature_data[feature_data['buy']==0])\n",
    "    start = last_buy_count+1\n",
    "\n",
    "    while start + last_buy_count * 3 < len(feature_data):\n",
    "        t_data = pd.concat([feature_data[:last_buy_count],feature_data[start:start+int(last_buy_count*1.5)]])\n",
    "        x = t_data[['volatility', 'liquidity', '52 week high', 'momentum', 'new_mom', 'new_52']].values\n",
    "        y = t_data[['buy']].values\n",
    "        x_test = testing_data[['volatility', 'liquidity', '52 week high', 'momentum', 'new_mom', 'new_52']].values\n",
    "        svc_clf = tool.svc_model(x, y)\n",
    "        if svc_clf is not False:\n",
    "            y_pred = svc_clf.predict(x_test)\n",
    "            testing_data.loc[:, 'svc'] = y_pred\n",
    "            testing_data = testing_data[testing_data['svc']==1]\n",
    "        x_test = testing_data[['volatility', 'liquidity', '52 week high', 'momentum', 'new_mom', 'new_52']].values\n",
    "        rft_clf = tool.rft_model(x, y)\n",
    "        if rft_clf is not False:\n",
    "            y_pred = rft_clf.predict(x_test)\n",
    "            testing_data.loc[:, 'rtf'] = y_pred\n",
    "            testing_data = testing_data[testing_data['rtf']==1]\n",
    "        start = start+int(last_buy_count*1.5)\n",
    "    t_data = pd.concat([feature_data[:last_buy_count],feature_data[start:]])\n",
    "    x = t_data[['volatility', 'liquidity', '52 week high', 'momentum', 'new_mom', 'new_52']].values\n",
    "    y = t_data[['buy']].values\n",
    "    x_test = testing_data[['volatility', 'liquidity', '52 week high', 'momentum', 'new_mom', 'new_52']].values\n",
    "    svc_clf = tool.svc_model(x, y)\n",
    "    if svc_clf is not False:\n",
    "        y_pred = svc_clf.predict(x_test)\n",
    "        testing_data.loc[:, 'svc'] = y_pred\n",
    "        testing_data = testing_data[testing_data['svc']==1]\n",
    "    x_test = testing_data[['volatility', 'liquidity', '52 week high', 'momentum', 'new_mom', 'new_52']].values\n",
    "    rft_clf = tool.rft_model(x, y)\n",
    "    if rft_clf is not False:\n",
    "        y_pred = rft_clf.predict(x_test)\n",
    "        testing_data.loc[:, 'rtf'] = y_pred\n",
    "        testing_data = testing_data[testing_data['rtf']==1]\n",
    "\n",
    "    print(list(testing_data['ticker']))\n",
    "    \n",
    "b = time.time()\n",
    "print(b-a)"
   ]
  },
  {
   "cell_type": "code",
   "execution_count": 2,
   "metadata": {},
   "outputs": [],
   "source": [
    "a_date = []\n",
    "for i in range(200501, 201913, 1):\n",
    "    i = str(i)\n",
    "    if 1 <= int(i[4:]) <= 12:\n",
    "        a_date.append(i)"
   ]
  },
  {
   "cell_type": "code",
   "execution_count": null,
   "metadata": {
    "scrolled": true
   },
   "outputs": [
    {
     "name": "stdout",
     "output_type": "stream",
     "text": [
      "200501\n"
     ]
    },
    {
     "name": "stderr",
     "output_type": "stream",
     "text": [
      "C:\\Users\\wells\\AppData\\Local\\Continuum\\anaconda3\\lib\\site-packages\\pandas\\core\\indexing.py:543: SettingWithCopyWarning: \n",
      "A value is trying to be set on a copy of a slice from a DataFrame.\n",
      "Try using .loc[row_indexer,col_indexer] = value instead\n",
      "\n",
      "See the caveats in the documentation: http://pandas.pydata.org/pandas-docs/stable/indexing.html#indexing-view-versus-copy\n",
      "  self.obj[item] = s\n"
     ]
    },
    {
     "name": "stdout",
     "output_type": "stream",
     "text": [
      "37.893991231918335\n",
      "200502\n"
     ]
    },
    {
     "name": "stderr",
     "output_type": "stream",
     "text": [
      "C:\\Users\\wells\\AppData\\Local\\Continuum\\anaconda3\\lib\\site-packages\\pandas\\core\\indexing.py:543: SettingWithCopyWarning: \n",
      "A value is trying to be set on a copy of a slice from a DataFrame.\n",
      "Try using .loc[row_indexer,col_indexer] = value instead\n",
      "\n",
      "See the caveats in the documentation: http://pandas.pydata.org/pandas-docs/stable/indexing.html#indexing-view-versus-copy\n",
      "  self.obj[item] = s\n"
     ]
    },
    {
     "name": "stdout",
     "output_type": "stream",
     "text": [
      "39.33274841308594\n",
      "200503\n"
     ]
    },
    {
     "name": "stderr",
     "output_type": "stream",
     "text": [
      "C:\\Users\\wells\\AppData\\Local\\Continuum\\anaconda3\\lib\\site-packages\\pandas\\core\\indexing.py:543: SettingWithCopyWarning: \n",
      "A value is trying to be set on a copy of a slice from a DataFrame.\n",
      "Try using .loc[row_indexer,col_indexer] = value instead\n",
      "\n",
      "See the caveats in the documentation: http://pandas.pydata.org/pandas-docs/stable/indexing.html#indexing-view-versus-copy\n",
      "  self.obj[item] = s\n"
     ]
    },
    {
     "name": "stdout",
     "output_type": "stream",
     "text": [
      "36.93185329437256\n",
      "200504\n"
     ]
    },
    {
     "name": "stderr",
     "output_type": "stream",
     "text": [
      "C:\\Users\\wells\\AppData\\Local\\Continuum\\anaconda3\\lib\\site-packages\\pandas\\core\\indexing.py:543: SettingWithCopyWarning: \n",
      "A value is trying to be set on a copy of a slice from a DataFrame.\n",
      "Try using .loc[row_indexer,col_indexer] = value instead\n",
      "\n",
      "See the caveats in the documentation: http://pandas.pydata.org/pandas-docs/stable/indexing.html#indexing-view-versus-copy\n",
      "  self.obj[item] = s\n"
     ]
    },
    {
     "name": "stdout",
     "output_type": "stream",
     "text": [
      "24.06183934211731\n",
      "200505\n"
     ]
    },
    {
     "name": "stderr",
     "output_type": "stream",
     "text": [
      "C:\\Users\\wells\\AppData\\Local\\Continuum\\anaconda3\\lib\\site-packages\\pandas\\core\\indexing.py:543: SettingWithCopyWarning: \n",
      "A value is trying to be set on a copy of a slice from a DataFrame.\n",
      "Try using .loc[row_indexer,col_indexer] = value instead\n",
      "\n",
      "See the caveats in the documentation: http://pandas.pydata.org/pandas-docs/stable/indexing.html#indexing-view-versus-copy\n",
      "  self.obj[item] = s\n"
     ]
    },
    {
     "name": "stdout",
     "output_type": "stream",
     "text": [
      "24.347285985946655\n",
      "200506\n"
     ]
    },
    {
     "name": "stderr",
     "output_type": "stream",
     "text": [
      "C:\\Users\\wells\\AppData\\Local\\Continuum\\anaconda3\\lib\\site-packages\\pandas\\core\\indexing.py:543: SettingWithCopyWarning: \n",
      "A value is trying to be set on a copy of a slice from a DataFrame.\n",
      "Try using .loc[row_indexer,col_indexer] = value instead\n",
      "\n",
      "See the caveats in the documentation: http://pandas.pydata.org/pandas-docs/stable/indexing.html#indexing-view-versus-copy\n",
      "  self.obj[item] = s\n"
     ]
    },
    {
     "name": "stdout",
     "output_type": "stream",
     "text": [
      "24.152857780456543\n",
      "200507\n"
     ]
    },
    {
     "name": "stderr",
     "output_type": "stream",
     "text": [
      "C:\\Users\\wells\\AppData\\Local\\Continuum\\anaconda3\\lib\\site-packages\\pandas\\core\\indexing.py:543: SettingWithCopyWarning: \n",
      "A value is trying to be set on a copy of a slice from a DataFrame.\n",
      "Try using .loc[row_indexer,col_indexer] = value instead\n",
      "\n",
      "See the caveats in the documentation: http://pandas.pydata.org/pandas-docs/stable/indexing.html#indexing-view-versus-copy\n",
      "  self.obj[item] = s\n"
     ]
    },
    {
     "name": "stdout",
     "output_type": "stream",
     "text": [
      "21.36775302886963\n",
      "200508\n"
     ]
    },
    {
     "name": "stderr",
     "output_type": "stream",
     "text": [
      "C:\\Users\\wells\\AppData\\Local\\Continuum\\anaconda3\\lib\\site-packages\\pandas\\core\\indexing.py:543: SettingWithCopyWarning: \n",
      "A value is trying to be set on a copy of a slice from a DataFrame.\n",
      "Try using .loc[row_indexer,col_indexer] = value instead\n",
      "\n",
      "See the caveats in the documentation: http://pandas.pydata.org/pandas-docs/stable/indexing.html#indexing-view-versus-copy\n",
      "  self.obj[item] = s\n"
     ]
    },
    {
     "name": "stdout",
     "output_type": "stream",
     "text": [
      "21.41848587989807\n",
      "200509\n"
     ]
    },
    {
     "name": "stderr",
     "output_type": "stream",
     "text": [
      "C:\\Users\\wells\\AppData\\Local\\Continuum\\anaconda3\\lib\\site-packages\\pandas\\core\\indexing.py:543: SettingWithCopyWarning: \n",
      "A value is trying to be set on a copy of a slice from a DataFrame.\n",
      "Try using .loc[row_indexer,col_indexer] = value instead\n",
      "\n",
      "See the caveats in the documentation: http://pandas.pydata.org/pandas-docs/stable/indexing.html#indexing-view-versus-copy\n",
      "  self.obj[item] = s\n"
     ]
    },
    {
     "name": "stdout",
     "output_type": "stream",
     "text": [
      "21.44689679145813\n",
      "200510\n"
     ]
    },
    {
     "name": "stderr",
     "output_type": "stream",
     "text": [
      "C:\\Users\\wells\\AppData\\Local\\Continuum\\anaconda3\\lib\\site-packages\\pandas\\core\\indexing.py:543: SettingWithCopyWarning: \n",
      "A value is trying to be set on a copy of a slice from a DataFrame.\n",
      "Try using .loc[row_indexer,col_indexer] = value instead\n",
      "\n",
      "See the caveats in the documentation: http://pandas.pydata.org/pandas-docs/stable/indexing.html#indexing-view-versus-copy\n",
      "  self.obj[item] = s\n"
     ]
    },
    {
     "name": "stdout",
     "output_type": "stream",
     "text": [
      "17.643792390823364\n",
      "200511\n"
     ]
    },
    {
     "name": "stderr",
     "output_type": "stream",
     "text": [
      "C:\\Users\\wells\\AppData\\Local\\Continuum\\anaconda3\\lib\\site-packages\\pandas\\core\\indexing.py:543: SettingWithCopyWarning: \n",
      "A value is trying to be set on a copy of a slice from a DataFrame.\n",
      "Try using .loc[row_indexer,col_indexer] = value instead\n",
      "\n",
      "See the caveats in the documentation: http://pandas.pydata.org/pandas-docs/stable/indexing.html#indexing-view-versus-copy\n",
      "  self.obj[item] = s\n"
     ]
    },
    {
     "name": "stdout",
     "output_type": "stream",
     "text": [
      "17.3404438495636\n",
      "200512\n"
     ]
    },
    {
     "name": "stderr",
     "output_type": "stream",
     "text": [
      "C:\\Users\\wells\\AppData\\Local\\Continuum\\anaconda3\\lib\\site-packages\\pandas\\core\\indexing.py:543: SettingWithCopyWarning: \n",
      "A value is trying to be set on a copy of a slice from a DataFrame.\n",
      "Try using .loc[row_indexer,col_indexer] = value instead\n",
      "\n",
      "See the caveats in the documentation: http://pandas.pydata.org/pandas-docs/stable/indexing.html#indexing-view-versus-copy\n",
      "  self.obj[item] = s\n"
     ]
    },
    {
     "name": "stdout",
     "output_type": "stream",
     "text": [
      "200512 no data\n",
      "17.33301043510437\n",
      "200601\n"
     ]
    },
    {
     "name": "stderr",
     "output_type": "stream",
     "text": [
      "C:\\Users\\wells\\AppData\\Local\\Continuum\\anaconda3\\lib\\site-packages\\pandas\\core\\indexing.py:543: SettingWithCopyWarning: \n",
      "A value is trying to be set on a copy of a slice from a DataFrame.\n",
      "Try using .loc[row_indexer,col_indexer] = value instead\n",
      "\n",
      "See the caveats in the documentation: http://pandas.pydata.org/pandas-docs/stable/indexing.html#indexing-view-versus-copy\n",
      "  self.obj[item] = s\n"
     ]
    },
    {
     "name": "stdout",
     "output_type": "stream",
     "text": [
      "16.806140899658203\n",
      "200602\n"
     ]
    },
    {
     "name": "stderr",
     "output_type": "stream",
     "text": [
      "C:\\Users\\wells\\AppData\\Local\\Continuum\\anaconda3\\lib\\site-packages\\pandas\\core\\indexing.py:543: SettingWithCopyWarning: \n",
      "A value is trying to be set on a copy of a slice from a DataFrame.\n",
      "Try using .loc[row_indexer,col_indexer] = value instead\n",
      "\n",
      "See the caveats in the documentation: http://pandas.pydata.org/pandas-docs/stable/indexing.html#indexing-view-versus-copy\n",
      "  self.obj[item] = s\n"
     ]
    },
    {
     "name": "stdout",
     "output_type": "stream",
     "text": [
      "16.70428228378296\n",
      "200603\n"
     ]
    },
    {
     "name": "stderr",
     "output_type": "stream",
     "text": [
      "C:\\Users\\wells\\AppData\\Local\\Continuum\\anaconda3\\lib\\site-packages\\pandas\\core\\indexing.py:543: SettingWithCopyWarning: \n",
      "A value is trying to be set on a copy of a slice from a DataFrame.\n",
      "Try using .loc[row_indexer,col_indexer] = value instead\n",
      "\n",
      "See the caveats in the documentation: http://pandas.pydata.org/pandas-docs/stable/indexing.html#indexing-view-versus-copy\n",
      "  self.obj[item] = s\n"
     ]
    },
    {
     "name": "stdout",
     "output_type": "stream",
     "text": [
      "16.620408058166504\n",
      "200604\n"
     ]
    },
    {
     "name": "stderr",
     "output_type": "stream",
     "text": [
      "C:\\Users\\wells\\AppData\\Local\\Continuum\\anaconda3\\lib\\site-packages\\pandas\\core\\indexing.py:543: SettingWithCopyWarning: \n",
      "A value is trying to be set on a copy of a slice from a DataFrame.\n",
      "Try using .loc[row_indexer,col_indexer] = value instead\n",
      "\n",
      "See the caveats in the documentation: http://pandas.pydata.org/pandas-docs/stable/indexing.html#indexing-view-versus-copy\n",
      "  self.obj[item] = s\n"
     ]
    },
    {
     "name": "stdout",
     "output_type": "stream",
     "text": [
      "16.32186532020569\n",
      "200605\n"
     ]
    },
    {
     "name": "stderr",
     "output_type": "stream",
     "text": [
      "C:\\Users\\wells\\AppData\\Local\\Continuum\\anaconda3\\lib\\site-packages\\pandas\\core\\indexing.py:543: SettingWithCopyWarning: \n",
      "A value is trying to be set on a copy of a slice from a DataFrame.\n",
      "Try using .loc[row_indexer,col_indexer] = value instead\n",
      "\n",
      "See the caveats in the documentation: http://pandas.pydata.org/pandas-docs/stable/indexing.html#indexing-view-versus-copy\n",
      "  self.obj[item] = s\n"
     ]
    },
    {
     "name": "stdout",
     "output_type": "stream",
     "text": [
      "200605 no data\n",
      "15.915701866149902\n",
      "200606\n"
     ]
    },
    {
     "name": "stderr",
     "output_type": "stream",
     "text": [
      "C:\\Users\\wells\\AppData\\Local\\Continuum\\anaconda3\\lib\\site-packages\\pandas\\core\\indexing.py:543: SettingWithCopyWarning: \n",
      "A value is trying to be set on a copy of a slice from a DataFrame.\n",
      "Try using .loc[row_indexer,col_indexer] = value instead\n",
      "\n",
      "See the caveats in the documentation: http://pandas.pydata.org/pandas-docs/stable/indexing.html#indexing-view-versus-copy\n",
      "  self.obj[item] = s\n"
     ]
    },
    {
     "name": "stdout",
     "output_type": "stream",
     "text": [
      "16.228068590164185\n",
      "200607\n"
     ]
    },
    {
     "name": "stderr",
     "output_type": "stream",
     "text": [
      "C:\\Users\\wells\\AppData\\Local\\Continuum\\anaconda3\\lib\\site-packages\\pandas\\core\\indexing.py:543: SettingWithCopyWarning: \n",
      "A value is trying to be set on a copy of a slice from a DataFrame.\n",
      "Try using .loc[row_indexer,col_indexer] = value instead\n",
      "\n",
      "See the caveats in the documentation: http://pandas.pydata.org/pandas-docs/stable/indexing.html#indexing-view-versus-copy\n",
      "  self.obj[item] = s\n"
     ]
    },
    {
     "name": "stdout",
     "output_type": "stream",
     "text": [
      "200607 no data\n",
      "19.45066547393799\n",
      "200608\n"
     ]
    },
    {
     "name": "stderr",
     "output_type": "stream",
     "text": [
      "C:\\Users\\wells\\AppData\\Local\\Continuum\\anaconda3\\lib\\site-packages\\pandas\\core\\indexing.py:543: SettingWithCopyWarning: \n",
      "A value is trying to be set on a copy of a slice from a DataFrame.\n",
      "Try using .loc[row_indexer,col_indexer] = value instead\n",
      "\n",
      "See the caveats in the documentation: http://pandas.pydata.org/pandas-docs/stable/indexing.html#indexing-view-versus-copy\n",
      "  self.obj[item] = s\n"
     ]
    },
    {
     "name": "stdout",
     "output_type": "stream",
     "text": [
      "19.756118297576904\n",
      "200609\n"
     ]
    },
    {
     "name": "stderr",
     "output_type": "stream",
     "text": [
      "C:\\Users\\wells\\AppData\\Local\\Continuum\\anaconda3\\lib\\site-packages\\pandas\\core\\indexing.py:543: SettingWithCopyWarning: \n",
      "A value is trying to be set on a copy of a slice from a DataFrame.\n",
      "Try using .loc[row_indexer,col_indexer] = value instead\n",
      "\n",
      "See the caveats in the documentation: http://pandas.pydata.org/pandas-docs/stable/indexing.html#indexing-view-versus-copy\n",
      "  self.obj[item] = s\n"
     ]
    },
    {
     "name": "stdout",
     "output_type": "stream",
     "text": [
      "20.158124446868896\n",
      "200610\n"
     ]
    },
    {
     "name": "stderr",
     "output_type": "stream",
     "text": [
      "C:\\Users\\wells\\AppData\\Local\\Continuum\\anaconda3\\lib\\site-packages\\pandas\\core\\indexing.py:543: SettingWithCopyWarning: \n",
      "A value is trying to be set on a copy of a slice from a DataFrame.\n",
      "Try using .loc[row_indexer,col_indexer] = value instead\n",
      "\n",
      "See the caveats in the documentation: http://pandas.pydata.org/pandas-docs/stable/indexing.html#indexing-view-versus-copy\n",
      "  self.obj[item] = s\n"
     ]
    },
    {
     "name": "stdout",
     "output_type": "stream",
     "text": [
      "20.502665519714355\n",
      "200611\n"
     ]
    },
    {
     "name": "stderr",
     "output_type": "stream",
     "text": [
      "C:\\Users\\wells\\AppData\\Local\\Continuum\\anaconda3\\lib\\site-packages\\pandas\\core\\indexing.py:543: SettingWithCopyWarning: \n",
      "A value is trying to be set on a copy of a slice from a DataFrame.\n",
      "Try using .loc[row_indexer,col_indexer] = value instead\n",
      "\n",
      "See the caveats in the documentation: http://pandas.pydata.org/pandas-docs/stable/indexing.html#indexing-view-versus-copy\n",
      "  self.obj[item] = s\n"
     ]
    },
    {
     "name": "stdout",
     "output_type": "stream",
     "text": [
      "20.550269842147827\n",
      "200612\n"
     ]
    },
    {
     "name": "stderr",
     "output_type": "stream",
     "text": [
      "C:\\Users\\wells\\AppData\\Local\\Continuum\\anaconda3\\lib\\site-packages\\pandas\\core\\indexing.py:543: SettingWithCopyWarning: \n",
      "A value is trying to be set on a copy of a slice from a DataFrame.\n",
      "Try using .loc[row_indexer,col_indexer] = value instead\n",
      "\n",
      "See the caveats in the documentation: http://pandas.pydata.org/pandas-docs/stable/indexing.html#indexing-view-versus-copy\n",
      "  self.obj[item] = s\n"
     ]
    },
    {
     "name": "stdout",
     "output_type": "stream",
     "text": [
      "20.77758479118347\n",
      "200701\n"
     ]
    },
    {
     "name": "stderr",
     "output_type": "stream",
     "text": [
      "C:\\Users\\wells\\AppData\\Local\\Continuum\\anaconda3\\lib\\site-packages\\pandas\\core\\indexing.py:543: SettingWithCopyWarning: \n",
      "A value is trying to be set on a copy of a slice from a DataFrame.\n",
      "Try using .loc[row_indexer,col_indexer] = value instead\n",
      "\n",
      "See the caveats in the documentation: http://pandas.pydata.org/pandas-docs/stable/indexing.html#indexing-view-versus-copy\n",
      "  self.obj[item] = s\n"
     ]
    },
    {
     "name": "stdout",
     "output_type": "stream",
     "text": [
      "20.968966484069824\n",
      "200702\n"
     ]
    },
    {
     "name": "stderr",
     "output_type": "stream",
     "text": [
      "C:\\Users\\wells\\AppData\\Local\\Continuum\\anaconda3\\lib\\site-packages\\pandas\\core\\indexing.py:543: SettingWithCopyWarning: \n",
      "A value is trying to be set on a copy of a slice from a DataFrame.\n",
      "Try using .loc[row_indexer,col_indexer] = value instead\n",
      "\n",
      "See the caveats in the documentation: http://pandas.pydata.org/pandas-docs/stable/indexing.html#indexing-view-versus-copy\n",
      "  self.obj[item] = s\n"
     ]
    },
    {
     "name": "stdout",
     "output_type": "stream",
     "text": [
      "200702 no data\n",
      "20.278460264205933\n",
      "200703\n"
     ]
    },
    {
     "name": "stderr",
     "output_type": "stream",
     "text": [
      "C:\\Users\\wells\\AppData\\Local\\Continuum\\anaconda3\\lib\\site-packages\\pandas\\core\\indexing.py:543: SettingWithCopyWarning: \n",
      "A value is trying to be set on a copy of a slice from a DataFrame.\n",
      "Try using .loc[row_indexer,col_indexer] = value instead\n",
      "\n",
      "See the caveats in the documentation: http://pandas.pydata.org/pandas-docs/stable/indexing.html#indexing-view-versus-copy\n",
      "  self.obj[item] = s\n"
     ]
    },
    {
     "name": "stdout",
     "output_type": "stream",
     "text": [
      "20.13569402694702\n",
      "200704\n"
     ]
    },
    {
     "name": "stderr",
     "output_type": "stream",
     "text": [
      "C:\\Users\\wells\\AppData\\Local\\Continuum\\anaconda3\\lib\\site-packages\\pandas\\core\\indexing.py:543: SettingWithCopyWarning: \n",
      "A value is trying to be set on a copy of a slice from a DataFrame.\n",
      "Try using .loc[row_indexer,col_indexer] = value instead\n",
      "\n",
      "See the caveats in the documentation: http://pandas.pydata.org/pandas-docs/stable/indexing.html#indexing-view-versus-copy\n",
      "  self.obj[item] = s\n"
     ]
    },
    {
     "name": "stdout",
     "output_type": "stream",
     "text": [
      "200704 no data\n",
      "19.653113842010498\n",
      "200705\n"
     ]
    },
    {
     "name": "stderr",
     "output_type": "stream",
     "text": [
      "C:\\Users\\wells\\AppData\\Local\\Continuum\\anaconda3\\lib\\site-packages\\pandas\\core\\indexing.py:543: SettingWithCopyWarning: \n",
      "A value is trying to be set on a copy of a slice from a DataFrame.\n",
      "Try using .loc[row_indexer,col_indexer] = value instead\n",
      "\n",
      "See the caveats in the documentation: http://pandas.pydata.org/pandas-docs/stable/indexing.html#indexing-view-versus-copy\n",
      "  self.obj[item] = s\n"
     ]
    },
    {
     "name": "stdout",
     "output_type": "stream",
     "text": [
      "200705 no data\n",
      "19.806399822235107\n",
      "200706\n"
     ]
    },
    {
     "name": "stderr",
     "output_type": "stream",
     "text": [
      "C:\\Users\\wells\\AppData\\Local\\Continuum\\anaconda3\\lib\\site-packages\\pandas\\core\\indexing.py:543: SettingWithCopyWarning: \n",
      "A value is trying to be set on a copy of a slice from a DataFrame.\n",
      "Try using .loc[row_indexer,col_indexer] = value instead\n",
      "\n",
      "See the caveats in the documentation: http://pandas.pydata.org/pandas-docs/stable/indexing.html#indexing-view-versus-copy\n",
      "  self.obj[item] = s\n"
     ]
    },
    {
     "name": "stdout",
     "output_type": "stream",
     "text": [
      "20.062926292419434\n",
      "200707\n"
     ]
    },
    {
     "name": "stderr",
     "output_type": "stream",
     "text": [
      "C:\\Users\\wells\\AppData\\Local\\Continuum\\anaconda3\\lib\\site-packages\\pandas\\core\\indexing.py:543: SettingWithCopyWarning: \n",
      "A value is trying to be set on a copy of a slice from a DataFrame.\n",
      "Try using .loc[row_indexer,col_indexer] = value instead\n",
      "\n",
      "See the caveats in the documentation: http://pandas.pydata.org/pandas-docs/stable/indexing.html#indexing-view-versus-copy\n",
      "  self.obj[item] = s\n"
     ]
    },
    {
     "name": "stdout",
     "output_type": "stream",
     "text": [
      "200707 no data\n",
      "20.33919668197632\n",
      "200708\n"
     ]
    },
    {
     "name": "stderr",
     "output_type": "stream",
     "text": [
      "C:\\Users\\wells\\AppData\\Local\\Continuum\\anaconda3\\lib\\site-packages\\pandas\\core\\indexing.py:543: SettingWithCopyWarning: \n",
      "A value is trying to be set on a copy of a slice from a DataFrame.\n",
      "Try using .loc[row_indexer,col_indexer] = value instead\n",
      "\n",
      "See the caveats in the documentation: http://pandas.pydata.org/pandas-docs/stable/indexing.html#indexing-view-versus-copy\n",
      "  self.obj[item] = s\n"
     ]
    },
    {
     "name": "stdout",
     "output_type": "stream",
     "text": [
      "19.9542076587677\n",
      "200709\n"
     ]
    },
    {
     "name": "stderr",
     "output_type": "stream",
     "text": [
      "C:\\Users\\wells\\AppData\\Local\\Continuum\\anaconda3\\lib\\site-packages\\pandas\\core\\indexing.py:543: SettingWithCopyWarning: \n",
      "A value is trying to be set on a copy of a slice from a DataFrame.\n",
      "Try using .loc[row_indexer,col_indexer] = value instead\n",
      "\n",
      "See the caveats in the documentation: http://pandas.pydata.org/pandas-docs/stable/indexing.html#indexing-view-versus-copy\n",
      "  self.obj[item] = s\n"
     ]
    },
    {
     "name": "stdout",
     "output_type": "stream",
     "text": [
      "200709 no data\n",
      "19.669474363327026\n",
      "200710\n"
     ]
    },
    {
     "name": "stderr",
     "output_type": "stream",
     "text": [
      "C:\\Users\\wells\\AppData\\Local\\Continuum\\anaconda3\\lib\\site-packages\\pandas\\core\\indexing.py:543: SettingWithCopyWarning: \n",
      "A value is trying to be set on a copy of a slice from a DataFrame.\n",
      "Try using .loc[row_indexer,col_indexer] = value instead\n",
      "\n",
      "See the caveats in the documentation: http://pandas.pydata.org/pandas-docs/stable/indexing.html#indexing-view-versus-copy\n",
      "  self.obj[item] = s\n"
     ]
    },
    {
     "name": "stdout",
     "output_type": "stream",
     "text": [
      "200710 no data\n",
      "19.511301517486572\n",
      "200711\n"
     ]
    },
    {
     "name": "stderr",
     "output_type": "stream",
     "text": [
      "C:\\Users\\wells\\AppData\\Local\\Continuum\\anaconda3\\lib\\site-packages\\pandas\\core\\indexing.py:543: SettingWithCopyWarning: \n",
      "A value is trying to be set on a copy of a slice from a DataFrame.\n",
      "Try using .loc[row_indexer,col_indexer] = value instead\n",
      "\n",
      "See the caveats in the documentation: http://pandas.pydata.org/pandas-docs/stable/indexing.html#indexing-view-versus-copy\n",
      "  self.obj[item] = s\n"
     ]
    },
    {
     "name": "stdout",
     "output_type": "stream",
     "text": [
      "200711 no data\n",
      "19.468165397644043\n",
      "200712\n"
     ]
    },
    {
     "name": "stderr",
     "output_type": "stream",
     "text": [
      "C:\\Users\\wells\\AppData\\Local\\Continuum\\anaconda3\\lib\\site-packages\\pandas\\core\\indexing.py:543: SettingWithCopyWarning: \n",
      "A value is trying to be set on a copy of a slice from a DataFrame.\n",
      "Try using .loc[row_indexer,col_indexer] = value instead\n",
      "\n",
      "See the caveats in the documentation: http://pandas.pydata.org/pandas-docs/stable/indexing.html#indexing-view-versus-copy\n",
      "  self.obj[item] = s\n"
     ]
    },
    {
     "name": "stdout",
     "output_type": "stream",
     "text": [
      "19.80426812171936\n",
      "200801\n"
     ]
    },
    {
     "name": "stderr",
     "output_type": "stream",
     "text": [
      "C:\\Users\\wells\\AppData\\Local\\Continuum\\anaconda3\\lib\\site-packages\\pandas\\core\\indexing.py:543: SettingWithCopyWarning: \n",
      "A value is trying to be set on a copy of a slice from a DataFrame.\n",
      "Try using .loc[row_indexer,col_indexer] = value instead\n",
      "\n",
      "See the caveats in the documentation: http://pandas.pydata.org/pandas-docs/stable/indexing.html#indexing-view-versus-copy\n",
      "  self.obj[item] = s\n"
     ]
    },
    {
     "name": "stdout",
     "output_type": "stream",
     "text": [
      "200801 no data\n",
      "19.288822412490845\n",
      "200802\n"
     ]
    },
    {
     "name": "stderr",
     "output_type": "stream",
     "text": [
      "C:\\Users\\wells\\AppData\\Local\\Continuum\\anaconda3\\lib\\site-packages\\pandas\\core\\indexing.py:543: SettingWithCopyWarning: \n",
      "A value is trying to be set on a copy of a slice from a DataFrame.\n",
      "Try using .loc[row_indexer,col_indexer] = value instead\n",
      "\n",
      "See the caveats in the documentation: http://pandas.pydata.org/pandas-docs/stable/indexing.html#indexing-view-versus-copy\n",
      "  self.obj[item] = s\n"
     ]
    },
    {
     "name": "stdout",
     "output_type": "stream",
     "text": [
      "19.398204803466797\n",
      "200803\n"
     ]
    },
    {
     "name": "stderr",
     "output_type": "stream",
     "text": [
      "C:\\Users\\wells\\AppData\\Local\\Continuum\\anaconda3\\lib\\site-packages\\pandas\\core\\indexing.py:543: SettingWithCopyWarning: \n",
      "A value is trying to be set on a copy of a slice from a DataFrame.\n",
      "Try using .loc[row_indexer,col_indexer] = value instead\n",
      "\n",
      "See the caveats in the documentation: http://pandas.pydata.org/pandas-docs/stable/indexing.html#indexing-view-versus-copy\n",
      "  self.obj[item] = s\n"
     ]
    },
    {
     "name": "stdout",
     "output_type": "stream",
     "text": [
      "19.269553661346436\n",
      "200804\n"
     ]
    },
    {
     "name": "stderr",
     "output_type": "stream",
     "text": [
      "C:\\Users\\wells\\AppData\\Local\\Continuum\\anaconda3\\lib\\site-packages\\pandas\\core\\indexing.py:543: SettingWithCopyWarning: \n",
      "A value is trying to be set on a copy of a slice from a DataFrame.\n",
      "Try using .loc[row_indexer,col_indexer] = value instead\n",
      "\n",
      "See the caveats in the documentation: http://pandas.pydata.org/pandas-docs/stable/indexing.html#indexing-view-versus-copy\n",
      "  self.obj[item] = s\n"
     ]
    },
    {
     "name": "stdout",
     "output_type": "stream",
     "text": [
      "200804 no data\n",
      "19.196994066238403\n",
      "200805\n"
     ]
    },
    {
     "name": "stderr",
     "output_type": "stream",
     "text": [
      "C:\\Users\\wells\\AppData\\Local\\Continuum\\anaconda3\\lib\\site-packages\\pandas\\core\\indexing.py:543: SettingWithCopyWarning: \n",
      "A value is trying to be set on a copy of a slice from a DataFrame.\n",
      "Try using .loc[row_indexer,col_indexer] = value instead\n",
      "\n",
      "See the caveats in the documentation: http://pandas.pydata.org/pandas-docs/stable/indexing.html#indexing-view-versus-copy\n",
      "  self.obj[item] = s\n"
     ]
    },
    {
     "name": "stdout",
     "output_type": "stream",
     "text": [
      "200805 no data\n",
      "19.285086631774902\n",
      "200806\n"
     ]
    },
    {
     "name": "stderr",
     "output_type": "stream",
     "text": [
      "C:\\Users\\wells\\AppData\\Local\\Continuum\\anaconda3\\lib\\site-packages\\pandas\\core\\indexing.py:543: SettingWithCopyWarning: \n",
      "A value is trying to be set on a copy of a slice from a DataFrame.\n",
      "Try using .loc[row_indexer,col_indexer] = value instead\n",
      "\n",
      "See the caveats in the documentation: http://pandas.pydata.org/pandas-docs/stable/indexing.html#indexing-view-versus-copy\n",
      "  self.obj[item] = s\n"
     ]
    },
    {
     "name": "stdout",
     "output_type": "stream",
     "text": [
      "19.522420644760132\n",
      "200807\n"
     ]
    },
    {
     "name": "stderr",
     "output_type": "stream",
     "text": [
      "C:\\Users\\wells\\AppData\\Local\\Continuum\\anaconda3\\lib\\site-packages\\pandas\\core\\indexing.py:543: SettingWithCopyWarning: \n",
      "A value is trying to be set on a copy of a slice from a DataFrame.\n",
      "Try using .loc[row_indexer,col_indexer] = value instead\n",
      "\n",
      "See the caveats in the documentation: http://pandas.pydata.org/pandas-docs/stable/indexing.html#indexing-view-versus-copy\n",
      "  self.obj[item] = s\n"
     ]
    },
    {
     "name": "stdout",
     "output_type": "stream",
     "text": [
      "200807 no data\n",
      "22.956764459609985\n",
      "200808\n"
     ]
    },
    {
     "name": "stderr",
     "output_type": "stream",
     "text": [
      "C:\\Users\\wells\\AppData\\Local\\Continuum\\anaconda3\\lib\\site-packages\\pandas\\core\\indexing.py:543: SettingWithCopyWarning: \n",
      "A value is trying to be set on a copy of a slice from a DataFrame.\n",
      "Try using .loc[row_indexer,col_indexer] = value instead\n",
      "\n",
      "See the caveats in the documentation: http://pandas.pydata.org/pandas-docs/stable/indexing.html#indexing-view-versus-copy\n",
      "  self.obj[item] = s\n"
     ]
    },
    {
     "name": "stdout",
     "output_type": "stream",
     "text": [
      "200808 no data\n",
      "22.318784475326538\n",
      "200809\n"
     ]
    },
    {
     "name": "stderr",
     "output_type": "stream",
     "text": [
      "C:\\Users\\wells\\AppData\\Local\\Continuum\\anaconda3\\lib\\site-packages\\pandas\\core\\indexing.py:543: SettingWithCopyWarning: \n",
      "A value is trying to be set on a copy of a slice from a DataFrame.\n",
      "Try using .loc[row_indexer,col_indexer] = value instead\n",
      "\n",
      "See the caveats in the documentation: http://pandas.pydata.org/pandas-docs/stable/indexing.html#indexing-view-versus-copy\n",
      "  self.obj[item] = s\n"
     ]
    },
    {
     "name": "stdout",
     "output_type": "stream",
     "text": [
      "22.729594230651855\n",
      "200810\n"
     ]
    },
    {
     "name": "stderr",
     "output_type": "stream",
     "text": [
      "C:\\Users\\wells\\AppData\\Local\\Continuum\\anaconda3\\lib\\site-packages\\pandas\\core\\indexing.py:543: SettingWithCopyWarning: \n",
      "A value is trying to be set on a copy of a slice from a DataFrame.\n",
      "Try using .loc[row_indexer,col_indexer] = value instead\n",
      "\n",
      "See the caveats in the documentation: http://pandas.pydata.org/pandas-docs/stable/indexing.html#indexing-view-versus-copy\n",
      "  self.obj[item] = s\n"
     ]
    },
    {
     "name": "stdout",
     "output_type": "stream",
     "text": [
      "200810 no data\n",
      "25.731894969940186\n",
      "200811\n"
     ]
    },
    {
     "name": "stderr",
     "output_type": "stream",
     "text": [
      "C:\\Users\\wells\\AppData\\Local\\Continuum\\anaconda3\\lib\\site-packages\\pandas\\core\\indexing.py:543: SettingWithCopyWarning: \n",
      "A value is trying to be set on a copy of a slice from a DataFrame.\n",
      "Try using .loc[row_indexer,col_indexer] = value instead\n",
      "\n",
      "See the caveats in the documentation: http://pandas.pydata.org/pandas-docs/stable/indexing.html#indexing-view-versus-copy\n",
      "  self.obj[item] = s\n"
     ]
    },
    {
     "name": "stdout",
     "output_type": "stream",
     "text": [
      "26.0779812335968\n",
      "200812\n"
     ]
    },
    {
     "name": "stderr",
     "output_type": "stream",
     "text": [
      "C:\\Users\\wells\\AppData\\Local\\Continuum\\anaconda3\\lib\\site-packages\\pandas\\core\\indexing.py:543: SettingWithCopyWarning: \n",
      "A value is trying to be set on a copy of a slice from a DataFrame.\n",
      "Try using .loc[row_indexer,col_indexer] = value instead\n",
      "\n",
      "See the caveats in the documentation: http://pandas.pydata.org/pandas-docs/stable/indexing.html#indexing-view-versus-copy\n",
      "  self.obj[item] = s\n"
     ]
    },
    {
     "name": "stdout",
     "output_type": "stream",
     "text": [
      "25.575809478759766\n",
      "200901\n"
     ]
    },
    {
     "name": "stderr",
     "output_type": "stream",
     "text": [
      "C:\\Users\\wells\\AppData\\Local\\Continuum\\anaconda3\\lib\\site-packages\\pandas\\core\\indexing.py:543: SettingWithCopyWarning: \n",
      "A value is trying to be set on a copy of a slice from a DataFrame.\n",
      "Try using .loc[row_indexer,col_indexer] = value instead\n",
      "\n",
      "See the caveats in the documentation: http://pandas.pydata.org/pandas-docs/stable/indexing.html#indexing-view-versus-copy\n",
      "  self.obj[item] = s\n"
     ]
    },
    {
     "name": "stdout",
     "output_type": "stream",
     "text": [
      "25.43008804321289\n",
      "200902\n"
     ]
    },
    {
     "name": "stderr",
     "output_type": "stream",
     "text": [
      "C:\\Users\\wells\\AppData\\Local\\Continuum\\anaconda3\\lib\\site-packages\\pandas\\core\\indexing.py:543: SettingWithCopyWarning: \n",
      "A value is trying to be set on a copy of a slice from a DataFrame.\n",
      "Try using .loc[row_indexer,col_indexer] = value instead\n",
      "\n",
      "See the caveats in the documentation: http://pandas.pydata.org/pandas-docs/stable/indexing.html#indexing-view-versus-copy\n",
      "  self.obj[item] = s\n"
     ]
    },
    {
     "name": "stdout",
     "output_type": "stream",
     "text": [
      "25.225719213485718\n",
      "200903\n"
     ]
    },
    {
     "name": "stderr",
     "output_type": "stream",
     "text": [
      "C:\\Users\\wells\\AppData\\Local\\Continuum\\anaconda3\\lib\\site-packages\\pandas\\core\\indexing.py:543: SettingWithCopyWarning: \n",
      "A value is trying to be set on a copy of a slice from a DataFrame.\n",
      "Try using .loc[row_indexer,col_indexer] = value instead\n",
      "\n",
      "See the caveats in the documentation: http://pandas.pydata.org/pandas-docs/stable/indexing.html#indexing-view-versus-copy\n",
      "  self.obj[item] = s\n"
     ]
    },
    {
     "name": "stdout",
     "output_type": "stream",
     "text": [
      "25.115747928619385\n",
      "200904\n"
     ]
    },
    {
     "name": "stderr",
     "output_type": "stream",
     "text": [
      "C:\\Users\\wells\\AppData\\Local\\Continuum\\anaconda3\\lib\\site-packages\\pandas\\core\\indexing.py:543: SettingWithCopyWarning: \n",
      "A value is trying to be set on a copy of a slice from a DataFrame.\n",
      "Try using .loc[row_indexer,col_indexer] = value instead\n",
      "\n",
      "See the caveats in the documentation: http://pandas.pydata.org/pandas-docs/stable/indexing.html#indexing-view-versus-copy\n",
      "  self.obj[item] = s\n"
     ]
    },
    {
     "name": "stdout",
     "output_type": "stream",
     "text": [
      "25.38999319076538\n",
      "200905\n"
     ]
    },
    {
     "name": "stderr",
     "output_type": "stream",
     "text": [
      "C:\\Users\\wells\\AppData\\Local\\Continuum\\anaconda3\\lib\\site-packages\\pandas\\core\\indexing.py:543: SettingWithCopyWarning: \n",
      "A value is trying to be set on a copy of a slice from a DataFrame.\n",
      "Try using .loc[row_indexer,col_indexer] = value instead\n",
      "\n",
      "See the caveats in the documentation: http://pandas.pydata.org/pandas-docs/stable/indexing.html#indexing-view-versus-copy\n",
      "  self.obj[item] = s\n"
     ]
    },
    {
     "name": "stdout",
     "output_type": "stream",
     "text": [
      "25.356894731521606\n",
      "200906\n"
     ]
    },
    {
     "name": "stderr",
     "output_type": "stream",
     "text": [
      "C:\\Users\\wells\\AppData\\Local\\Continuum\\anaconda3\\lib\\site-packages\\pandas\\core\\indexing.py:543: SettingWithCopyWarning: \n",
      "A value is trying to be set on a copy of a slice from a DataFrame.\n",
      "Try using .loc[row_indexer,col_indexer] = value instead\n",
      "\n",
      "See the caveats in the documentation: http://pandas.pydata.org/pandas-docs/stable/indexing.html#indexing-view-versus-copy\n",
      "  self.obj[item] = s\n"
     ]
    },
    {
     "name": "stdout",
     "output_type": "stream",
     "text": [
      "25.23627495765686\n",
      "200907\n"
     ]
    },
    {
     "name": "stderr",
     "output_type": "stream",
     "text": [
      "C:\\Users\\wells\\AppData\\Local\\Continuum\\anaconda3\\lib\\site-packages\\pandas\\core\\indexing.py:543: SettingWithCopyWarning: \n",
      "A value is trying to be set on a copy of a slice from a DataFrame.\n",
      "Try using .loc[row_indexer,col_indexer] = value instead\n",
      "\n",
      "See the caveats in the documentation: http://pandas.pydata.org/pandas-docs/stable/indexing.html#indexing-view-versus-copy\n",
      "  self.obj[item] = s\n"
     ]
    },
    {
     "name": "stdout",
     "output_type": "stream",
     "text": [
      "200907 no data\n",
      "22.146061182022095\n",
      "200908\n"
     ]
    },
    {
     "name": "stderr",
     "output_type": "stream",
     "text": [
      "C:\\Users\\wells\\AppData\\Local\\Continuum\\anaconda3\\lib\\site-packages\\pandas\\core\\indexing.py:543: SettingWithCopyWarning: \n",
      "A value is trying to be set on a copy of a slice from a DataFrame.\n",
      "Try using .loc[row_indexer,col_indexer] = value instead\n",
      "\n",
      "See the caveats in the documentation: http://pandas.pydata.org/pandas-docs/stable/indexing.html#indexing-view-versus-copy\n",
      "  self.obj[item] = s\n"
     ]
    },
    {
     "name": "stdout",
     "output_type": "stream",
     "text": [
      "22.11490511894226\n",
      "200909\n"
     ]
    },
    {
     "name": "stderr",
     "output_type": "stream",
     "text": [
      "C:\\Users\\wells\\AppData\\Local\\Continuum\\anaconda3\\lib\\site-packages\\pandas\\core\\indexing.py:543: SettingWithCopyWarning: \n",
      "A value is trying to be set on a copy of a slice from a DataFrame.\n",
      "Try using .loc[row_indexer,col_indexer] = value instead\n",
      "\n",
      "See the caveats in the documentation: http://pandas.pydata.org/pandas-docs/stable/indexing.html#indexing-view-versus-copy\n",
      "  self.obj[item] = s\n"
     ]
    },
    {
     "name": "stdout",
     "output_type": "stream",
     "text": [
      "200909 no data\n",
      "14.56824016571045\n",
      "200910\n"
     ]
    },
    {
     "name": "stderr",
     "output_type": "stream",
     "text": [
      "C:\\Users\\wells\\AppData\\Local\\Continuum\\anaconda3\\lib\\site-packages\\pandas\\core\\indexing.py:543: SettingWithCopyWarning: \n",
      "A value is trying to be set on a copy of a slice from a DataFrame.\n",
      "Try using .loc[row_indexer,col_indexer] = value instead\n",
      "\n",
      "See the caveats in the documentation: http://pandas.pydata.org/pandas-docs/stable/indexing.html#indexing-view-versus-copy\n",
      "  self.obj[item] = s\n"
     ]
    },
    {
     "name": "stdout",
     "output_type": "stream",
     "text": [
      "19.42231059074402\n",
      "200911\n"
     ]
    },
    {
     "name": "stderr",
     "output_type": "stream",
     "text": [
      "C:\\Users\\wells\\AppData\\Local\\Continuum\\anaconda3\\lib\\site-packages\\pandas\\core\\indexing.py:543: SettingWithCopyWarning: \n",
      "A value is trying to be set on a copy of a slice from a DataFrame.\n",
      "Try using .loc[row_indexer,col_indexer] = value instead\n",
      "\n",
      "See the caveats in the documentation: http://pandas.pydata.org/pandas-docs/stable/indexing.html#indexing-view-versus-copy\n",
      "  self.obj[item] = s\n"
     ]
    },
    {
     "name": "stdout",
     "output_type": "stream",
     "text": [
      "5069.719861745834\n",
      "200912\n"
     ]
    },
    {
     "name": "stderr",
     "output_type": "stream",
     "text": [
      "C:\\Users\\wells\\AppData\\Local\\Continuum\\anaconda3\\lib\\site-packages\\pandas\\core\\indexing.py:543: SettingWithCopyWarning: \n",
      "A value is trying to be set on a copy of a slice from a DataFrame.\n",
      "Try using .loc[row_indexer,col_indexer] = value instead\n",
      "\n",
      "See the caveats in the documentation: http://pandas.pydata.org/pandas-docs/stable/indexing.html#indexing-view-versus-copy\n",
      "  self.obj[item] = s\n"
     ]
    },
    {
     "name": "stdout",
     "output_type": "stream",
     "text": [
      "200912 no data\n",
      "19.912672519683838\n",
      "201001\n"
     ]
    },
    {
     "name": "stderr",
     "output_type": "stream",
     "text": [
      "C:\\Users\\wells\\AppData\\Local\\Continuum\\anaconda3\\lib\\site-packages\\pandas\\core\\indexing.py:543: SettingWithCopyWarning: \n",
      "A value is trying to be set on a copy of a slice from a DataFrame.\n",
      "Try using .loc[row_indexer,col_indexer] = value instead\n",
      "\n",
      "See the caveats in the documentation: http://pandas.pydata.org/pandas-docs/stable/indexing.html#indexing-view-versus-copy\n",
      "  self.obj[item] = s\n"
     ]
    },
    {
     "name": "stdout",
     "output_type": "stream",
     "text": [
      "20.072001457214355\n",
      "201002\n"
     ]
    },
    {
     "name": "stderr",
     "output_type": "stream",
     "text": [
      "C:\\Users\\wells\\AppData\\Local\\Continuum\\anaconda3\\lib\\site-packages\\pandas\\core\\indexing.py:543: SettingWithCopyWarning: \n",
      "A value is trying to be set on a copy of a slice from a DataFrame.\n",
      "Try using .loc[row_indexer,col_indexer] = value instead\n",
      "\n",
      "See the caveats in the documentation: http://pandas.pydata.org/pandas-docs/stable/indexing.html#indexing-view-versus-copy\n",
      "  self.obj[item] = s\n"
     ]
    },
    {
     "name": "stdout",
     "output_type": "stream",
     "text": [
      "19.71192169189453\n",
      "201003\n"
     ]
    },
    {
     "name": "stderr",
     "output_type": "stream",
     "text": [
      "C:\\Users\\wells\\AppData\\Local\\Continuum\\anaconda3\\lib\\site-packages\\pandas\\core\\indexing.py:543: SettingWithCopyWarning: \n",
      "A value is trying to be set on a copy of a slice from a DataFrame.\n",
      "Try using .loc[row_indexer,col_indexer] = value instead\n",
      "\n",
      "See the caveats in the documentation: http://pandas.pydata.org/pandas-docs/stable/indexing.html#indexing-view-versus-copy\n",
      "  self.obj[item] = s\n"
     ]
    },
    {
     "name": "stdout",
     "output_type": "stream",
     "text": [
      "19.546307802200317\n",
      "201004\n"
     ]
    },
    {
     "name": "stderr",
     "output_type": "stream",
     "text": [
      "C:\\Users\\wells\\AppData\\Local\\Continuum\\anaconda3\\lib\\site-packages\\pandas\\core\\indexing.py:543: SettingWithCopyWarning: \n",
      "A value is trying to be set on a copy of a slice from a DataFrame.\n",
      "Try using .loc[row_indexer,col_indexer] = value instead\n",
      "\n",
      "See the caveats in the documentation: http://pandas.pydata.org/pandas-docs/stable/indexing.html#indexing-view-versus-copy\n",
      "  self.obj[item] = s\n"
     ]
    },
    {
     "name": "stdout",
     "output_type": "stream",
     "text": [
      "18.948968410491943\n",
      "201005\n"
     ]
    },
    {
     "name": "stderr",
     "output_type": "stream",
     "text": [
      "C:\\Users\\wells\\AppData\\Local\\Continuum\\anaconda3\\lib\\site-packages\\pandas\\core\\indexing.py:543: SettingWithCopyWarning: \n",
      "A value is trying to be set on a copy of a slice from a DataFrame.\n",
      "Try using .loc[row_indexer,col_indexer] = value instead\n",
      "\n",
      "See the caveats in the documentation: http://pandas.pydata.org/pandas-docs/stable/indexing.html#indexing-view-versus-copy\n",
      "  self.obj[item] = s\n"
     ]
    },
    {
     "name": "stdout",
     "output_type": "stream",
     "text": [
      "201005 no data\n",
      "18.752230405807495\n",
      "201006\n"
     ]
    },
    {
     "name": "stderr",
     "output_type": "stream",
     "text": [
      "C:\\Users\\wells\\AppData\\Local\\Continuum\\anaconda3\\lib\\site-packages\\pandas\\core\\indexing.py:543: SettingWithCopyWarning: \n",
      "A value is trying to be set on a copy of a slice from a DataFrame.\n",
      "Try using .loc[row_indexer,col_indexer] = value instead\n",
      "\n",
      "See the caveats in the documentation: http://pandas.pydata.org/pandas-docs/stable/indexing.html#indexing-view-versus-copy\n",
      "  self.obj[item] = s\n"
     ]
    },
    {
     "name": "stdout",
     "output_type": "stream",
     "text": [
      "201006 no data\n",
      "19.307288885116577\n",
      "201007\n"
     ]
    },
    {
     "name": "stderr",
     "output_type": "stream",
     "text": [
      "C:\\Users\\wells\\AppData\\Local\\Continuum\\anaconda3\\lib\\site-packages\\pandas\\core\\indexing.py:543: SettingWithCopyWarning: \n",
      "A value is trying to be set on a copy of a slice from a DataFrame.\n",
      "Try using .loc[row_indexer,col_indexer] = value instead\n",
      "\n",
      "See the caveats in the documentation: http://pandas.pydata.org/pandas-docs/stable/indexing.html#indexing-view-versus-copy\n",
      "  self.obj[item] = s\n"
     ]
    },
    {
     "name": "stdout",
     "output_type": "stream",
     "text": [
      "19.258938312530518\n",
      "201008\n"
     ]
    },
    {
     "name": "stderr",
     "output_type": "stream",
     "text": [
      "C:\\Users\\wells\\AppData\\Local\\Continuum\\anaconda3\\lib\\site-packages\\pandas\\core\\indexing.py:543: SettingWithCopyWarning: \n",
      "A value is trying to be set on a copy of a slice from a DataFrame.\n",
      "Try using .loc[row_indexer,col_indexer] = value instead\n",
      "\n",
      "See the caveats in the documentation: http://pandas.pydata.org/pandas-docs/stable/indexing.html#indexing-view-versus-copy\n",
      "  self.obj[item] = s\n"
     ]
    },
    {
     "name": "stdout",
     "output_type": "stream",
     "text": [
      "201008 no data\n",
      "18.999064207077026\n",
      "201009\n"
     ]
    },
    {
     "name": "stderr",
     "output_type": "stream",
     "text": [
      "C:\\Users\\wells\\AppData\\Local\\Continuum\\anaconda3\\lib\\site-packages\\pandas\\core\\indexing.py:543: SettingWithCopyWarning: \n",
      "A value is trying to be set on a copy of a slice from a DataFrame.\n",
      "Try using .loc[row_indexer,col_indexer] = value instead\n",
      "\n",
      "See the caveats in the documentation: http://pandas.pydata.org/pandas-docs/stable/indexing.html#indexing-view-versus-copy\n",
      "  self.obj[item] = s\n"
     ]
    },
    {
     "name": "stdout",
     "output_type": "stream",
     "text": [
      "201009 no data\n",
      "18.80709743499756\n",
      "201010\n"
     ]
    },
    {
     "name": "stderr",
     "output_type": "stream",
     "text": [
      "C:\\Users\\wells\\AppData\\Local\\Continuum\\anaconda3\\lib\\site-packages\\pandas\\core\\indexing.py:543: SettingWithCopyWarning: \n",
      "A value is trying to be set on a copy of a slice from a DataFrame.\n",
      "Try using .loc[row_indexer,col_indexer] = value instead\n",
      "\n",
      "See the caveats in the documentation: http://pandas.pydata.org/pandas-docs/stable/indexing.html#indexing-view-versus-copy\n",
      "  self.obj[item] = s\n"
     ]
    },
    {
     "name": "stdout",
     "output_type": "stream",
     "text": [
      "201010 no data\n",
      "22.023214101791382\n",
      "201011\n"
     ]
    },
    {
     "name": "stderr",
     "output_type": "stream",
     "text": [
      "C:\\Users\\wells\\AppData\\Local\\Continuum\\anaconda3\\lib\\site-packages\\pandas\\core\\indexing.py:543: SettingWithCopyWarning: \n",
      "A value is trying to be set on a copy of a slice from a DataFrame.\n",
      "Try using .loc[row_indexer,col_indexer] = value instead\n",
      "\n",
      "See the caveats in the documentation: http://pandas.pydata.org/pandas-docs/stable/indexing.html#indexing-view-versus-copy\n",
      "  self.obj[item] = s\n"
     ]
    },
    {
     "name": "stdout",
     "output_type": "stream",
     "text": [
      "21.746851205825806\n",
      "201012\n"
     ]
    },
    {
     "name": "stderr",
     "output_type": "stream",
     "text": [
      "C:\\Users\\wells\\AppData\\Local\\Continuum\\anaconda3\\lib\\site-packages\\pandas\\core\\indexing.py:543: SettingWithCopyWarning: \n",
      "A value is trying to be set on a copy of a slice from a DataFrame.\n",
      "Try using .loc[row_indexer,col_indexer] = value instead\n",
      "\n",
      "See the caveats in the documentation: http://pandas.pydata.org/pandas-docs/stable/indexing.html#indexing-view-versus-copy\n",
      "  self.obj[item] = s\n"
     ]
    },
    {
     "name": "stdout",
     "output_type": "stream",
     "text": [
      "22.108582258224487\n",
      "201101\n"
     ]
    },
    {
     "name": "stderr",
     "output_type": "stream",
     "text": [
      "C:\\Users\\wells\\AppData\\Local\\Continuum\\anaconda3\\lib\\site-packages\\pandas\\core\\indexing.py:543: SettingWithCopyWarning: \n",
      "A value is trying to be set on a copy of a slice from a DataFrame.\n",
      "Try using .loc[row_indexer,col_indexer] = value instead\n",
      "\n",
      "See the caveats in the documentation: http://pandas.pydata.org/pandas-docs/stable/indexing.html#indexing-view-versus-copy\n",
      "  self.obj[item] = s\n"
     ]
    },
    {
     "name": "stdout",
     "output_type": "stream",
     "text": [
      "18.426631689071655\n",
      "201102\n"
     ]
    },
    {
     "name": "stderr",
     "output_type": "stream",
     "text": [
      "C:\\Users\\wells\\AppData\\Local\\Continuum\\anaconda3\\lib\\site-packages\\pandas\\core\\indexing.py:543: SettingWithCopyWarning: \n",
      "A value is trying to be set on a copy of a slice from a DataFrame.\n",
      "Try using .loc[row_indexer,col_indexer] = value instead\n",
      "\n",
      "See the caveats in the documentation: http://pandas.pydata.org/pandas-docs/stable/indexing.html#indexing-view-versus-copy\n",
      "  self.obj[item] = s\n"
     ]
    },
    {
     "name": "stdout",
     "output_type": "stream",
     "text": [
      "18.466379165649414\n",
      "201103\n"
     ]
    },
    {
     "name": "stderr",
     "output_type": "stream",
     "text": [
      "C:\\Users\\wells\\AppData\\Local\\Continuum\\anaconda3\\lib\\site-packages\\pandas\\core\\indexing.py:543: SettingWithCopyWarning: \n",
      "A value is trying to be set on a copy of a slice from a DataFrame.\n",
      "Try using .loc[row_indexer,col_indexer] = value instead\n",
      "\n",
      "See the caveats in the documentation: http://pandas.pydata.org/pandas-docs/stable/indexing.html#indexing-view-versus-copy\n",
      "  self.obj[item] = s\n"
     ]
    },
    {
     "name": "stdout",
     "output_type": "stream",
     "text": [
      "201103 no data\n",
      "18.66376829147339\n",
      "201104\n"
     ]
    },
    {
     "name": "stderr",
     "output_type": "stream",
     "text": [
      "C:\\Users\\wells\\AppData\\Local\\Continuum\\anaconda3\\lib\\site-packages\\pandas\\core\\indexing.py:543: SettingWithCopyWarning: \n",
      "A value is trying to be set on a copy of a slice from a DataFrame.\n",
      "Try using .loc[row_indexer,col_indexer] = value instead\n",
      "\n",
      "See the caveats in the documentation: http://pandas.pydata.org/pandas-docs/stable/indexing.html#indexing-view-versus-copy\n",
      "  self.obj[item] = s\n"
     ]
    },
    {
     "name": "stdout",
     "output_type": "stream",
     "text": [
      "201104 no data\n",
      "19.307318925857544\n",
      "201105\n"
     ]
    },
    {
     "name": "stderr",
     "output_type": "stream",
     "text": [
      "C:\\Users\\wells\\AppData\\Local\\Continuum\\anaconda3\\lib\\site-packages\\pandas\\core\\indexing.py:543: SettingWithCopyWarning: \n",
      "A value is trying to be set on a copy of a slice from a DataFrame.\n",
      "Try using .loc[row_indexer,col_indexer] = value instead\n",
      "\n",
      "See the caveats in the documentation: http://pandas.pydata.org/pandas-docs/stable/indexing.html#indexing-view-versus-copy\n",
      "  self.obj[item] = s\n"
     ]
    },
    {
     "name": "stdout",
     "output_type": "stream",
     "text": [
      "19.28326106071472\n",
      "201106\n"
     ]
    },
    {
     "name": "stderr",
     "output_type": "stream",
     "text": [
      "C:\\Users\\wells\\AppData\\Local\\Continuum\\anaconda3\\lib\\site-packages\\pandas\\core\\indexing.py:543: SettingWithCopyWarning: \n",
      "A value is trying to be set on a copy of a slice from a DataFrame.\n",
      "Try using .loc[row_indexer,col_indexer] = value instead\n",
      "\n",
      "See the caveats in the documentation: http://pandas.pydata.org/pandas-docs/stable/indexing.html#indexing-view-versus-copy\n",
      "  self.obj[item] = s\n"
     ]
    },
    {
     "name": "stdout",
     "output_type": "stream",
     "text": [
      "19.616199254989624\n",
      "201107\n"
     ]
    },
    {
     "name": "stderr",
     "output_type": "stream",
     "text": [
      "C:\\Users\\wells\\AppData\\Local\\Continuum\\anaconda3\\lib\\site-packages\\pandas\\core\\indexing.py:543: SettingWithCopyWarning: \n",
      "A value is trying to be set on a copy of a slice from a DataFrame.\n",
      "Try using .loc[row_indexer,col_indexer] = value instead\n",
      "\n",
      "See the caveats in the documentation: http://pandas.pydata.org/pandas-docs/stable/indexing.html#indexing-view-versus-copy\n",
      "  self.obj[item] = s\n"
     ]
    },
    {
     "name": "stdout",
     "output_type": "stream",
     "text": [
      "201107 no data\n",
      "19.477401971817017\n",
      "201108\n"
     ]
    },
    {
     "name": "stderr",
     "output_type": "stream",
     "text": [
      "C:\\Users\\wells\\AppData\\Local\\Continuum\\anaconda3\\lib\\site-packages\\pandas\\core\\indexing.py:543: SettingWithCopyWarning: \n",
      "A value is trying to be set on a copy of a slice from a DataFrame.\n",
      "Try using .loc[row_indexer,col_indexer] = value instead\n",
      "\n",
      "See the caveats in the documentation: http://pandas.pydata.org/pandas-docs/stable/indexing.html#indexing-view-versus-copy\n",
      "  self.obj[item] = s\n"
     ]
    },
    {
     "name": "stdout",
     "output_type": "stream",
     "text": [
      "19.802677631378174\n",
      "201109\n"
     ]
    },
    {
     "name": "stderr",
     "output_type": "stream",
     "text": [
      "C:\\Users\\wells\\AppData\\Local\\Continuum\\anaconda3\\lib\\site-packages\\pandas\\core\\indexing.py:543: SettingWithCopyWarning: \n",
      "A value is trying to be set on a copy of a slice from a DataFrame.\n",
      "Try using .loc[row_indexer,col_indexer] = value instead\n",
      "\n",
      "See the caveats in the documentation: http://pandas.pydata.org/pandas-docs/stable/indexing.html#indexing-view-versus-copy\n",
      "  self.obj[item] = s\n"
     ]
    },
    {
     "name": "stdout",
     "output_type": "stream",
     "text": [
      "19.795137882232666\n",
      "201110\n"
     ]
    },
    {
     "name": "stderr",
     "output_type": "stream",
     "text": [
      "C:\\Users\\wells\\AppData\\Local\\Continuum\\anaconda3\\lib\\site-packages\\pandas\\core\\indexing.py:543: SettingWithCopyWarning: \n",
      "A value is trying to be set on a copy of a slice from a DataFrame.\n",
      "Try using .loc[row_indexer,col_indexer] = value instead\n",
      "\n",
      "See the caveats in the documentation: http://pandas.pydata.org/pandas-docs/stable/indexing.html#indexing-view-versus-copy\n",
      "  self.obj[item] = s\n"
     ]
    },
    {
     "name": "stdout",
     "output_type": "stream",
     "text": [
      "201110 no data\n",
      "19.74297547340393\n",
      "201111\n"
     ]
    },
    {
     "name": "stderr",
     "output_type": "stream",
     "text": [
      "C:\\Users\\wells\\AppData\\Local\\Continuum\\anaconda3\\lib\\site-packages\\pandas\\core\\indexing.py:543: SettingWithCopyWarning: \n",
      "A value is trying to be set on a copy of a slice from a DataFrame.\n",
      "Try using .loc[row_indexer,col_indexer] = value instead\n",
      "\n",
      "See the caveats in the documentation: http://pandas.pydata.org/pandas-docs/stable/indexing.html#indexing-view-versus-copy\n",
      "  self.obj[item] = s\n"
     ]
    },
    {
     "name": "stdout",
     "output_type": "stream",
     "text": [
      "19.656237602233887\n",
      "201112\n"
     ]
    },
    {
     "name": "stderr",
     "output_type": "stream",
     "text": [
      "C:\\Users\\wells\\AppData\\Local\\Continuum\\anaconda3\\lib\\site-packages\\pandas\\core\\indexing.py:543: SettingWithCopyWarning: \n",
      "A value is trying to be set on a copy of a slice from a DataFrame.\n",
      "Try using .loc[row_indexer,col_indexer] = value instead\n",
      "\n",
      "See the caveats in the documentation: http://pandas.pydata.org/pandas-docs/stable/indexing.html#indexing-view-versus-copy\n",
      "  self.obj[item] = s\n"
     ]
    },
    {
     "name": "stdout",
     "output_type": "stream",
     "text": [
      "20.09267497062683\n",
      "201201\n"
     ]
    },
    {
     "name": "stderr",
     "output_type": "stream",
     "text": [
      "C:\\Users\\wells\\AppData\\Local\\Continuum\\anaconda3\\lib\\site-packages\\pandas\\core\\indexing.py:543: SettingWithCopyWarning: \n",
      "A value is trying to be set on a copy of a slice from a DataFrame.\n",
      "Try using .loc[row_indexer,col_indexer] = value instead\n",
      "\n",
      "See the caveats in the documentation: http://pandas.pydata.org/pandas-docs/stable/indexing.html#indexing-view-versus-copy\n",
      "  self.obj[item] = s\n"
     ]
    },
    {
     "name": "stdout",
     "output_type": "stream",
     "text": [
      "201201 no data\n",
      "20.136982679367065\n",
      "201202\n"
     ]
    },
    {
     "name": "stderr",
     "output_type": "stream",
     "text": [
      "C:\\Users\\wells\\AppData\\Local\\Continuum\\anaconda3\\lib\\site-packages\\pandas\\core\\indexing.py:543: SettingWithCopyWarning: \n",
      "A value is trying to be set on a copy of a slice from a DataFrame.\n",
      "Try using .loc[row_indexer,col_indexer] = value instead\n",
      "\n",
      "See the caveats in the documentation: http://pandas.pydata.org/pandas-docs/stable/indexing.html#indexing-view-versus-copy\n",
      "  self.obj[item] = s\n"
     ]
    },
    {
     "name": "stdout",
     "output_type": "stream",
     "text": [
      "19.940799474716187\n",
      "201203\n"
     ]
    },
    {
     "name": "stderr",
     "output_type": "stream",
     "text": [
      "C:\\Users\\wells\\AppData\\Local\\Continuum\\anaconda3\\lib\\site-packages\\pandas\\core\\indexing.py:543: SettingWithCopyWarning: \n",
      "A value is trying to be set on a copy of a slice from a DataFrame.\n",
      "Try using .loc[row_indexer,col_indexer] = value instead\n",
      "\n",
      "See the caveats in the documentation: http://pandas.pydata.org/pandas-docs/stable/indexing.html#indexing-view-versus-copy\n",
      "  self.obj[item] = s\n"
     ]
    },
    {
     "name": "stdout",
     "output_type": "stream",
     "text": [
      "20.13778281211853\n",
      "201204\n"
     ]
    },
    {
     "name": "stderr",
     "output_type": "stream",
     "text": [
      "C:\\Users\\wells\\AppData\\Local\\Continuum\\anaconda3\\lib\\site-packages\\pandas\\core\\indexing.py:543: SettingWithCopyWarning: \n",
      "A value is trying to be set on a copy of a slice from a DataFrame.\n",
      "Try using .loc[row_indexer,col_indexer] = value instead\n",
      "\n",
      "See the caveats in the documentation: http://pandas.pydata.org/pandas-docs/stable/indexing.html#indexing-view-versus-copy\n",
      "  self.obj[item] = s\n"
     ]
    },
    {
     "name": "stdout",
     "output_type": "stream",
     "text": [
      "201204 no data\n",
      "16.214568376541138\n",
      "201205\n"
     ]
    },
    {
     "name": "stderr",
     "output_type": "stream",
     "text": [
      "C:\\Users\\wells\\AppData\\Local\\Continuum\\anaconda3\\lib\\site-packages\\pandas\\core\\indexing.py:543: SettingWithCopyWarning: \n",
      "A value is trying to be set on a copy of a slice from a DataFrame.\n",
      "Try using .loc[row_indexer,col_indexer] = value instead\n",
      "\n",
      "See the caveats in the documentation: http://pandas.pydata.org/pandas-docs/stable/indexing.html#indexing-view-versus-copy\n",
      "  self.obj[item] = s\n"
     ]
    },
    {
     "name": "stdout",
     "output_type": "stream",
     "text": [
      "16.613492012023926\n",
      "201206\n"
     ]
    },
    {
     "name": "stderr",
     "output_type": "stream",
     "text": [
      "C:\\Users\\wells\\AppData\\Local\\Continuum\\anaconda3\\lib\\site-packages\\pandas\\core\\indexing.py:543: SettingWithCopyWarning: \n",
      "A value is trying to be set on a copy of a slice from a DataFrame.\n",
      "Try using .loc[row_indexer,col_indexer] = value instead\n",
      "\n",
      "See the caveats in the documentation: http://pandas.pydata.org/pandas-docs/stable/indexing.html#indexing-view-versus-copy\n",
      "  self.obj[item] = s\n"
     ]
    },
    {
     "name": "stdout",
     "output_type": "stream",
     "text": [
      "201206 no data\n",
      "16.292304039001465\n",
      "201207\n"
     ]
    },
    {
     "name": "stderr",
     "output_type": "stream",
     "text": [
      "C:\\Users\\wells\\AppData\\Local\\Continuum\\anaconda3\\lib\\site-packages\\pandas\\core\\indexing.py:543: SettingWithCopyWarning: \n",
      "A value is trying to be set on a copy of a slice from a DataFrame.\n",
      "Try using .loc[row_indexer,col_indexer] = value instead\n",
      "\n",
      "See the caveats in the documentation: http://pandas.pydata.org/pandas-docs/stable/indexing.html#indexing-view-versus-copy\n",
      "  self.obj[item] = s\n"
     ]
    },
    {
     "name": "stdout",
     "output_type": "stream",
     "text": [
      "15.594655990600586\n",
      "201208\n"
     ]
    },
    {
     "name": "stderr",
     "output_type": "stream",
     "text": [
      "C:\\Users\\wells\\AppData\\Local\\Continuum\\anaconda3\\lib\\site-packages\\pandas\\core\\indexing.py:543: SettingWithCopyWarning: \n",
      "A value is trying to be set on a copy of a slice from a DataFrame.\n",
      "Try using .loc[row_indexer,col_indexer] = value instead\n",
      "\n",
      "See the caveats in the documentation: http://pandas.pydata.org/pandas-docs/stable/indexing.html#indexing-view-versus-copy\n",
      "  self.obj[item] = s\n"
     ]
    },
    {
     "name": "stdout",
     "output_type": "stream",
     "text": [
      "201208 no data\n",
      "15.569638013839722\n",
      "201209\n"
     ]
    },
    {
     "name": "stderr",
     "output_type": "stream",
     "text": [
      "C:\\Users\\wells\\AppData\\Local\\Continuum\\anaconda3\\lib\\site-packages\\pandas\\core\\indexing.py:543: SettingWithCopyWarning: \n",
      "A value is trying to be set on a copy of a slice from a DataFrame.\n",
      "Try using .loc[row_indexer,col_indexer] = value instead\n",
      "\n",
      "See the caveats in the documentation: http://pandas.pydata.org/pandas-docs/stable/indexing.html#indexing-view-versus-copy\n",
      "  self.obj[item] = s\n"
     ]
    },
    {
     "name": "stdout",
     "output_type": "stream",
     "text": [
      "201209 no data\n",
      "15.371918678283691\n",
      "201210\n"
     ]
    },
    {
     "name": "stderr",
     "output_type": "stream",
     "text": [
      "C:\\Users\\wells\\AppData\\Local\\Continuum\\anaconda3\\lib\\site-packages\\pandas\\core\\indexing.py:543: SettingWithCopyWarning: \n",
      "A value is trying to be set on a copy of a slice from a DataFrame.\n",
      "Try using .loc[row_indexer,col_indexer] = value instead\n",
      "\n",
      "See the caveats in the documentation: http://pandas.pydata.org/pandas-docs/stable/indexing.html#indexing-view-versus-copy\n",
      "  self.obj[item] = s\n"
     ]
    },
    {
     "name": "stdout",
     "output_type": "stream",
     "text": [
      "14.415265798568726\n",
      "201211\n"
     ]
    },
    {
     "name": "stderr",
     "output_type": "stream",
     "text": [
      "C:\\Users\\wells\\AppData\\Local\\Continuum\\anaconda3\\lib\\site-packages\\pandas\\core\\indexing.py:543: SettingWithCopyWarning: \n",
      "A value is trying to be set on a copy of a slice from a DataFrame.\n",
      "Try using .loc[row_indexer,col_indexer] = value instead\n",
      "\n",
      "See the caveats in the documentation: http://pandas.pydata.org/pandas-docs/stable/indexing.html#indexing-view-versus-copy\n",
      "  self.obj[item] = s\n"
     ]
    },
    {
     "name": "stdout",
     "output_type": "stream",
     "text": [
      "201211 no data\n",
      "15.152591705322266\n",
      "201212\n"
     ]
    },
    {
     "name": "stderr",
     "output_type": "stream",
     "text": [
      "C:\\Users\\wells\\AppData\\Local\\Continuum\\anaconda3\\lib\\site-packages\\pandas\\core\\indexing.py:543: SettingWithCopyWarning: \n",
      "A value is trying to be set on a copy of a slice from a DataFrame.\n",
      "Try using .loc[row_indexer,col_indexer] = value instead\n",
      "\n",
      "See the caveats in the documentation: http://pandas.pydata.org/pandas-docs/stable/indexing.html#indexing-view-versus-copy\n",
      "  self.obj[item] = s\n"
     ]
    },
    {
     "name": "stdout",
     "output_type": "stream",
     "text": [
      "201212 no data\n",
      "14.604625940322876\n",
      "201301\n"
     ]
    },
    {
     "name": "stderr",
     "output_type": "stream",
     "text": [
      "C:\\Users\\wells\\AppData\\Local\\Continuum\\anaconda3\\lib\\site-packages\\pandas\\core\\indexing.py:543: SettingWithCopyWarning: \n",
      "A value is trying to be set on a copy of a slice from a DataFrame.\n",
      "Try using .loc[row_indexer,col_indexer] = value instead\n",
      "\n",
      "See the caveats in the documentation: http://pandas.pydata.org/pandas-docs/stable/indexing.html#indexing-view-versus-copy\n",
      "  self.obj[item] = s\n"
     ]
    },
    {
     "name": "stdout",
     "output_type": "stream",
     "text": [
      "15.47031855583191\n",
      "201302\n"
     ]
    },
    {
     "name": "stderr",
     "output_type": "stream",
     "text": [
      "C:\\Users\\wells\\AppData\\Local\\Continuum\\anaconda3\\lib\\site-packages\\pandas\\core\\indexing.py:543: SettingWithCopyWarning: \n",
      "A value is trying to be set on a copy of a slice from a DataFrame.\n",
      "Try using .loc[row_indexer,col_indexer] = value instead\n",
      "\n",
      "See the caveats in the documentation: http://pandas.pydata.org/pandas-docs/stable/indexing.html#indexing-view-versus-copy\n",
      "  self.obj[item] = s\n"
     ]
    },
    {
     "name": "stdout",
     "output_type": "stream",
     "text": [
      "15.262694597244263\n",
      "201303\n"
     ]
    },
    {
     "name": "stderr",
     "output_type": "stream",
     "text": [
      "C:\\Users\\wells\\AppData\\Local\\Continuum\\anaconda3\\lib\\site-packages\\pandas\\core\\indexing.py:543: SettingWithCopyWarning: \n",
      "A value is trying to be set on a copy of a slice from a DataFrame.\n",
      "Try using .loc[row_indexer,col_indexer] = value instead\n",
      "\n",
      "See the caveats in the documentation: http://pandas.pydata.org/pandas-docs/stable/indexing.html#indexing-view-versus-copy\n",
      "  self.obj[item] = s\n"
     ]
    },
    {
     "name": "stdout",
     "output_type": "stream",
     "text": [
      "201303 no data\n",
      "15.337414503097534\n",
      "201304\n"
     ]
    },
    {
     "name": "stderr",
     "output_type": "stream",
     "text": [
      "C:\\Users\\wells\\AppData\\Local\\Continuum\\anaconda3\\lib\\site-packages\\pandas\\core\\indexing.py:543: SettingWithCopyWarning: \n",
      "A value is trying to be set on a copy of a slice from a DataFrame.\n",
      "Try using .loc[row_indexer,col_indexer] = value instead\n",
      "\n",
      "See the caveats in the documentation: http://pandas.pydata.org/pandas-docs/stable/indexing.html#indexing-view-versus-copy\n",
      "  self.obj[item] = s\n"
     ]
    },
    {
     "name": "stdout",
     "output_type": "stream",
     "text": [
      "201304 no data\n",
      "15.164308547973633\n",
      "201305\n"
     ]
    },
    {
     "name": "stderr",
     "output_type": "stream",
     "text": [
      "C:\\Users\\wells\\AppData\\Local\\Continuum\\anaconda3\\lib\\site-packages\\pandas\\core\\indexing.py:543: SettingWithCopyWarning: \n",
      "A value is trying to be set on a copy of a slice from a DataFrame.\n",
      "Try using .loc[row_indexer,col_indexer] = value instead\n",
      "\n",
      "See the caveats in the documentation: http://pandas.pydata.org/pandas-docs/stable/indexing.html#indexing-view-versus-copy\n",
      "  self.obj[item] = s\n"
     ]
    },
    {
     "name": "stdout",
     "output_type": "stream",
     "text": [
      "201305 no data\n",
      "15.471357345581055\n",
      "201306\n"
     ]
    },
    {
     "name": "stderr",
     "output_type": "stream",
     "text": [
      "C:\\Users\\wells\\AppData\\Local\\Continuum\\anaconda3\\lib\\site-packages\\pandas\\core\\indexing.py:543: SettingWithCopyWarning: \n",
      "A value is trying to be set on a copy of a slice from a DataFrame.\n",
      "Try using .loc[row_indexer,col_indexer] = value instead\n",
      "\n",
      "See the caveats in the documentation: http://pandas.pydata.org/pandas-docs/stable/indexing.html#indexing-view-versus-copy\n",
      "  self.obj[item] = s\n"
     ]
    },
    {
     "name": "stdout",
     "output_type": "stream",
     "text": [
      "15.653565645217896\n",
      "201307\n"
     ]
    },
    {
     "name": "stderr",
     "output_type": "stream",
     "text": [
      "C:\\Users\\wells\\AppData\\Local\\Continuum\\anaconda3\\lib\\site-packages\\pandas\\core\\indexing.py:543: SettingWithCopyWarning: \n",
      "A value is trying to be set on a copy of a slice from a DataFrame.\n",
      "Try using .loc[row_indexer,col_indexer] = value instead\n",
      "\n",
      "See the caveats in the documentation: http://pandas.pydata.org/pandas-docs/stable/indexing.html#indexing-view-versus-copy\n",
      "  self.obj[item] = s\n"
     ]
    },
    {
     "name": "stdout",
     "output_type": "stream",
     "text": [
      "201307 no data\n",
      "15.499889612197876\n",
      "201308\n"
     ]
    },
    {
     "name": "stderr",
     "output_type": "stream",
     "text": [
      "C:\\Users\\wells\\AppData\\Local\\Continuum\\anaconda3\\lib\\site-packages\\pandas\\core\\indexing.py:543: SettingWithCopyWarning: \n",
      "A value is trying to be set on a copy of a slice from a DataFrame.\n",
      "Try using .loc[row_indexer,col_indexer] = value instead\n",
      "\n",
      "See the caveats in the documentation: http://pandas.pydata.org/pandas-docs/stable/indexing.html#indexing-view-versus-copy\n",
      "  self.obj[item] = s\n"
     ]
    },
    {
     "name": "stdout",
     "output_type": "stream",
     "text": [
      "15.532338857650757\n",
      "201309\n"
     ]
    },
    {
     "name": "stderr",
     "output_type": "stream",
     "text": [
      "C:\\Users\\wells\\AppData\\Local\\Continuum\\anaconda3\\lib\\site-packages\\pandas\\core\\indexing.py:543: SettingWithCopyWarning: \n",
      "A value is trying to be set on a copy of a slice from a DataFrame.\n",
      "Try using .loc[row_indexer,col_indexer] = value instead\n",
      "\n",
      "See the caveats in the documentation: http://pandas.pydata.org/pandas-docs/stable/indexing.html#indexing-view-versus-copy\n",
      "  self.obj[item] = s\n"
     ]
    },
    {
     "name": "stdout",
     "output_type": "stream",
     "text": [
      "201309 no data\n",
      "15.732691526412964\n",
      "201310\n"
     ]
    },
    {
     "name": "stderr",
     "output_type": "stream",
     "text": [
      "C:\\Users\\wells\\AppData\\Local\\Continuum\\anaconda3\\lib\\site-packages\\pandas\\core\\indexing.py:543: SettingWithCopyWarning: \n",
      "A value is trying to be set on a copy of a slice from a DataFrame.\n",
      "Try using .loc[row_indexer,col_indexer] = value instead\n",
      "\n",
      "See the caveats in the documentation: http://pandas.pydata.org/pandas-docs/stable/indexing.html#indexing-view-versus-copy\n",
      "  self.obj[item] = s\n"
     ]
    },
    {
     "name": "stdout",
     "output_type": "stream",
     "text": [
      "20.33080220222473\n",
      "201311\n"
     ]
    },
    {
     "name": "stderr",
     "output_type": "stream",
     "text": [
      "C:\\Users\\wells\\AppData\\Local\\Continuum\\anaconda3\\lib\\site-packages\\pandas\\core\\indexing.py:543: SettingWithCopyWarning: \n",
      "A value is trying to be set on a copy of a slice from a DataFrame.\n",
      "Try using .loc[row_indexer,col_indexer] = value instead\n",
      "\n",
      "See the caveats in the documentation: http://pandas.pydata.org/pandas-docs/stable/indexing.html#indexing-view-versus-copy\n",
      "  self.obj[item] = s\n"
     ]
    },
    {
     "name": "stdout",
     "output_type": "stream",
     "text": [
      "201311 no data\n",
      "19.93621587753296\n",
      "201312\n"
     ]
    },
    {
     "name": "stderr",
     "output_type": "stream",
     "text": [
      "C:\\Users\\wells\\AppData\\Local\\Continuum\\anaconda3\\lib\\site-packages\\pandas\\core\\indexing.py:543: SettingWithCopyWarning: \n",
      "A value is trying to be set on a copy of a slice from a DataFrame.\n",
      "Try using .loc[row_indexer,col_indexer] = value instead\n",
      "\n",
      "See the caveats in the documentation: http://pandas.pydata.org/pandas-docs/stable/indexing.html#indexing-view-versus-copy\n",
      "  self.obj[item] = s\n"
     ]
    },
    {
     "name": "stdout",
     "output_type": "stream",
     "text": [
      "20.093156814575195\n",
      "201401\n"
     ]
    },
    {
     "name": "stderr",
     "output_type": "stream",
     "text": [
      "C:\\Users\\wells\\AppData\\Local\\Continuum\\anaconda3\\lib\\site-packages\\pandas\\core\\indexing.py:543: SettingWithCopyWarning: \n",
      "A value is trying to be set on a copy of a slice from a DataFrame.\n",
      "Try using .loc[row_indexer,col_indexer] = value instead\n",
      "\n",
      "See the caveats in the documentation: http://pandas.pydata.org/pandas-docs/stable/indexing.html#indexing-view-versus-copy\n",
      "  self.obj[item] = s\n"
     ]
    },
    {
     "name": "stdout",
     "output_type": "stream",
     "text": [
      "20.001911401748657\n",
      "201402\n"
     ]
    },
    {
     "name": "stderr",
     "output_type": "stream",
     "text": [
      "C:\\Users\\wells\\AppData\\Local\\Continuum\\anaconda3\\lib\\site-packages\\pandas\\core\\indexing.py:543: SettingWithCopyWarning: \n",
      "A value is trying to be set on a copy of a slice from a DataFrame.\n",
      "Try using .loc[row_indexer,col_indexer] = value instead\n",
      "\n",
      "See the caveats in the documentation: http://pandas.pydata.org/pandas-docs/stable/indexing.html#indexing-view-versus-copy\n",
      "  self.obj[item] = s\n"
     ]
    },
    {
     "name": "stdout",
     "output_type": "stream",
     "text": [
      "201402 no data\n",
      "19.967885732650757\n",
      "201403\n"
     ]
    },
    {
     "name": "stderr",
     "output_type": "stream",
     "text": [
      "C:\\Users\\wells\\AppData\\Local\\Continuum\\anaconda3\\lib\\site-packages\\pandas\\core\\indexing.py:543: SettingWithCopyWarning: \n",
      "A value is trying to be set on a copy of a slice from a DataFrame.\n",
      "Try using .loc[row_indexer,col_indexer] = value instead\n",
      "\n",
      "See the caveats in the documentation: http://pandas.pydata.org/pandas-docs/stable/indexing.html#indexing-view-versus-copy\n",
      "  self.obj[item] = s\n"
     ]
    },
    {
     "name": "stdout",
     "output_type": "stream",
     "text": [
      "201403 no data\n",
      "20.363372564315796\n",
      "201404\n"
     ]
    },
    {
     "name": "stderr",
     "output_type": "stream",
     "text": [
      "C:\\Users\\wells\\AppData\\Local\\Continuum\\anaconda3\\lib\\site-packages\\pandas\\core\\indexing.py:543: SettingWithCopyWarning: \n",
      "A value is trying to be set on a copy of a slice from a DataFrame.\n",
      "Try using .loc[row_indexer,col_indexer] = value instead\n",
      "\n",
      "See the caveats in the documentation: http://pandas.pydata.org/pandas-docs/stable/indexing.html#indexing-view-versus-copy\n",
      "  self.obj[item] = s\n"
     ]
    },
    {
     "name": "stdout",
     "output_type": "stream",
     "text": [
      "201404 no data\n",
      "19.997217893600464\n",
      "201405\n"
     ]
    },
    {
     "name": "stderr",
     "output_type": "stream",
     "text": [
      "C:\\Users\\wells\\AppData\\Local\\Continuum\\anaconda3\\lib\\site-packages\\pandas\\core\\indexing.py:543: SettingWithCopyWarning: \n",
      "A value is trying to be set on a copy of a slice from a DataFrame.\n",
      "Try using .loc[row_indexer,col_indexer] = value instead\n",
      "\n",
      "See the caveats in the documentation: http://pandas.pydata.org/pandas-docs/stable/indexing.html#indexing-view-versus-copy\n",
      "  self.obj[item] = s\n"
     ]
    },
    {
     "name": "stdout",
     "output_type": "stream",
     "text": [
      "201405 no data\n",
      "20.109566926956177\n",
      "201406\n"
     ]
    },
    {
     "name": "stderr",
     "output_type": "stream",
     "text": [
      "C:\\Users\\wells\\AppData\\Local\\Continuum\\anaconda3\\lib\\site-packages\\pandas\\core\\indexing.py:543: SettingWithCopyWarning: \n",
      "A value is trying to be set on a copy of a slice from a DataFrame.\n",
      "Try using .loc[row_indexer,col_indexer] = value instead\n",
      "\n",
      "See the caveats in the documentation: http://pandas.pydata.org/pandas-docs/stable/indexing.html#indexing-view-versus-copy\n",
      "  self.obj[item] = s\n"
     ]
    },
    {
     "name": "stdout",
     "output_type": "stream",
     "text": [
      "201406 no data\n",
      "19.578604698181152\n",
      "201407\n"
     ]
    },
    {
     "name": "stderr",
     "output_type": "stream",
     "text": [
      "C:\\Users\\wells\\AppData\\Local\\Continuum\\anaconda3\\lib\\site-packages\\pandas\\core\\indexing.py:543: SettingWithCopyWarning: \n",
      "A value is trying to be set on a copy of a slice from a DataFrame.\n",
      "Try using .loc[row_indexer,col_indexer] = value instead\n",
      "\n",
      "See the caveats in the documentation: http://pandas.pydata.org/pandas-docs/stable/indexing.html#indexing-view-versus-copy\n",
      "  self.obj[item] = s\n"
     ]
    },
    {
     "name": "stdout",
     "output_type": "stream",
     "text": [
      "201407 no data\n",
      "19.420069217681885\n",
      "201408\n"
     ]
    },
    {
     "name": "stderr",
     "output_type": "stream",
     "text": [
      "C:\\Users\\wells\\AppData\\Local\\Continuum\\anaconda3\\lib\\site-packages\\pandas\\core\\indexing.py:543: SettingWithCopyWarning: \n",
      "A value is trying to be set on a copy of a slice from a DataFrame.\n",
      "Try using .loc[row_indexer,col_indexer] = value instead\n",
      "\n",
      "See the caveats in the documentation: http://pandas.pydata.org/pandas-docs/stable/indexing.html#indexing-view-versus-copy\n",
      "  self.obj[item] = s\n"
     ]
    },
    {
     "name": "stdout",
     "output_type": "stream",
     "text": [
      "19.47057580947876\n",
      "201409\n"
     ]
    },
    {
     "name": "stderr",
     "output_type": "stream",
     "text": [
      "C:\\Users\\wells\\AppData\\Local\\Continuum\\anaconda3\\lib\\site-packages\\pandas\\core\\indexing.py:543: SettingWithCopyWarning: \n",
      "A value is trying to be set on a copy of a slice from a DataFrame.\n",
      "Try using .loc[row_indexer,col_indexer] = value instead\n",
      "\n",
      "See the caveats in the documentation: http://pandas.pydata.org/pandas-docs/stable/indexing.html#indexing-view-versus-copy\n",
      "  self.obj[item] = s\n"
     ]
    },
    {
     "name": "stdout",
     "output_type": "stream",
     "text": [
      "20.479936599731445\n",
      "201410\n"
     ]
    },
    {
     "name": "stderr",
     "output_type": "stream",
     "text": [
      "C:\\Users\\wells\\AppData\\Local\\Continuum\\anaconda3\\lib\\site-packages\\pandas\\core\\indexing.py:543: SettingWithCopyWarning: \n",
      "A value is trying to be set on a copy of a slice from a DataFrame.\n",
      "Try using .loc[row_indexer,col_indexer] = value instead\n",
      "\n",
      "See the caveats in the documentation: http://pandas.pydata.org/pandas-docs/stable/indexing.html#indexing-view-versus-copy\n",
      "  self.obj[item] = s\n"
     ]
    },
    {
     "name": "stdout",
     "output_type": "stream",
     "text": [
      "201410 no data\n",
      "19.525352478027344\n",
      "201411\n"
     ]
    },
    {
     "name": "stderr",
     "output_type": "stream",
     "text": [
      "C:\\Users\\wells\\AppData\\Local\\Continuum\\anaconda3\\lib\\site-packages\\pandas\\core\\indexing.py:543: SettingWithCopyWarning: \n",
      "A value is trying to be set on a copy of a slice from a DataFrame.\n",
      "Try using .loc[row_indexer,col_indexer] = value instead\n",
      "\n",
      "See the caveats in the documentation: http://pandas.pydata.org/pandas-docs/stable/indexing.html#indexing-view-versus-copy\n",
      "  self.obj[item] = s\n"
     ]
    },
    {
     "name": "stdout",
     "output_type": "stream",
     "text": [
      "201411 no data\n",
      "19.501652479171753\n",
      "201412\n"
     ]
    },
    {
     "name": "stderr",
     "output_type": "stream",
     "text": [
      "C:\\Users\\wells\\AppData\\Local\\Continuum\\anaconda3\\lib\\site-packages\\pandas\\core\\indexing.py:543: SettingWithCopyWarning: \n",
      "A value is trying to be set on a copy of a slice from a DataFrame.\n",
      "Try using .loc[row_indexer,col_indexer] = value instead\n",
      "\n",
      "See the caveats in the documentation: http://pandas.pydata.org/pandas-docs/stable/indexing.html#indexing-view-versus-copy\n",
      "  self.obj[item] = s\n"
     ]
    },
    {
     "name": "stdout",
     "output_type": "stream",
     "text": [
      "19.64449691772461\n",
      "201501\n"
     ]
    },
    {
     "name": "stderr",
     "output_type": "stream",
     "text": [
      "C:\\Users\\wells\\AppData\\Local\\Continuum\\anaconda3\\lib\\site-packages\\pandas\\core\\indexing.py:543: SettingWithCopyWarning: \n",
      "A value is trying to be set on a copy of a slice from a DataFrame.\n",
      "Try using .loc[row_indexer,col_indexer] = value instead\n",
      "\n",
      "See the caveats in the documentation: http://pandas.pydata.org/pandas-docs/stable/indexing.html#indexing-view-versus-copy\n",
      "  self.obj[item] = s\n"
     ]
    },
    {
     "name": "stdout",
     "output_type": "stream",
     "text": [
      "201501 no data\n",
      "19.181588411331177\n",
      "201502\n"
     ]
    },
    {
     "name": "stderr",
     "output_type": "stream",
     "text": [
      "C:\\Users\\wells\\AppData\\Local\\Continuum\\anaconda3\\lib\\site-packages\\pandas\\core\\indexing.py:543: SettingWithCopyWarning: \n",
      "A value is trying to be set on a copy of a slice from a DataFrame.\n",
      "Try using .loc[row_indexer,col_indexer] = value instead\n",
      "\n",
      "See the caveats in the documentation: http://pandas.pydata.org/pandas-docs/stable/indexing.html#indexing-view-versus-copy\n",
      "  self.obj[item] = s\n"
     ]
    },
    {
     "name": "stdout",
     "output_type": "stream",
     "text": [
      "201502 no data\n",
      "19.29207134246826\n",
      "201503\n"
     ]
    },
    {
     "name": "stderr",
     "output_type": "stream",
     "text": [
      "C:\\Users\\wells\\AppData\\Local\\Continuum\\anaconda3\\lib\\site-packages\\pandas\\core\\indexing.py:543: SettingWithCopyWarning: \n",
      "A value is trying to be set on a copy of a slice from a DataFrame.\n",
      "Try using .loc[row_indexer,col_indexer] = value instead\n",
      "\n",
      "See the caveats in the documentation: http://pandas.pydata.org/pandas-docs/stable/indexing.html#indexing-view-versus-copy\n",
      "  self.obj[item] = s\n"
     ]
    },
    {
     "name": "stdout",
     "output_type": "stream",
     "text": [
      "19.298778533935547\n",
      "201504\n"
     ]
    },
    {
     "name": "stderr",
     "output_type": "stream",
     "text": [
      "C:\\Users\\wells\\AppData\\Local\\Continuum\\anaconda3\\lib\\site-packages\\pandas\\core\\indexing.py:543: SettingWithCopyWarning: \n",
      "A value is trying to be set on a copy of a slice from a DataFrame.\n",
      "Try using .loc[row_indexer,col_indexer] = value instead\n",
      "\n",
      "See the caveats in the documentation: http://pandas.pydata.org/pandas-docs/stable/indexing.html#indexing-view-versus-copy\n",
      "  self.obj[item] = s\n"
     ]
    },
    {
     "name": "stdout",
     "output_type": "stream",
     "text": [
      "201504 no data\n",
      "19.27324104309082\n",
      "201505\n"
     ]
    },
    {
     "name": "stderr",
     "output_type": "stream",
     "text": [
      "C:\\Users\\wells\\AppData\\Local\\Continuum\\anaconda3\\lib\\site-packages\\pandas\\core\\indexing.py:543: SettingWithCopyWarning: \n",
      "A value is trying to be set on a copy of a slice from a DataFrame.\n",
      "Try using .loc[row_indexer,col_indexer] = value instead\n",
      "\n",
      "See the caveats in the documentation: http://pandas.pydata.org/pandas-docs/stable/indexing.html#indexing-view-versus-copy\n",
      "  self.obj[item] = s\n"
     ]
    },
    {
     "name": "stdout",
     "output_type": "stream",
     "text": [
      "201505 no data\n",
      "19.140700340270996\n",
      "201506\n"
     ]
    },
    {
     "name": "stderr",
     "output_type": "stream",
     "text": [
      "C:\\Users\\wells\\AppData\\Local\\Continuum\\anaconda3\\lib\\site-packages\\pandas\\core\\indexing.py:543: SettingWithCopyWarning: \n",
      "A value is trying to be set on a copy of a slice from a DataFrame.\n",
      "Try using .loc[row_indexer,col_indexer] = value instead\n",
      "\n",
      "See the caveats in the documentation: http://pandas.pydata.org/pandas-docs/stable/indexing.html#indexing-view-versus-copy\n",
      "  self.obj[item] = s\n"
     ]
    },
    {
     "name": "stdout",
     "output_type": "stream",
     "text": [
      "201506 no data\n",
      "19.04524517059326\n",
      "201507\n"
     ]
    },
    {
     "name": "stderr",
     "output_type": "stream",
     "text": [
      "C:\\Users\\wells\\AppData\\Local\\Continuum\\anaconda3\\lib\\site-packages\\pandas\\core\\indexing.py:543: SettingWithCopyWarning: \n",
      "A value is trying to be set on a copy of a slice from a DataFrame.\n",
      "Try using .loc[row_indexer,col_indexer] = value instead\n",
      "\n",
      "See the caveats in the documentation: http://pandas.pydata.org/pandas-docs/stable/indexing.html#indexing-view-versus-copy\n",
      "  self.obj[item] = s\n"
     ]
    },
    {
     "name": "stdout",
     "output_type": "stream",
     "text": [
      "19.554600715637207\n",
      "201508\n"
     ]
    },
    {
     "name": "stderr",
     "output_type": "stream",
     "text": [
      "C:\\Users\\wells\\AppData\\Local\\Continuum\\anaconda3\\lib\\site-packages\\pandas\\core\\indexing.py:543: SettingWithCopyWarning: \n",
      "A value is trying to be set on a copy of a slice from a DataFrame.\n",
      "Try using .loc[row_indexer,col_indexer] = value instead\n",
      "\n",
      "See the caveats in the documentation: http://pandas.pydata.org/pandas-docs/stable/indexing.html#indexing-view-versus-copy\n",
      "  self.obj[item] = s\n"
     ]
    },
    {
     "name": "stdout",
     "output_type": "stream",
     "text": [
      "201508 no data\n",
      "19.43703532218933\n",
      "201509\n"
     ]
    },
    {
     "name": "stderr",
     "output_type": "stream",
     "text": [
      "C:\\Users\\wells\\AppData\\Local\\Continuum\\anaconda3\\lib\\site-packages\\pandas\\core\\indexing.py:543: SettingWithCopyWarning: \n",
      "A value is trying to be set on a copy of a slice from a DataFrame.\n",
      "Try using .loc[row_indexer,col_indexer] = value instead\n",
      "\n",
      "See the caveats in the documentation: http://pandas.pydata.org/pandas-docs/stable/indexing.html#indexing-view-versus-copy\n",
      "  self.obj[item] = s\n"
     ]
    },
    {
     "name": "stdout",
     "output_type": "stream",
     "text": [
      "19.623884677886963\n",
      "201510\n"
     ]
    },
    {
     "name": "stderr",
     "output_type": "stream",
     "text": [
      "C:\\Users\\wells\\AppData\\Local\\Continuum\\anaconda3\\lib\\site-packages\\pandas\\core\\indexing.py:543: SettingWithCopyWarning: \n",
      "A value is trying to be set on a copy of a slice from a DataFrame.\n",
      "Try using .loc[row_indexer,col_indexer] = value instead\n",
      "\n",
      "See the caveats in the documentation: http://pandas.pydata.org/pandas-docs/stable/indexing.html#indexing-view-versus-copy\n",
      "  self.obj[item] = s\n"
     ]
    },
    {
     "name": "stdout",
     "output_type": "stream",
     "text": [
      "201510 no data\n",
      "19.53117823600769\n",
      "201511\n"
     ]
    },
    {
     "name": "stderr",
     "output_type": "stream",
     "text": [
      "C:\\Users\\wells\\AppData\\Local\\Continuum\\anaconda3\\lib\\site-packages\\pandas\\core\\indexing.py:543: SettingWithCopyWarning: \n",
      "A value is trying to be set on a copy of a slice from a DataFrame.\n",
      "Try using .loc[row_indexer,col_indexer] = value instead\n",
      "\n",
      "See the caveats in the documentation: http://pandas.pydata.org/pandas-docs/stable/indexing.html#indexing-view-versus-copy\n",
      "  self.obj[item] = s\n"
     ]
    },
    {
     "name": "stdout",
     "output_type": "stream",
     "text": [
      "19.54572606086731\n",
      "201512\n"
     ]
    },
    {
     "name": "stderr",
     "output_type": "stream",
     "text": [
      "C:\\Users\\wells\\AppData\\Local\\Continuum\\anaconda3\\lib\\site-packages\\pandas\\core\\indexing.py:543: SettingWithCopyWarning: \n",
      "A value is trying to be set on a copy of a slice from a DataFrame.\n",
      "Try using .loc[row_indexer,col_indexer] = value instead\n",
      "\n",
      "See the caveats in the documentation: http://pandas.pydata.org/pandas-docs/stable/indexing.html#indexing-view-versus-copy\n",
      "  self.obj[item] = s\n"
     ]
    },
    {
     "name": "stdout",
     "output_type": "stream",
     "text": [
      "201512 no data\n",
      "20.238273859024048\n",
      "201601\n"
     ]
    },
    {
     "name": "stderr",
     "output_type": "stream",
     "text": [
      "C:\\Users\\wells\\AppData\\Local\\Continuum\\anaconda3\\lib\\site-packages\\pandas\\core\\indexing.py:543: SettingWithCopyWarning: \n",
      "A value is trying to be set on a copy of a slice from a DataFrame.\n",
      "Try using .loc[row_indexer,col_indexer] = value instead\n",
      "\n",
      "See the caveats in the documentation: http://pandas.pydata.org/pandas-docs/stable/indexing.html#indexing-view-versus-copy\n",
      "  self.obj[item] = s\n"
     ]
    },
    {
     "name": "stdout",
     "output_type": "stream",
     "text": [
      "201601 no data\n",
      "20.927778005599976\n",
      "201602\n"
     ]
    },
    {
     "name": "stderr",
     "output_type": "stream",
     "text": [
      "C:\\Users\\wells\\AppData\\Local\\Continuum\\anaconda3\\lib\\site-packages\\pandas\\core\\indexing.py:543: SettingWithCopyWarning: \n",
      "A value is trying to be set on a copy of a slice from a DataFrame.\n",
      "Try using .loc[row_indexer,col_indexer] = value instead\n",
      "\n",
      "See the caveats in the documentation: http://pandas.pydata.org/pandas-docs/stable/indexing.html#indexing-view-versus-copy\n",
      "  self.obj[item] = s\n"
     ]
    },
    {
     "name": "stdout",
     "output_type": "stream",
     "text": [
      "21.00624394416809\n",
      "201603\n"
     ]
    },
    {
     "name": "stderr",
     "output_type": "stream",
     "text": [
      "C:\\Users\\wells\\AppData\\Local\\Continuum\\anaconda3\\lib\\site-packages\\pandas\\core\\indexing.py:543: SettingWithCopyWarning: \n",
      "A value is trying to be set on a copy of a slice from a DataFrame.\n",
      "Try using .loc[row_indexer,col_indexer] = value instead\n",
      "\n",
      "See the caveats in the documentation: http://pandas.pydata.org/pandas-docs/stable/indexing.html#indexing-view-versus-copy\n",
      "  self.obj[item] = s\n"
     ]
    },
    {
     "name": "stdout",
     "output_type": "stream",
     "text": [
      "201603 no data\n",
      "20.852715015411377\n",
      "201604\n"
     ]
    },
    {
     "name": "stderr",
     "output_type": "stream",
     "text": [
      "C:\\Users\\wells\\AppData\\Local\\Continuum\\anaconda3\\lib\\site-packages\\pandas\\core\\indexing.py:543: SettingWithCopyWarning: \n",
      "A value is trying to be set on a copy of a slice from a DataFrame.\n",
      "Try using .loc[row_indexer,col_indexer] = value instead\n",
      "\n",
      "See the caveats in the documentation: http://pandas.pydata.org/pandas-docs/stable/indexing.html#indexing-view-versus-copy\n",
      "  self.obj[item] = s\n"
     ]
    },
    {
     "name": "stdout",
     "output_type": "stream",
     "text": [
      "20.855469226837158\n",
      "201605\n"
     ]
    },
    {
     "name": "stderr",
     "output_type": "stream",
     "text": [
      "C:\\Users\\wells\\AppData\\Local\\Continuum\\anaconda3\\lib\\site-packages\\pandas\\core\\indexing.py:543: SettingWithCopyWarning: \n",
      "A value is trying to be set on a copy of a slice from a DataFrame.\n",
      "Try using .loc[row_indexer,col_indexer] = value instead\n",
      "\n",
      "See the caveats in the documentation: http://pandas.pydata.org/pandas-docs/stable/indexing.html#indexing-view-versus-copy\n",
      "  self.obj[item] = s\n"
     ]
    },
    {
     "name": "stdout",
     "output_type": "stream",
     "text": [
      "201605 no data\n",
      "20.670138120651245\n",
      "201606\n"
     ]
    },
    {
     "name": "stderr",
     "output_type": "stream",
     "text": [
      "C:\\Users\\wells\\AppData\\Local\\Continuum\\anaconda3\\lib\\site-packages\\pandas\\core\\indexing.py:543: SettingWithCopyWarning: \n",
      "A value is trying to be set on a copy of a slice from a DataFrame.\n",
      "Try using .loc[row_indexer,col_indexer] = value instead\n",
      "\n",
      "See the caveats in the documentation: http://pandas.pydata.org/pandas-docs/stable/indexing.html#indexing-view-versus-copy\n",
      "  self.obj[item] = s\n"
     ]
    },
    {
     "name": "stdout",
     "output_type": "stream",
     "text": [
      "201606 no data\n",
      "20.979185581207275\n",
      "201607\n"
     ]
    },
    {
     "name": "stderr",
     "output_type": "stream",
     "text": [
      "C:\\Users\\wells\\AppData\\Local\\Continuum\\anaconda3\\lib\\site-packages\\pandas\\core\\indexing.py:543: SettingWithCopyWarning: \n",
      "A value is trying to be set on a copy of a slice from a DataFrame.\n",
      "Try using .loc[row_indexer,col_indexer] = value instead\n",
      "\n",
      "See the caveats in the documentation: http://pandas.pydata.org/pandas-docs/stable/indexing.html#indexing-view-versus-copy\n",
      "  self.obj[item] = s\n"
     ]
    },
    {
     "name": "stdout",
     "output_type": "stream",
     "text": [
      "201607 no data\n",
      "21.04754638671875\n",
      "201608\n"
     ]
    },
    {
     "name": "stderr",
     "output_type": "stream",
     "text": [
      "C:\\Users\\wells\\AppData\\Local\\Continuum\\anaconda3\\lib\\site-packages\\pandas\\core\\indexing.py:543: SettingWithCopyWarning: \n",
      "A value is trying to be set on a copy of a slice from a DataFrame.\n",
      "Try using .loc[row_indexer,col_indexer] = value instead\n",
      "\n",
      "See the caveats in the documentation: http://pandas.pydata.org/pandas-docs/stable/indexing.html#indexing-view-versus-copy\n",
      "  self.obj[item] = s\n"
     ]
    },
    {
     "name": "stdout",
     "output_type": "stream",
     "text": [
      "21.323842525482178\n",
      "201609\n"
     ]
    },
    {
     "name": "stderr",
     "output_type": "stream",
     "text": [
      "C:\\Users\\wells\\AppData\\Local\\Continuum\\anaconda3\\lib\\site-packages\\pandas\\core\\indexing.py:543: SettingWithCopyWarning: \n",
      "A value is trying to be set on a copy of a slice from a DataFrame.\n",
      "Try using .loc[row_indexer,col_indexer] = value instead\n",
      "\n",
      "See the caveats in the documentation: http://pandas.pydata.org/pandas-docs/stable/indexing.html#indexing-view-versus-copy\n",
      "  self.obj[item] = s\n"
     ]
    },
    {
     "name": "stdout",
     "output_type": "stream",
     "text": [
      "201609 no data\n",
      "20.94180154800415\n",
      "201610\n"
     ]
    },
    {
     "name": "stderr",
     "output_type": "stream",
     "text": [
      "C:\\Users\\wells\\AppData\\Local\\Continuum\\anaconda3\\lib\\site-packages\\pandas\\core\\indexing.py:543: SettingWithCopyWarning: \n",
      "A value is trying to be set on a copy of a slice from a DataFrame.\n",
      "Try using .loc[row_indexer,col_indexer] = value instead\n",
      "\n",
      "See the caveats in the documentation: http://pandas.pydata.org/pandas-docs/stable/indexing.html#indexing-view-versus-copy\n",
      "  self.obj[item] = s\n"
     ]
    },
    {
     "name": "stdout",
     "output_type": "stream",
     "text": [
      "201610 no data\n",
      "21.119996309280396\n",
      "201611\n"
     ]
    },
    {
     "name": "stderr",
     "output_type": "stream",
     "text": [
      "C:\\Users\\wells\\AppData\\Local\\Continuum\\anaconda3\\lib\\site-packages\\pandas\\core\\indexing.py:543: SettingWithCopyWarning: \n",
      "A value is trying to be set on a copy of a slice from a DataFrame.\n",
      "Try using .loc[row_indexer,col_indexer] = value instead\n",
      "\n",
      "See the caveats in the documentation: http://pandas.pydata.org/pandas-docs/stable/indexing.html#indexing-view-versus-copy\n",
      "  self.obj[item] = s\n"
     ]
    },
    {
     "name": "stdout",
     "output_type": "stream",
     "text": [
      "201611 no data\n",
      "21.366984605789185\n",
      "201612\n"
     ]
    },
    {
     "name": "stderr",
     "output_type": "stream",
     "text": [
      "C:\\Users\\wells\\AppData\\Local\\Continuum\\anaconda3\\lib\\site-packages\\pandas\\core\\indexing.py:543: SettingWithCopyWarning: \n",
      "A value is trying to be set on a copy of a slice from a DataFrame.\n",
      "Try using .loc[row_indexer,col_indexer] = value instead\n",
      "\n",
      "See the caveats in the documentation: http://pandas.pydata.org/pandas-docs/stable/indexing.html#indexing-view-versus-copy\n",
      "  self.obj[item] = s\n"
     ]
    },
    {
     "name": "stdout",
     "output_type": "stream",
     "text": [
      "201612 no data\n",
      "20.92543315887451\n",
      "201701\n"
     ]
    },
    {
     "name": "stderr",
     "output_type": "stream",
     "text": [
      "C:\\Users\\wells\\AppData\\Local\\Continuum\\anaconda3\\lib\\site-packages\\pandas\\core\\indexing.py:543: SettingWithCopyWarning: \n",
      "A value is trying to be set on a copy of a slice from a DataFrame.\n",
      "Try using .loc[row_indexer,col_indexer] = value instead\n",
      "\n",
      "See the caveats in the documentation: http://pandas.pydata.org/pandas-docs/stable/indexing.html#indexing-view-versus-copy\n",
      "  self.obj[item] = s\n"
     ]
    },
    {
     "name": "stdout",
     "output_type": "stream",
     "text": [
      "20.282543897628784\n",
      "201702\n"
     ]
    },
    {
     "name": "stderr",
     "output_type": "stream",
     "text": [
      "C:\\Users\\wells\\AppData\\Local\\Continuum\\anaconda3\\lib\\site-packages\\pandas\\core\\indexing.py:543: SettingWithCopyWarning: \n",
      "A value is trying to be set on a copy of a slice from a DataFrame.\n",
      "Try using .loc[row_indexer,col_indexer] = value instead\n",
      "\n",
      "See the caveats in the documentation: http://pandas.pydata.org/pandas-docs/stable/indexing.html#indexing-view-versus-copy\n",
      "  self.obj[item] = s\n"
     ]
    },
    {
     "name": "stdout",
     "output_type": "stream",
     "text": [
      "201702 no data\n",
      "20.044009685516357\n",
      "201703\n"
     ]
    },
    {
     "name": "stderr",
     "output_type": "stream",
     "text": [
      "C:\\Users\\wells\\AppData\\Local\\Continuum\\anaconda3\\lib\\site-packages\\pandas\\core\\indexing.py:543: SettingWithCopyWarning: \n",
      "A value is trying to be set on a copy of a slice from a DataFrame.\n",
      "Try using .loc[row_indexer,col_indexer] = value instead\n",
      "\n",
      "See the caveats in the documentation: http://pandas.pydata.org/pandas-docs/stable/indexing.html#indexing-view-versus-copy\n",
      "  self.obj[item] = s\n"
     ]
    },
    {
     "name": "stdout",
     "output_type": "stream",
     "text": [
      "201703 no data\n",
      "20.693230390548706\n",
      "201704\n"
     ]
    },
    {
     "name": "stderr",
     "output_type": "stream",
     "text": [
      "C:\\Users\\wells\\AppData\\Local\\Continuum\\anaconda3\\lib\\site-packages\\pandas\\core\\indexing.py:543: SettingWithCopyWarning: \n",
      "A value is trying to be set on a copy of a slice from a DataFrame.\n",
      "Try using .loc[row_indexer,col_indexer] = value instead\n",
      "\n",
      "See the caveats in the documentation: http://pandas.pydata.org/pandas-docs/stable/indexing.html#indexing-view-versus-copy\n",
      "  self.obj[item] = s\n"
     ]
    },
    {
     "name": "stdout",
     "output_type": "stream",
     "text": [
      "201704 no data\n",
      "20.157440900802612\n",
      "201705\n"
     ]
    },
    {
     "name": "stderr",
     "output_type": "stream",
     "text": [
      "C:\\Users\\wells\\AppData\\Local\\Continuum\\anaconda3\\lib\\site-packages\\pandas\\core\\indexing.py:543: SettingWithCopyWarning: \n",
      "A value is trying to be set on a copy of a slice from a DataFrame.\n",
      "Try using .loc[row_indexer,col_indexer] = value instead\n",
      "\n",
      "See the caveats in the documentation: http://pandas.pydata.org/pandas-docs/stable/indexing.html#indexing-view-versus-copy\n",
      "  self.obj[item] = s\n"
     ]
    },
    {
     "name": "stdout",
     "output_type": "stream",
     "text": [
      "20.091941833496094\n",
      "201706\n"
     ]
    },
    {
     "name": "stderr",
     "output_type": "stream",
     "text": [
      "C:\\Users\\wells\\AppData\\Local\\Continuum\\anaconda3\\lib\\site-packages\\pandas\\core\\indexing.py:543: SettingWithCopyWarning: \n",
      "A value is trying to be set on a copy of a slice from a DataFrame.\n",
      "Try using .loc[row_indexer,col_indexer] = value instead\n",
      "\n",
      "See the caveats in the documentation: http://pandas.pydata.org/pandas-docs/stable/indexing.html#indexing-view-versus-copy\n",
      "  self.obj[item] = s\n"
     ]
    },
    {
     "name": "stdout",
     "output_type": "stream",
     "text": [
      "201706 no data\n",
      "19.65731692314148\n",
      "201707\n"
     ]
    },
    {
     "name": "stderr",
     "output_type": "stream",
     "text": [
      "C:\\Users\\wells\\AppData\\Local\\Continuum\\anaconda3\\lib\\site-packages\\pandas\\core\\indexing.py:543: SettingWithCopyWarning: \n",
      "A value is trying to be set on a copy of a slice from a DataFrame.\n",
      "Try using .loc[row_indexer,col_indexer] = value instead\n",
      "\n",
      "See the caveats in the documentation: http://pandas.pydata.org/pandas-docs/stable/indexing.html#indexing-view-versus-copy\n",
      "  self.obj[item] = s\n"
     ]
    },
    {
     "name": "stdout",
     "output_type": "stream",
     "text": [
      "201707 no data\n",
      "19.688888788223267\n",
      "201708\n"
     ]
    },
    {
     "name": "stderr",
     "output_type": "stream",
     "text": [
      "C:\\Users\\wells\\AppData\\Local\\Continuum\\anaconda3\\lib\\site-packages\\pandas\\core\\indexing.py:543: SettingWithCopyWarning: \n",
      "A value is trying to be set on a copy of a slice from a DataFrame.\n",
      "Try using .loc[row_indexer,col_indexer] = value instead\n",
      "\n",
      "See the caveats in the documentation: http://pandas.pydata.org/pandas-docs/stable/indexing.html#indexing-view-versus-copy\n",
      "  self.obj[item] = s\n"
     ]
    },
    {
     "name": "stdout",
     "output_type": "stream",
     "text": [
      "201708 no data\n",
      "20.597665548324585\n",
      "201709\n"
     ]
    },
    {
     "name": "stderr",
     "output_type": "stream",
     "text": [
      "C:\\Users\\wells\\AppData\\Local\\Continuum\\anaconda3\\lib\\site-packages\\pandas\\core\\indexing.py:543: SettingWithCopyWarning: \n",
      "A value is trying to be set on a copy of a slice from a DataFrame.\n",
      "Try using .loc[row_indexer,col_indexer] = value instead\n",
      "\n",
      "See the caveats in the documentation: http://pandas.pydata.org/pandas-docs/stable/indexing.html#indexing-view-versus-copy\n",
      "  self.obj[item] = s\n"
     ]
    },
    {
     "name": "stdout",
     "output_type": "stream",
     "text": [
      "201709 no data\n",
      "19.757262706756592\n",
      "201710\n"
     ]
    },
    {
     "name": "stderr",
     "output_type": "stream",
     "text": [
      "C:\\Users\\wells\\AppData\\Local\\Continuum\\anaconda3\\lib\\site-packages\\pandas\\core\\indexing.py:543: SettingWithCopyWarning: \n",
      "A value is trying to be set on a copy of a slice from a DataFrame.\n",
      "Try using .loc[row_indexer,col_indexer] = value instead\n",
      "\n",
      "See the caveats in the documentation: http://pandas.pydata.org/pandas-docs/stable/indexing.html#indexing-view-versus-copy\n",
      "  self.obj[item] = s\n"
     ]
    },
    {
     "name": "stdout",
     "output_type": "stream",
     "text": [
      "24.60292410850525\n",
      "201711\n"
     ]
    },
    {
     "name": "stderr",
     "output_type": "stream",
     "text": [
      "C:\\Users\\wells\\AppData\\Local\\Continuum\\anaconda3\\lib\\site-packages\\pandas\\core\\indexing.py:543: SettingWithCopyWarning: \n",
      "A value is trying to be set on a copy of a slice from a DataFrame.\n",
      "Try using .loc[row_indexer,col_indexer] = value instead\n",
      "\n",
      "See the caveats in the documentation: http://pandas.pydata.org/pandas-docs/stable/indexing.html#indexing-view-versus-copy\n",
      "  self.obj[item] = s\n"
     ]
    },
    {
     "name": "stdout",
     "output_type": "stream",
     "text": [
      "201711 no data\n",
      "24.198874950408936\n",
      "201712\n"
     ]
    },
    {
     "name": "stderr",
     "output_type": "stream",
     "text": [
      "C:\\Users\\wells\\AppData\\Local\\Continuum\\anaconda3\\lib\\site-packages\\pandas\\core\\indexing.py:543: SettingWithCopyWarning: \n",
      "A value is trying to be set on a copy of a slice from a DataFrame.\n",
      "Try using .loc[row_indexer,col_indexer] = value instead\n",
      "\n",
      "See the caveats in the documentation: http://pandas.pydata.org/pandas-docs/stable/indexing.html#indexing-view-versus-copy\n",
      "  self.obj[item] = s\n"
     ]
    },
    {
     "name": "stdout",
     "output_type": "stream",
     "text": [
      "23.574475526809692\n",
      "201801\n"
     ]
    },
    {
     "name": "stderr",
     "output_type": "stream",
     "text": [
      "C:\\Users\\wells\\AppData\\Local\\Continuum\\anaconda3\\lib\\site-packages\\pandas\\core\\indexing.py:543: SettingWithCopyWarning: \n",
      "A value is trying to be set on a copy of a slice from a DataFrame.\n",
      "Try using .loc[row_indexer,col_indexer] = value instead\n",
      "\n",
      "See the caveats in the documentation: http://pandas.pydata.org/pandas-docs/stable/indexing.html#indexing-view-versus-copy\n",
      "  self.obj[item] = s\n"
     ]
    },
    {
     "name": "stdout",
     "output_type": "stream",
     "text": [
      "201801 no data\n",
      "18.57492685317993\n",
      "201802\n"
     ]
    },
    {
     "name": "stderr",
     "output_type": "stream",
     "text": [
      "C:\\Users\\wells\\AppData\\Local\\Continuum\\anaconda3\\lib\\site-packages\\pandas\\core\\indexing.py:543: SettingWithCopyWarning: \n",
      "A value is trying to be set on a copy of a slice from a DataFrame.\n",
      "Try using .loc[row_indexer,col_indexer] = value instead\n",
      "\n",
      "See the caveats in the documentation: http://pandas.pydata.org/pandas-docs/stable/indexing.html#indexing-view-versus-copy\n",
      "  self.obj[item] = s\n"
     ]
    },
    {
     "name": "stdout",
     "output_type": "stream",
     "text": [
      "201802 no data\n",
      "18.385901927947998\n",
      "201803\n"
     ]
    },
    {
     "name": "stderr",
     "output_type": "stream",
     "text": [
      "C:\\Users\\wells\\AppData\\Local\\Continuum\\anaconda3\\lib\\site-packages\\pandas\\core\\indexing.py:543: SettingWithCopyWarning: \n",
      "A value is trying to be set on a copy of a slice from a DataFrame.\n",
      "Try using .loc[row_indexer,col_indexer] = value instead\n",
      "\n",
      "See the caveats in the documentation: http://pandas.pydata.org/pandas-docs/stable/indexing.html#indexing-view-versus-copy\n",
      "  self.obj[item] = s\n"
     ]
    },
    {
     "name": "stdout",
     "output_type": "stream",
     "text": [
      "201803 no data\n",
      "18.593592405319214\n",
      "201804\n"
     ]
    },
    {
     "name": "stderr",
     "output_type": "stream",
     "text": [
      "C:\\Users\\wells\\AppData\\Local\\Continuum\\anaconda3\\lib\\site-packages\\pandas\\core\\indexing.py:543: SettingWithCopyWarning: \n",
      "A value is trying to be set on a copy of a slice from a DataFrame.\n",
      "Try using .loc[row_indexer,col_indexer] = value instead\n",
      "\n",
      "See the caveats in the documentation: http://pandas.pydata.org/pandas-docs/stable/indexing.html#indexing-view-versus-copy\n",
      "  self.obj[item] = s\n"
     ]
    },
    {
     "name": "stdout",
     "output_type": "stream",
     "text": [
      "201804 no data\n",
      "18.280378580093384\n",
      "201805\n"
     ]
    },
    {
     "name": "stderr",
     "output_type": "stream",
     "text": [
      "C:\\Users\\wells\\AppData\\Local\\Continuum\\anaconda3\\lib\\site-packages\\pandas\\core\\indexing.py:543: SettingWithCopyWarning: \n",
      "A value is trying to be set on a copy of a slice from a DataFrame.\n",
      "Try using .loc[row_indexer,col_indexer] = value instead\n",
      "\n",
      "See the caveats in the documentation: http://pandas.pydata.org/pandas-docs/stable/indexing.html#indexing-view-versus-copy\n",
      "  self.obj[item] = s\n"
     ]
    },
    {
     "name": "stdout",
     "output_type": "stream",
     "text": [
      "201805 no data\n",
      "18.001070499420166\n",
      "201806\n"
     ]
    },
    {
     "name": "stderr",
     "output_type": "stream",
     "text": [
      "C:\\Users\\wells\\AppData\\Local\\Continuum\\anaconda3\\lib\\site-packages\\pandas\\core\\indexing.py:543: SettingWithCopyWarning: \n",
      "A value is trying to be set on a copy of a slice from a DataFrame.\n",
      "Try using .loc[row_indexer,col_indexer] = value instead\n",
      "\n",
      "See the caveats in the documentation: http://pandas.pydata.org/pandas-docs/stable/indexing.html#indexing-view-versus-copy\n",
      "  self.obj[item] = s\n"
     ]
    },
    {
     "name": "stdout",
     "output_type": "stream",
     "text": [
      "201806 no data\n",
      "18.306366682052612\n",
      "201807\n"
     ]
    },
    {
     "name": "stderr",
     "output_type": "stream",
     "text": [
      "C:\\Users\\wells\\AppData\\Local\\Continuum\\anaconda3\\lib\\site-packages\\pandas\\core\\indexing.py:543: SettingWithCopyWarning: \n",
      "A value is trying to be set on a copy of a slice from a DataFrame.\n",
      "Try using .loc[row_indexer,col_indexer] = value instead\n",
      "\n",
      "See the caveats in the documentation: http://pandas.pydata.org/pandas-docs/stable/indexing.html#indexing-view-versus-copy\n",
      "  self.obj[item] = s\n"
     ]
    },
    {
     "name": "stdout",
     "output_type": "stream",
     "text": [
      "201807 no data\n",
      "21.690638542175293\n",
      "201808\n"
     ]
    },
    {
     "name": "stderr",
     "output_type": "stream",
     "text": [
      "C:\\Users\\wells\\AppData\\Local\\Continuum\\anaconda3\\lib\\site-packages\\pandas\\core\\indexing.py:543: SettingWithCopyWarning: \n",
      "A value is trying to be set on a copy of a slice from a DataFrame.\n",
      "Try using .loc[row_indexer,col_indexer] = value instead\n",
      "\n",
      "See the caveats in the documentation: http://pandas.pydata.org/pandas-docs/stable/indexing.html#indexing-view-versus-copy\n",
      "  self.obj[item] = s\n"
     ]
    },
    {
     "name": "stdout",
     "output_type": "stream",
     "text": [
      "201808 no data\n",
      "22.115026712417603\n",
      "201809\n"
     ]
    },
    {
     "name": "stderr",
     "output_type": "stream",
     "text": [
      "C:\\Users\\wells\\AppData\\Local\\Continuum\\anaconda3\\lib\\site-packages\\pandas\\core\\indexing.py:543: SettingWithCopyWarning: \n",
      "A value is trying to be set on a copy of a slice from a DataFrame.\n",
      "Try using .loc[row_indexer,col_indexer] = value instead\n",
      "\n",
      "See the caveats in the documentation: http://pandas.pydata.org/pandas-docs/stable/indexing.html#indexing-view-versus-copy\n",
      "  self.obj[item] = s\n"
     ]
    },
    {
     "name": "stdout",
     "output_type": "stream",
     "text": [
      "201809 no data\n",
      "22.02090620994568\n",
      "201810\n"
     ]
    },
    {
     "name": "stderr",
     "output_type": "stream",
     "text": [
      "C:\\Users\\wells\\AppData\\Local\\Continuum\\anaconda3\\lib\\site-packages\\pandas\\core\\indexing.py:543: SettingWithCopyWarning: \n",
      "A value is trying to be set on a copy of a slice from a DataFrame.\n",
      "Try using .loc[row_indexer,col_indexer] = value instead\n",
      "\n",
      "See the caveats in the documentation: http://pandas.pydata.org/pandas-docs/stable/indexing.html#indexing-view-versus-copy\n",
      "  self.obj[item] = s\n"
     ]
    },
    {
     "name": "stdout",
     "output_type": "stream",
     "text": [
      "21.371628046035767\n",
      "201811\n"
     ]
    },
    {
     "name": "stderr",
     "output_type": "stream",
     "text": [
      "C:\\Users\\wells\\AppData\\Local\\Continuum\\anaconda3\\lib\\site-packages\\pandas\\core\\indexing.py:543: SettingWithCopyWarning: \n",
      "A value is trying to be set on a copy of a slice from a DataFrame.\n",
      "Try using .loc[row_indexer,col_indexer] = value instead\n",
      "\n",
      "See the caveats in the documentation: http://pandas.pydata.org/pandas-docs/stable/indexing.html#indexing-view-versus-copy\n",
      "  self.obj[item] = s\n"
     ]
    },
    {
     "name": "stdout",
     "output_type": "stream",
     "text": [
      "201811 no data\n",
      "21.77830481529236\n",
      "201812\n"
     ]
    },
    {
     "name": "stderr",
     "output_type": "stream",
     "text": [
      "C:\\Users\\wells\\AppData\\Local\\Continuum\\anaconda3\\lib\\site-packages\\pandas\\core\\indexing.py:543: SettingWithCopyWarning: \n",
      "A value is trying to be set on a copy of a slice from a DataFrame.\n",
      "Try using .loc[row_indexer,col_indexer] = value instead\n",
      "\n",
      "See the caveats in the documentation: http://pandas.pydata.org/pandas-docs/stable/indexing.html#indexing-view-versus-copy\n",
      "  self.obj[item] = s\n"
     ]
    },
    {
     "name": "stdout",
     "output_type": "stream",
     "text": [
      "201812 no data\n",
      "22.851572513580322\n",
      "201901\n"
     ]
    },
    {
     "name": "stderr",
     "output_type": "stream",
     "text": [
      "C:\\Users\\wells\\AppData\\Local\\Continuum\\anaconda3\\lib\\site-packages\\pandas\\core\\indexing.py:543: SettingWithCopyWarning: \n",
      "A value is trying to be set on a copy of a slice from a DataFrame.\n",
      "Try using .loc[row_indexer,col_indexer] = value instead\n",
      "\n",
      "See the caveats in the documentation: http://pandas.pydata.org/pandas-docs/stable/indexing.html#indexing-view-versus-copy\n",
      "  self.obj[item] = s\n"
     ]
    }
   ],
   "source": [
    "import time\n",
    "import pandas as pd\n",
    "import numpy as np\n",
    "import tool_class\n",
    "f13_data = pd.read_csv('lone_pine.csv')\n",
    "price_data = pd.read_csv('liquidity+highlow+class.csv', encoding='utf8', low_memory=False)\n",
    "industry = pd.read_csv('industry2.csv')\n",
    "asset = pd.read_csv('asset and book value.csv')\n",
    "our_revenue = []\n",
    "lone_pine_revenue = []\n",
    "error_date = []\n",
    "final_df = pd.DataFrame()\n",
    "for index in range(0, len(a_date)-1, 1):\n",
    "    c = time.time()\n",
    "    f13_data1 = f13_data.copy()\n",
    "    price_data1 = price_data.copy()\n",
    "    industry1 = industry.copy()\n",
    "    asset1 = asset.copy()\n",
    "    date = str(a_date[index])\n",
    "    print(date)\n",
    "    if int(date[4:]) == 1 or int(date[4:]) == 11:\n",
    "        seanson_date = str(int(date[0:4])-1) + '12'\n",
    "    elif int(date[4:]) == 4 or int(date[4:]) == 2:\n",
    "        seanson_date = date[0:4] + '03'\n",
    "    elif int(date[4:]) == 7 or int(date[4:]) == 5:\n",
    "        seanson_date = date[0:4] + '06'\n",
    "    elif int(date[4:]) == 10 or int(date[4:]) == 8:\n",
    "        seanson_date = date[0:4] + '09'\n",
    "    else:\n",
    "        seanson_date = date\n",
    "    tool = tool_class.Tool(f13_data1, price_data1, industry1, asset1, date)\n",
    "\n",
    "    feature_data = tool.training_set()\n",
    "\n",
    "    testing_data = tool.testing_set()\n",
    "\n",
    "    last_buy_count = len(feature_data[feature_data['buy']==1])\n",
    "    not_buy_count = len(feature_data[feature_data['buy']==0])\n",
    "    start = last_buy_count+1\n",
    "    \n",
    "    try:\n",
    "        testing_len = len(testing_data)\n",
    "        while start + last_buy_count * 3 < len(feature_data):# 比例\n",
    "            t_data = pd.concat([feature_data[:last_buy_count],feature_data[start:int(start+last_buy_count*1.5)]])# 比例\n",
    "            x = t_data[['volatility', 'liquidity', '52 week high', 'momentum']].values\n",
    "            y = t_data[['buy']].values\n",
    "            x_test = testing_data[['volatility', 'liquidity', '52 week high', 'momentum', 'new_mom', 'new_52']].values\n",
    "            svc_clf = tool.svc_model(x, y)\n",
    "            if svc_clf is not False:\n",
    "                y_pred = svc_clf.predict(x_test)\n",
    "                testing_data.loc[:, 'svc'] = y_pred\n",
    "                testing_data = testing_data[testing_data['svc']==1]\n",
    "            x_test = testing_data[['volatility', 'liquidity', '52 week high', 'momentum', 'new_mom', 'new_52']].values\n",
    "            rft_clf = tool.rft_model(x, y)\n",
    "            if rft_clf is not False:\n",
    "                y_pred = rft_clf.predict(x_test)\n",
    "                testing_data.loc[:, 'rtf'] = y_pred\n",
    "                testing_data = testing_data[testing_data['rtf']==1]\n",
    "            start = start+int(last_buy_count*1.5)# 比例\n",
    "        \n",
    "        t_data = pd.concat([feature_data[:last_buy_count],feature_data[start:]])\n",
    "        x = t_data[['volatility', 'liquidity', '52 week high', 'momentum', 'new_mom', 'new_52']].values\n",
    "        y = t_data[['buy']].values\n",
    "        x_test = testing_data[['volatility', 'liquidity', '52 week high', 'momentum', 'new_mom', 'new_52']].values\n",
    "        svc_clf = tool.svc_model(x, y)\n",
    "        if svc_clf is not False:\n",
    "            y_pred = svc_clf.predict(x_test)\n",
    "            testing_data.loc[:, 'svc'] = y_pred\n",
    "            testing_data = testing_data[testing_data['svc']==1]\n",
    "        x_test = testing_data[['volatility', 'liquidity', '52 week high', 'momentum', 'new_mom', 'new_52']].values\n",
    "        rft_clf = tool.rft_model(x, y)\n",
    "        if rft_clf is not False:\n",
    "            y_pred = rft_clf.predict(x_test)\n",
    "            testing_data.loc[:, 'rtf'] = y_pred\n",
    "            testing_data = testing_data[testing_data['rtf']==1]\n",
    "        \n",
    "        if testing_len != len(testing_data):\n",
    "            df = pd.DataFrame({'date':str(a_date[index+1]), 'ticker':list(testing_data['ticker']), 'class':list(testing_data['class'])})\n",
    "            final_df = pd.concat([final_df, df], ignore_index=True, sort=False)\n",
    "\n",
    "            test = tool.price_data.merge(testing_data[['ticker', 'class']], left_on=['Ticker', 'Class'], right_on=['ticker', 'class'])\n",
    "#             now_df = test[test['Date']==date]# equal-weight\n",
    "#             next_df = test[test['Date']==str(a_date[index+1])]# equal-weight\n",
    "#             next_df = next_df[['Ticker', 'Class', 'PRC']]# equal-weight\n",
    "#             next_df.columns = ['Ticker', 'Class', 'next_PRC']# equal-weight\n",
    "#             price_df = now_df.merge(next_df, on=['Ticker', 'Class'])# equal-weight\n",
    "#             price_df.loc[:, 'revenue'] = price_df['next_PRC'] / price_df['PRC']# equal-weight\n",
    "#             our_revenue.append(sum(price_df['revenue']) / len(price_df))# equal-weight\n",
    "            our_revenue.append(sum(test[test['Date']==str(a_date[index+1])]['PRC'])/sum(test[test['Date']==date]['PRC']))# price-weight\n",
    "\n",
    "\n",
    "            def abcd(df_col):\n",
    "                if df_col == 'A':\n",
    "                    return df_col\n",
    "                else:\n",
    "                    return 0\n",
    "            tdf = tool.f13_data[tool.f13_data['Date']==seanson_date][['Ticker', 'Class']]\n",
    "            tdf['Class'] = tdf['Class'].apply(abcd)\n",
    "            test1 = tool.price_data.merge(tdf, on=['Ticker', 'Class'])\n",
    "#             now_df = test1[test1['Date']==date]# equal-weight\n",
    "#             next_df = test1[test1['Date']==str(a_date[index+1])]# equal-weight\n",
    "#             next_df = next_df[['Ticker', 'Class', 'PRC']]# equal-weight\n",
    "#             next_df.columns = ['Ticker', 'Class', 'next_PRC']# equal-weight\n",
    "#             price_df = now_df.merge(next_df, on=['Ticker', 'Class'])# equal-weight\n",
    "#             price_df.loc[:, 'revenue'] = price_df['next_PRC'] / price_df['PRC']# equal-weight\n",
    "#             lone_pine_revenue.append(sum(price_df['revenue']) / len(price_df))# equal-weight\n",
    "            lone_pine_revenue.append(sum(list(test1[test1['Date']==str(a_date[index+1])]['PRC'])) / sum(list(test1[test1['Date']==date]['PRC'])))# price-weight\n",
    "        else:\n",
    "            print(date,'no filter')\n",
    "            error_date.append(date)\n",
    "    except:\n",
    "        print(date,'no data')\n",
    "        error_date.append(date)\n",
    "    \n",
    "    b = time.time()\n",
    "    print(b-c)"
   ]
  },
  {
   "cell_type": "code",
   "execution_count": 3,
   "metadata": {
    "scrolled": true
   },
   "outputs": [
    {
     "data": {
      "text/html": [
       "<div>\n",
       "<style scoped>\n",
       "    .dataframe tbody tr th:only-of-type {\n",
       "        vertical-align: middle;\n",
       "    }\n",
       "\n",
       "    .dataframe tbody tr th {\n",
       "        vertical-align: top;\n",
       "    }\n",
       "\n",
       "    .dataframe thead th {\n",
       "        text-align: right;\n",
       "    }\n",
       "</style>\n",
       "<table border=\"1\" class=\"dataframe\">\n",
       "  <thead>\n",
       "    <tr style=\"text-align: right;\">\n",
       "      <th></th>\n",
       "      <th>ticker</th>\n",
       "      <th>class</th>\n",
       "      <th>volatility</th>\n",
       "      <th>liquidity</th>\n",
       "      <th>52 week high</th>\n",
       "      <th>momentum</th>\n",
       "      <th>new_52</th>\n",
       "      <th>new_mom</th>\n",
       "      <th>buy</th>\n",
       "    </tr>\n",
       "  </thead>\n",
       "  <tbody>\n",
       "    <tr>\n",
       "      <th>0</th>\n",
       "      <td>ADBE</td>\n",
       "      <td>0</td>\n",
       "      <td>813790.0</td>\n",
       "      <td>1.668755</td>\n",
       "      <td>1.644324</td>\n",
       "      <td>1.068183</td>\n",
       "      <td>0.821228</td>\n",
       "      <td>0.981829</td>\n",
       "      <td>1</td>\n",
       "    </tr>\n",
       "    <tr>\n",
       "      <th>1</th>\n",
       "      <td>ADSK</td>\n",
       "      <td>0</td>\n",
       "      <td>511872.0</td>\n",
       "      <td>2.337219</td>\n",
       "      <td>1.514451</td>\n",
       "      <td>1.051375</td>\n",
       "      <td>0.818130</td>\n",
       "      <td>1.008468</td>\n",
       "      <td>1</td>\n",
       "    </tr>\n",
       "    <tr>\n",
       "      <th>2</th>\n",
       "      <td>AMZN</td>\n",
       "      <td>0</td>\n",
       "      <td>1393304.0</td>\n",
       "      <td>2.849473</td>\n",
       "      <td>1.798589</td>\n",
       "      <td>1.008797</td>\n",
       "      <td>0.736437</td>\n",
       "      <td>0.958295</td>\n",
       "      <td>1</td>\n",
       "    </tr>\n",
       "    <tr>\n",
       "      <th>3</th>\n",
       "      <td>ATVI</td>\n",
       "      <td>0</td>\n",
       "      <td>2455742.0</td>\n",
       "      <td>3.218320</td>\n",
       "      <td>1.696988</td>\n",
       "      <td>0.850249</td>\n",
       "      <td>0.558460</td>\n",
       "      <td>0.740352</td>\n",
       "      <td>1</td>\n",
       "    </tr>\n",
       "    <tr>\n",
       "      <th>4</th>\n",
       "      <td>BABA</td>\n",
       "      <td>0</td>\n",
       "      <td>4563960.0</td>\n",
       "      <td>4.019301</td>\n",
       "      <td>1.580897</td>\n",
       "      <td>0.850474</td>\n",
       "      <td>0.650052</td>\n",
       "      <td>1.031374</td>\n",
       "      <td>1</td>\n",
       "    </tr>\n",
       "    <tr>\n",
       "      <th>5</th>\n",
       "      <td>CP</td>\n",
       "      <td>0</td>\n",
       "      <td>126167.0</td>\n",
       "      <td>0.884749</td>\n",
       "      <td>1.299009</td>\n",
       "      <td>1.077932</td>\n",
       "      <td>0.797289</td>\n",
       "      <td>1.009770</td>\n",
       "      <td>1</td>\n",
       "    </tr>\n",
       "    <tr>\n",
       "      <th>6</th>\n",
       "      <td>CRM</td>\n",
       "      <td>0</td>\n",
       "      <td>1657478.0</td>\n",
       "      <td>2.166638</td>\n",
       "      <td>1.606710</td>\n",
       "      <td>1.073983</td>\n",
       "      <td>0.853768</td>\n",
       "      <td>0.975514</td>\n",
       "      <td>1</td>\n",
       "    </tr>\n",
       "    <tr>\n",
       "      <th>7</th>\n",
       "      <td>CSX</td>\n",
       "      <td>0</td>\n",
       "      <td>1036978.0</td>\n",
       "      <td>1.228036</td>\n",
       "      <td>1.495938</td>\n",
       "      <td>1.103365</td>\n",
       "      <td>0.822914</td>\n",
       "      <td>1.010903</td>\n",
       "      <td>1</td>\n",
       "    </tr>\n",
       "    <tr>\n",
       "      <th>8</th>\n",
       "      <td>EA</td>\n",
       "      <td>0</td>\n",
       "      <td>963326.0</td>\n",
       "      <td>3.188459</td>\n",
       "      <td>1.801500</td>\n",
       "      <td>0.747773</td>\n",
       "      <td>0.529846</td>\n",
       "      <td>0.853387</td>\n",
       "      <td>1</td>\n",
       "    </tr>\n",
       "    <tr>\n",
       "      <th>9</th>\n",
       "      <td>FLT</td>\n",
       "      <td>0</td>\n",
       "      <td>162563.0</td>\n",
       "      <td>1.844038</td>\n",
       "      <td>1.259898</td>\n",
       "      <td>0.953134</td>\n",
       "      <td>0.815133</td>\n",
       "      <td>0.933893</td>\n",
       "      <td>1</td>\n",
       "    </tr>\n",
       "    <tr>\n",
       "      <th>10</th>\n",
       "      <td>IQV</td>\n",
       "      <td>0</td>\n",
       "      <td>255214.0</td>\n",
       "      <td>1.275777</td>\n",
       "      <td>1.378703</td>\n",
       "      <td>1.129146</td>\n",
       "      <td>0.888354</td>\n",
       "      <td>0.993302</td>\n",
       "      <td>1</td>\n",
       "    </tr>\n",
       "    <tr>\n",
       "      <th>11</th>\n",
       "      <td>MA</td>\n",
       "      <td>A</td>\n",
       "      <td>921661.0</td>\n",
       "      <td>0.902765</td>\n",
       "      <td>1.560134</td>\n",
       "      <td>1.053428</td>\n",
       "      <td>0.843053</td>\n",
       "      <td>0.970806</td>\n",
       "      <td>1</td>\n",
       "    </tr>\n",
       "    <tr>\n",
       "      <th>12</th>\n",
       "      <td>MELI</td>\n",
       "      <td>0</td>\n",
       "      <td>134942.0</td>\n",
       "      <td>2.985244</td>\n",
       "      <td>1.528582</td>\n",
       "      <td>0.995358</td>\n",
       "      <td>0.707470</td>\n",
       "      <td>1.038321</td>\n",
       "      <td>1</td>\n",
       "    </tr>\n",
       "    <tr>\n",
       "      <th>13</th>\n",
       "      <td>MSFT</td>\n",
       "      <td>0</td>\n",
       "      <td>7199533.0</td>\n",
       "      <td>0.937901</td>\n",
       "      <td>1.425876</td>\n",
       "      <td>1.082151</td>\n",
       "      <td>0.878557</td>\n",
       "      <td>1.001807</td>\n",
       "      <td>1</td>\n",
       "    </tr>\n",
       "    <tr>\n",
       "      <th>14</th>\n",
       "      <td>NOW</td>\n",
       "      <td>0</td>\n",
       "      <td>425195.0</td>\n",
       "      <td>2.371417</td>\n",
       "      <td>1.800563</td>\n",
       "      <td>1.068894</td>\n",
       "      <td>0.870320</td>\n",
       "      <td>0.989091</td>\n",
       "      <td>1</td>\n",
       "    </tr>\n",
       "    <tr>\n",
       "      <th>15</th>\n",
       "      <td>NVDA</td>\n",
       "      <td>0</td>\n",
       "      <td>4049666.0</td>\n",
       "      <td>6.638797</td>\n",
       "      <td>1.999723</td>\n",
       "      <td>0.799786</td>\n",
       "      <td>0.461363</td>\n",
       "      <td>0.748214</td>\n",
       "      <td>1</td>\n",
       "    </tr>\n",
       "    <tr>\n",
       "      <th>16</th>\n",
       "      <td>PYPL</td>\n",
       "      <td>0</td>\n",
       "      <td>1618029.0</td>\n",
       "      <td>1.373121</td>\n",
       "      <td>1.311399</td>\n",
       "      <td>1.033979</td>\n",
       "      <td>0.903513</td>\n",
       "      <td>0.998410</td>\n",
       "      <td>1</td>\n",
       "    </tr>\n",
       "    <tr>\n",
       "      <th>17</th>\n",
       "      <td>STZ</td>\n",
       "      <td>A</td>\n",
       "      <td>409070.0</td>\n",
       "      <td>2.462230</td>\n",
       "      <td>1.228083</td>\n",
       "      <td>0.913075</td>\n",
       "      <td>0.686619</td>\n",
       "      <td>0.961792</td>\n",
       "      <td>1</td>\n",
       "    </tr>\n",
       "    <tr>\n",
       "      <th>18</th>\n",
       "      <td>TDG</td>\n",
       "      <td>0</td>\n",
       "      <td>97951.0</td>\n",
       "      <td>1.856961</td>\n",
       "      <td>1.390889</td>\n",
       "      <td>1.044050</td>\n",
       "      <td>0.905523</td>\n",
       "      <td>1.019535</td>\n",
       "      <td>1</td>\n",
       "    </tr>\n",
       "    <tr>\n",
       "      <th>19</th>\n",
       "      <td>TIF</td>\n",
       "      <td>0</td>\n",
       "      <td>492190.0</td>\n",
       "      <td>4.037753</td>\n",
       "      <td>1.553971</td>\n",
       "      <td>0.888586</td>\n",
       "      <td>0.577133</td>\n",
       "      <td>0.824101</td>\n",
       "      <td>1</td>\n",
       "    </tr>\n",
       "    <tr>\n",
       "      <th>20</th>\n",
       "      <td>TRU</td>\n",
       "      <td>0</td>\n",
       "      <td>315115.0</td>\n",
       "      <td>1.700567</td>\n",
       "      <td>1.400329</td>\n",
       "      <td>0.996178</td>\n",
       "      <td>0.741127</td>\n",
       "      <td>0.950025</td>\n",
       "      <td>1</td>\n",
       "    </tr>\n",
       "    <tr>\n",
       "      <th>21</th>\n",
       "      <td>UNH</td>\n",
       "      <td>0</td>\n",
       "      <td>748551.0</td>\n",
       "      <td>0.778092</td>\n",
       "      <td>1.329334</td>\n",
       "      <td>1.103413</td>\n",
       "      <td>0.881685</td>\n",
       "      <td>1.043685</td>\n",
       "      <td>1</td>\n",
       "    </tr>\n",
       "    <tr>\n",
       "      <th>22</th>\n",
       "      <td>WYNN</td>\n",
       "      <td>0</td>\n",
       "      <td>763816.0</td>\n",
       "      <td>7.024306</td>\n",
       "      <td>2.139626</td>\n",
       "      <td>0.668166</td>\n",
       "      <td>0.490844</td>\n",
       "      <td>0.973714</td>\n",
       "      <td>1</td>\n",
       "    </tr>\n",
       "    <tr>\n",
       "      <th>23</th>\n",
       "      <td>ADBE</td>\n",
       "      <td>0</td>\n",
       "      <td>509842.0</td>\n",
       "      <td>1.042377</td>\n",
       "      <td>1.342806</td>\n",
       "      <td>1.040719</td>\n",
       "      <td>0.967331</td>\n",
       "      <td>1.069159</td>\n",
       "      <td>1</td>\n",
       "    </tr>\n",
       "    <tr>\n",
       "      <th>24</th>\n",
       "      <td>ADSK</td>\n",
       "      <td>0</td>\n",
       "      <td>300297.0</td>\n",
       "      <td>1.368719</td>\n",
       "      <td>1.431759</td>\n",
       "      <td>1.119124</td>\n",
       "      <td>0.948503</td>\n",
       "      <td>1.114420</td>\n",
       "      <td>1</td>\n",
       "    </tr>\n",
       "    <tr>\n",
       "      <th>25</th>\n",
       "      <td>AMZN</td>\n",
       "      <td>0</td>\n",
       "      <td>809418.0</td>\n",
       "      <td>1.645961</td>\n",
       "      <td>1.517538</td>\n",
       "      <td>0.993424</td>\n",
       "      <td>0.873126</td>\n",
       "      <td>1.012130</td>\n",
       "      <td>1</td>\n",
       "    </tr>\n",
       "    <tr>\n",
       "      <th>26</th>\n",
       "      <td>ATVI</td>\n",
       "      <td>0</td>\n",
       "      <td>3873640.0</td>\n",
       "      <td>5.071311</td>\n",
       "      <td>2.079033</td>\n",
       "      <td>0.701359</td>\n",
       "      <td>0.545989</td>\n",
       "      <td>0.929901</td>\n",
       "      <td>1</td>\n",
       "    </tr>\n",
       "    <tr>\n",
       "      <th>27</th>\n",
       "      <td>BABA</td>\n",
       "      <td>0</td>\n",
       "      <td>2236645.0</td>\n",
       "      <td>1.969726</td>\n",
       "      <td>1.614548</td>\n",
       "      <td>1.021687</td>\n",
       "      <td>0.865266</td>\n",
       "      <td>1.123826</td>\n",
       "      <td>1</td>\n",
       "    </tr>\n",
       "    <tr>\n",
       "      <th>28</th>\n",
       "      <td>BKNG</td>\n",
       "      <td>0</td>\n",
       "      <td>84118.0</td>\n",
       "      <td>1.868749</td>\n",
       "      <td>1.364454</td>\n",
       "      <td>0.905965</td>\n",
       "      <td>0.790951</td>\n",
       "      <td>0.969318</td>\n",
       "      <td>1</td>\n",
       "    </tr>\n",
       "    <tr>\n",
       "      <th>29</th>\n",
       "      <td>CP</td>\n",
       "      <td>0</td>\n",
       "      <td>76703.0</td>\n",
       "      <td>0.547718</td>\n",
       "      <td>1.322843</td>\n",
       "      <td>1.045385</td>\n",
       "      <td>0.924814</td>\n",
       "      <td>1.051681</td>\n",
       "      <td>1</td>\n",
       "    </tr>\n",
       "    <tr>\n",
       "      <th>...</th>\n",
       "      <td>...</td>\n",
       "      <td>...</td>\n",
       "      <td>...</td>\n",
       "      <td>...</td>\n",
       "      <td>...</td>\n",
       "      <td>...</td>\n",
       "      <td>...</td>\n",
       "      <td>...</td>\n",
       "      <td>...</td>\n",
       "    </tr>\n",
       "    <tr>\n",
       "      <th>72</th>\n",
       "      <td>WYNN</td>\n",
       "      <td>0</td>\n",
       "      <td>514645.0</td>\n",
       "      <td>4.780192</td>\n",
       "      <td>2.092164</td>\n",
       "      <td>0.981547</td>\n",
       "      <td>0.644104</td>\n",
       "      <td>0.867664</td>\n",
       "      <td>1</td>\n",
       "    </tr>\n",
       "    <tr>\n",
       "      <th>73</th>\n",
       "      <td>ADBE</td>\n",
       "      <td>0</td>\n",
       "      <td>508205.0</td>\n",
       "      <td>1.048055</td>\n",
       "      <td>1.517206</td>\n",
       "      <td>1.091152</td>\n",
       "      <td>0.887493</td>\n",
       "      <td>0.972108</td>\n",
       "      <td>1</td>\n",
       "    </tr>\n",
       "    <tr>\n",
       "      <th>74</th>\n",
       "      <td>ADSK</td>\n",
       "      <td>0</td>\n",
       "      <td>718067.0</td>\n",
       "      <td>3.270065</td>\n",
       "      <td>1.506170</td>\n",
       "      <td>0.982706</td>\n",
       "      <td>0.828797</td>\n",
       "      <td>0.927624</td>\n",
       "      <td>1</td>\n",
       "    </tr>\n",
       "    <tr>\n",
       "      <th>75</th>\n",
       "      <td>AMZN</td>\n",
       "      <td>0</td>\n",
       "      <td>799855.0</td>\n",
       "      <td>1.616992</td>\n",
       "      <td>1.517538</td>\n",
       "      <td>1.032482</td>\n",
       "      <td>0.851141</td>\n",
       "      <td>0.962463</td>\n",
       "      <td>1</td>\n",
       "    </tr>\n",
       "    <tr>\n",
       "      <th>76</th>\n",
       "      <td>ATVI</td>\n",
       "      <td>0</td>\n",
       "      <td>1672994.0</td>\n",
       "      <td>2.181144</td>\n",
       "      <td>2.079033</td>\n",
       "      <td>0.958695</td>\n",
       "      <td>0.634608</td>\n",
       "      <td>1.035895</td>\n",
       "      <td>1</td>\n",
       "    </tr>\n",
       "    <tr>\n",
       "      <th>77</th>\n",
       "      <td>BABA</td>\n",
       "      <td>0</td>\n",
       "      <td>4058852.0</td>\n",
       "      <td>3.574472</td>\n",
       "      <td>1.494717</td>\n",
       "      <td>1.048951</td>\n",
       "      <td>0.856667</td>\n",
       "      <td>1.014490</td>\n",
       "      <td>1</td>\n",
       "    </tr>\n",
       "    <tr>\n",
       "      <th>78</th>\n",
       "      <td>BKNG</td>\n",
       "      <td>0</td>\n",
       "      <td>73027.0</td>\n",
       "      <td>1.717797</td>\n",
       "      <td>1.235857</td>\n",
       "      <td>1.051465</td>\n",
       "      <td>0.982204</td>\n",
       "      <td>1.029942</td>\n",
       "      <td>1</td>\n",
       "    </tr>\n",
       "    <tr>\n",
       "      <th>79</th>\n",
       "      <td>COUP</td>\n",
       "      <td>0</td>\n",
       "      <td>232490.0</td>\n",
       "      <td>3.699537</td>\n",
       "      <td>2.678578</td>\n",
       "      <td>1.424063</td>\n",
       "      <td>0.886434</td>\n",
       "      <td>1.038729</td>\n",
       "      <td>1</td>\n",
       "    </tr>\n",
       "    <tr>\n",
       "      <th>80</th>\n",
       "      <td>CP</td>\n",
       "      <td>0</td>\n",
       "      <td>91290.0</td>\n",
       "      <td>0.658772</td>\n",
       "      <td>1.462324</td>\n",
       "      <td>1.114075</td>\n",
       "      <td>0.903318</td>\n",
       "      <td>1.010734</td>\n",
       "      <td>1</td>\n",
       "    </tr>\n",
       "    <tr>\n",
       "      <th>81</th>\n",
       "      <td>CRM</td>\n",
       "      <td>0</td>\n",
       "      <td>2007286.0</td>\n",
       "      <td>2.288810</td>\n",
       "      <td>1.383525</td>\n",
       "      <td>1.018791</td>\n",
       "      <td>0.889128</td>\n",
       "      <td>1.012784</td>\n",
       "      <td>1</td>\n",
       "    </tr>\n",
       "    <tr>\n",
       "      <th>82</th>\n",
       "      <td>DHI</td>\n",
       "      <td>0</td>\n",
       "      <td>946263.0</td>\n",
       "      <td>2.558712</td>\n",
       "      <td>1.527306</td>\n",
       "      <td>1.157908</td>\n",
       "      <td>1.047080</td>\n",
       "      <td>1.071320</td>\n",
       "      <td>1</td>\n",
       "    </tr>\n",
       "    <tr>\n",
       "      <th>83</th>\n",
       "      <td>DPZ</td>\n",
       "      <td>0</td>\n",
       "      <td>159632.0</td>\n",
       "      <td>3.871462</td>\n",
       "      <td>1.333333</td>\n",
       "      <td>0.888986</td>\n",
       "      <td>0.824646</td>\n",
       "      <td>0.907784</td>\n",
       "      <td>1</td>\n",
       "    </tr>\n",
       "    <tr>\n",
       "      <th>84</th>\n",
       "      <td>EFX</td>\n",
       "      <td>0</td>\n",
       "      <td>181705.0</td>\n",
       "      <td>1.503135</td>\n",
       "      <td>1.626444</td>\n",
       "      <td>1.197441</td>\n",
       "      <td>0.960992</td>\n",
       "      <td>1.043807</td>\n",
       "      <td>1</td>\n",
       "    </tr>\n",
       "    <tr>\n",
       "      <th>85</th>\n",
       "      <td>GPN</td>\n",
       "      <td>0</td>\n",
       "      <td>335962.0</td>\n",
       "      <td>2.144283</td>\n",
       "      <td>1.797735</td>\n",
       "      <td>1.229163</td>\n",
       "      <td>0.927384</td>\n",
       "      <td>1.007914</td>\n",
       "      <td>1</td>\n",
       "    </tr>\n",
       "    <tr>\n",
       "      <th>86</th>\n",
       "      <td>HLF</td>\n",
       "      <td>0</td>\n",
       "      <td>387548.0</td>\n",
       "      <td>2.562386</td>\n",
       "      <td>1.826746</td>\n",
       "      <td>0.747474</td>\n",
       "      <td>0.615910</td>\n",
       "      <td>0.873784</td>\n",
       "      <td>1</td>\n",
       "    </tr>\n",
       "    <tr>\n",
       "      <th>87</th>\n",
       "      <td>HUM</td>\n",
       "      <td>0</td>\n",
       "      <td>228960.0</td>\n",
       "      <td>1.694883</td>\n",
       "      <td>1.519945</td>\n",
       "      <td>0.999805</td>\n",
       "      <td>0.722272</td>\n",
       "      <td>1.005170</td>\n",
       "      <td>1</td>\n",
       "    </tr>\n",
       "    <tr>\n",
       "      <th>88</th>\n",
       "      <td>IQV</td>\n",
       "      <td>0</td>\n",
       "      <td>216836.0</td>\n",
       "      <td>1.101277</td>\n",
       "      <td>1.527531</td>\n",
       "      <td>1.138263</td>\n",
       "      <td>0.925183</td>\n",
       "      <td>0.979441</td>\n",
       "      <td>1</td>\n",
       "    </tr>\n",
       "    <tr>\n",
       "      <th>89</th>\n",
       "      <td>MA</td>\n",
       "      <td>A</td>\n",
       "      <td>768440.0</td>\n",
       "      <td>0.766057</td>\n",
       "      <td>1.615059</td>\n",
       "      <td>1.184151</td>\n",
       "      <td>0.962775</td>\n",
       "      <td>1.031705</td>\n",
       "      <td>1</td>\n",
       "    </tr>\n",
       "    <tr>\n",
       "      <th>90</th>\n",
       "      <td>MELI</td>\n",
       "      <td>0</td>\n",
       "      <td>122664.0</td>\n",
       "      <td>2.467592</td>\n",
       "      <td>2.679792</td>\n",
       "      <td>1.321100</td>\n",
       "      <td>0.798768</td>\n",
       "      <td>0.975933</td>\n",
       "      <td>1</td>\n",
       "    </tr>\n",
       "    <tr>\n",
       "      <th>91</th>\n",
       "      <td>MSFT</td>\n",
       "      <td>0</td>\n",
       "      <td>5853810.0</td>\n",
       "      <td>0.766666</td>\n",
       "      <td>1.501540</td>\n",
       "      <td>1.149866</td>\n",
       "      <td>0.983656</td>\n",
       "      <td>1.013453</td>\n",
       "      <td>1</td>\n",
       "    </tr>\n",
       "    <tr>\n",
       "      <th>92</th>\n",
       "      <td>NFLX</td>\n",
       "      <td>0</td>\n",
       "      <td>1373680.0</td>\n",
       "      <td>3.137438</td>\n",
       "      <td>1.646272</td>\n",
       "      <td>0.929352</td>\n",
       "      <td>0.695063</td>\n",
       "      <td>0.895525</td>\n",
       "      <td>1</td>\n",
       "    </tr>\n",
       "    <tr>\n",
       "      <th>93</th>\n",
       "      <td>NOW</td>\n",
       "      <td>0</td>\n",
       "      <td>373511.0</td>\n",
       "      <td>1.992462</td>\n",
       "      <td>1.927997</td>\n",
       "      <td>1.158314</td>\n",
       "      <td>0.839701</td>\n",
       "      <td>0.965249</td>\n",
       "      <td>1</td>\n",
       "    </tr>\n",
       "    <tr>\n",
       "      <th>94</th>\n",
       "      <td>SPGI</td>\n",
       "      <td>0</td>\n",
       "      <td>309561.0</td>\n",
       "      <td>1.256845</td>\n",
       "      <td>1.664277</td>\n",
       "      <td>1.212069</td>\n",
       "      <td>0.925780</td>\n",
       "      <td>1.064999</td>\n",
       "      <td>1</td>\n",
       "    </tr>\n",
       "    <tr>\n",
       "      <th>95</th>\n",
       "      <td>TDG</td>\n",
       "      <td>0</td>\n",
       "      <td>90649.0</td>\n",
       "      <td>1.698342</td>\n",
       "      <td>1.764972</td>\n",
       "      <td>1.201035</td>\n",
       "      <td>0.945246</td>\n",
       "      <td>1.071241</td>\n",
       "      <td>1</td>\n",
       "    </tr>\n",
       "    <tr>\n",
       "      <th>96</th>\n",
       "      <td>TIF</td>\n",
       "      <td>0</td>\n",
       "      <td>591619.0</td>\n",
       "      <td>4.897549</td>\n",
       "      <td>1.741140</td>\n",
       "      <td>0.916511</td>\n",
       "      <td>0.716895</td>\n",
       "      <td>0.934589</td>\n",
       "      <td>1</td>\n",
       "    </tr>\n",
       "    <tr>\n",
       "      <th>97</th>\n",
       "      <td>TWLO</td>\n",
       "      <td>A</td>\n",
       "      <td>819674.0</td>\n",
       "      <td>6.744012</td>\n",
       "      <td>2.343701</td>\n",
       "      <td>1.169934</td>\n",
       "      <td>0.733311</td>\n",
       "      <td>0.964230</td>\n",
       "      <td>1</td>\n",
       "    </tr>\n",
       "    <tr>\n",
       "      <th>98</th>\n",
       "      <td>UNH</td>\n",
       "      <td>0</td>\n",
       "      <td>765986.0</td>\n",
       "      <td>0.808274</td>\n",
       "      <td>1.320467</td>\n",
       "      <td>0.959800</td>\n",
       "      <td>0.758984</td>\n",
       "      <td>0.965586</td>\n",
       "      <td>1</td>\n",
       "    </tr>\n",
       "    <tr>\n",
       "      <th>99</th>\n",
       "      <td>UNP</td>\n",
       "      <td>0</td>\n",
       "      <td>678817.0</td>\n",
       "      <td>0.963503</td>\n",
       "      <td>1.403557</td>\n",
       "      <td>1.052101</td>\n",
       "      <td>0.900139</td>\n",
       "      <td>0.950804</td>\n",
       "      <td>1</td>\n",
       "    </tr>\n",
       "    <tr>\n",
       "      <th>100</th>\n",
       "      <td>WWE</td>\n",
       "      <td>A</td>\n",
       "      <td>259056.0</td>\n",
       "      <td>5.446816</td>\n",
       "      <td>1.608851</td>\n",
       "      <td>0.916754</td>\n",
       "      <td>0.716877</td>\n",
       "      <td>0.990158</td>\n",
       "      <td>1</td>\n",
       "    </tr>\n",
       "    <tr>\n",
       "      <th>101</th>\n",
       "      <td>WYNN</td>\n",
       "      <td>0</td>\n",
       "      <td>575979.0</td>\n",
       "      <td>5.352169</td>\n",
       "      <td>1.622650</td>\n",
       "      <td>1.014421</td>\n",
       "      <td>0.728198</td>\n",
       "      <td>0.907306</td>\n",
       "      <td>1</td>\n",
       "    </tr>\n",
       "  </tbody>\n",
       "</table>\n",
       "<p>102 rows × 9 columns</p>\n",
       "</div>"
      ],
      "text/plain": [
       "    ticker class  volatility  liquidity  52 week high  momentum    new_52  \\\n",
       "0     ADBE     0    813790.0   1.668755      1.644324  1.068183  0.821228   \n",
       "1     ADSK     0    511872.0   2.337219      1.514451  1.051375  0.818130   \n",
       "2     AMZN     0   1393304.0   2.849473      1.798589  1.008797  0.736437   \n",
       "3     ATVI     0   2455742.0   3.218320      1.696988  0.850249  0.558460   \n",
       "4     BABA     0   4563960.0   4.019301      1.580897  0.850474  0.650052   \n",
       "5       CP     0    126167.0   0.884749      1.299009  1.077932  0.797289   \n",
       "6      CRM     0   1657478.0   2.166638      1.606710  1.073983  0.853768   \n",
       "7      CSX     0   1036978.0   1.228036      1.495938  1.103365  0.822914   \n",
       "8       EA     0    963326.0   3.188459      1.801500  0.747773  0.529846   \n",
       "9      FLT     0    162563.0   1.844038      1.259898  0.953134  0.815133   \n",
       "10     IQV     0    255214.0   1.275777      1.378703  1.129146  0.888354   \n",
       "11      MA     A    921661.0   0.902765      1.560134  1.053428  0.843053   \n",
       "12    MELI     0    134942.0   2.985244      1.528582  0.995358  0.707470   \n",
       "13    MSFT     0   7199533.0   0.937901      1.425876  1.082151  0.878557   \n",
       "14     NOW     0    425195.0   2.371417      1.800563  1.068894  0.870320   \n",
       "15    NVDA     0   4049666.0   6.638797      1.999723  0.799786  0.461363   \n",
       "16    PYPL     0   1618029.0   1.373121      1.311399  1.033979  0.903513   \n",
       "17     STZ     A    409070.0   2.462230      1.228083  0.913075  0.686619   \n",
       "18     TDG     0     97951.0   1.856961      1.390889  1.044050  0.905523   \n",
       "19     TIF     0    492190.0   4.037753      1.553971  0.888586  0.577133   \n",
       "20     TRU     0    315115.0   1.700567      1.400329  0.996178  0.741127   \n",
       "21     UNH     0    748551.0   0.778092      1.329334  1.103413  0.881685   \n",
       "22    WYNN     0    763816.0   7.024306      2.139626  0.668166  0.490844   \n",
       "23    ADBE     0    509842.0   1.042377      1.342806  1.040719  0.967331   \n",
       "24    ADSK     0    300297.0   1.368719      1.431759  1.119124  0.948503   \n",
       "25    AMZN     0    809418.0   1.645961      1.517538  0.993424  0.873126   \n",
       "26    ATVI     0   3873640.0   5.071311      2.079033  0.701359  0.545989   \n",
       "27    BABA     0   2236645.0   1.969726      1.614548  1.021687  0.865266   \n",
       "28    BKNG     0     84118.0   1.868749      1.364454  0.905965  0.790951   \n",
       "29      CP     0     76703.0   0.547718      1.322843  1.045385  0.924814   \n",
       "..     ...   ...         ...        ...           ...       ...       ...   \n",
       "72    WYNN     0    514645.0   4.780192      2.092164  0.981547  0.644104   \n",
       "73    ADBE     0    508205.0   1.048055      1.517206  1.091152  0.887493   \n",
       "74    ADSK     0    718067.0   3.270065      1.506170  0.982706  0.828797   \n",
       "75    AMZN     0    799855.0   1.616992      1.517538  1.032482  0.851141   \n",
       "76    ATVI     0   1672994.0   2.181144      2.079033  0.958695  0.634608   \n",
       "77    BABA     0   4058852.0   3.574472      1.494717  1.048951  0.856667   \n",
       "78    BKNG     0     73027.0   1.717797      1.235857  1.051465  0.982204   \n",
       "79    COUP     0    232490.0   3.699537      2.678578  1.424063  0.886434   \n",
       "80      CP     0     91290.0   0.658772      1.462324  1.114075  0.903318   \n",
       "81     CRM     0   2007286.0   2.288810      1.383525  1.018791  0.889128   \n",
       "82     DHI     0    946263.0   2.558712      1.527306  1.157908  1.047080   \n",
       "83     DPZ     0    159632.0   3.871462      1.333333  0.888986  0.824646   \n",
       "84     EFX     0    181705.0   1.503135      1.626444  1.197441  0.960992   \n",
       "85     GPN     0    335962.0   2.144283      1.797735  1.229163  0.927384   \n",
       "86     HLF     0    387548.0   2.562386      1.826746  0.747474  0.615910   \n",
       "87     HUM     0    228960.0   1.694883      1.519945  0.999805  0.722272   \n",
       "88     IQV     0    216836.0   1.101277      1.527531  1.138263  0.925183   \n",
       "89      MA     A    768440.0   0.766057      1.615059  1.184151  0.962775   \n",
       "90    MELI     0    122664.0   2.467592      2.679792  1.321100  0.798768   \n",
       "91    MSFT     0   5853810.0   0.766666      1.501540  1.149866  0.983656   \n",
       "92    NFLX     0   1373680.0   3.137438      1.646272  0.929352  0.695063   \n",
       "93     NOW     0    373511.0   1.992462      1.927997  1.158314  0.839701   \n",
       "94    SPGI     0    309561.0   1.256845      1.664277  1.212069  0.925780   \n",
       "95     TDG     0     90649.0   1.698342      1.764972  1.201035  0.945246   \n",
       "96     TIF     0    591619.0   4.897549      1.741140  0.916511  0.716895   \n",
       "97    TWLO     A    819674.0   6.744012      2.343701  1.169934  0.733311   \n",
       "98     UNH     0    765986.0   0.808274      1.320467  0.959800  0.758984   \n",
       "99     UNP     0    678817.0   0.963503      1.403557  1.052101  0.900139   \n",
       "100    WWE     A    259056.0   5.446816      1.608851  0.916754  0.716877   \n",
       "101   WYNN     0    575979.0   5.352169      1.622650  1.014421  0.728198   \n",
       "\n",
       "      new_mom  buy  \n",
       "0    0.981829    1  \n",
       "1    1.008468    1  \n",
       "2    0.958295    1  \n",
       "3    0.740352    1  \n",
       "4    1.031374    1  \n",
       "5    1.009770    1  \n",
       "6    0.975514    1  \n",
       "7    1.010903    1  \n",
       "8    0.853387    1  \n",
       "9    0.933893    1  \n",
       "10   0.993302    1  \n",
       "11   0.970806    1  \n",
       "12   1.038321    1  \n",
       "13   1.001807    1  \n",
       "14   0.989091    1  \n",
       "15   0.748214    1  \n",
       "16   0.998410    1  \n",
       "17   0.961792    1  \n",
       "18   1.019535    1  \n",
       "19   0.824101    1  \n",
       "20   0.950025    1  \n",
       "21   1.043685    1  \n",
       "22   0.973714    1  \n",
       "23   1.069159    1  \n",
       "24   1.114420    1  \n",
       "25   1.012130    1  \n",
       "26   0.929901    1  \n",
       "27   1.123826    1  \n",
       "28   0.969318    1  \n",
       "29   1.051681    1  \n",
       "..        ...  ...  \n",
       "72   0.867664    1  \n",
       "73   0.972108    1  \n",
       "74   0.927624    1  \n",
       "75   0.962463    1  \n",
       "76   1.035895    1  \n",
       "77   1.014490    1  \n",
       "78   1.029942    1  \n",
       "79   1.038729    1  \n",
       "80   1.010734    1  \n",
       "81   1.012784    1  \n",
       "82   1.071320    1  \n",
       "83   0.907784    1  \n",
       "84   1.043807    1  \n",
       "85   1.007914    1  \n",
       "86   0.873784    1  \n",
       "87   1.005170    1  \n",
       "88   0.979441    1  \n",
       "89   1.031705    1  \n",
       "90   0.975933    1  \n",
       "91   1.013453    1  \n",
       "92   0.895525    1  \n",
       "93   0.965249    1  \n",
       "94   1.064999    1  \n",
       "95   1.071241    1  \n",
       "96   0.934589    1  \n",
       "97   0.964230    1  \n",
       "98   0.965586    1  \n",
       "99   0.950804    1  \n",
       "100  0.990158    1  \n",
       "101  0.907306    1  \n",
       "\n",
       "[102 rows x 9 columns]"
      ]
     },
     "execution_count": 3,
     "metadata": {},
     "output_type": "execute_result"
    }
   ],
   "source": [
    "feature_data[feature_data['buy']==1]"
   ]
  },
  {
   "cell_type": "code",
   "execution_count": 4,
   "metadata": {
    "collapsed": true
   },
   "outputs": [
    {
     "data": {
      "text/plain": [
       "[1.0611416433303096,\n",
       " 1.0750653824073484,\n",
       " 1.0573481759708858,\n",
       " 1.1050445678284515,\n",
       " 1.0739271375464683,\n",
       " 1.1167196834510045,\n",
       " 1.0575311836601389,\n",
       " 1.0930477694123444,\n",
       " 1.0473179852991472,\n",
       " 1.1011831684360032,\n",
       " 1.1124919786096255,\n",
       " 1.1484886267066148,\n",
       " 1.082857041428521,\n",
       " 1.119950833895691,\n",
       " 1.08062660711869,\n",
       " 1.103352681278697,\n",
       " 1.0827335929376745,\n",
       " 1.076295363421404,\n",
       " 1.0840364468979364,\n",
       " 1.0920186653719588,\n",
       " 1.1248243181054964,\n",
       " 1.1014190016567027,\n",
       " 1.0759574265713168,\n",
       " 1.1190703540221598,\n",
       " 1.1925468856282189,\n",
       " 1.107781897817485,\n",
       " 1.1317331818397005,\n",
       " 1.1257389681901613,\n",
       " 1.196881269378078,\n",
       " 1.0814254655501037,\n",
       " 1.150148955272609,\n",
       " 1.1250700282129402,\n",
       " 1.1791048454934199,\n",
       " 1.0450037577266864,\n",
       " 1.0819785768829517,\n",
       " 1.0806525321626899,\n",
       " 1.124011883914201,\n",
       " 1.0812419670811446,\n",
       " 1.1145558056553666,\n",
       " 1.0990537555379876,\n",
       " 1.1115418529948986,\n",
       " 1.1670056314278725,\n",
       " 1.0294713802378361,\n",
       " 1.0573037429612455,\n",
       " 0.8699700871374693,\n",
       " 1.1079825209256526,\n",
       " 1.0947247667729474,\n",
       " 1.0119306530789784,\n",
       " 1.0262008733624457,\n",
       " 1.1439371180300455,\n",
       " 1.108085893352512,\n",
       " 1.1395849788181232,\n",
       " 1.1406918355960574,\n",
       " 1.1831504702194358,\n",
       " 2.9729906376965207,\n",
       " 1.071969696969697,\n",
       " 1.117933949352977,\n",
       " 1.1140654154645406,\n",
       " 1.1442311694375125,\n",
       " 1.0979926414408532,\n",
       " 1.1017420468652392,\n",
       " 1.10461691812786,\n",
       " 1.0566524568095133,\n",
       " 1.0431803896920173,\n",
       " 1.1175709363554958,\n",
       " 1.1420482952284485,\n",
       " 1.0720285113648702,\n",
       " 1.0729107419273862,\n",
       " 1.0802442372874088,\n",
       " 1.0556435016621815,\n",
       " 1.0888654775835203,\n",
       " 1.0897620870883828,\n",
       " 1.5556963629451273]"
      ]
     },
     "execution_count": 4,
     "metadata": {},
     "output_type": "execute_result"
    }
   ],
   "source": [
    "our_revenue"
   ]
  },
  {
   "cell_type": "code",
   "execution_count": 14,
   "metadata": {
    "collapsed": true
   },
   "outputs": [
    {
     "data": {
      "text/plain": [
       "[0.9946078990457907,\n",
       " 0.973148591491908,\n",
       " 1.0772058065394725,\n",
       " 1.1956297790533954,\n",
       " 1.071074836552523,\n",
       " 1.01761713369332,\n",
       " 0.9786280532062506]"
      ]
     },
     "execution_count": 14,
     "metadata": {},
     "output_type": "execute_result"
    }
   ],
   "source": [
    "lone_pine_revenue"
   ]
  },
  {
   "cell_type": "code",
   "execution_count": 3,
   "metadata": {},
   "outputs": [
    {
     "name": "stdout",
     "output_type": "stream",
     "text": [
      "3054.5398556920686\n",
      "3.7478827077040973\n"
     ]
    }
   ],
   "source": [
    "o = 1\n",
    "for i in our_revenue:\n",
    "    o = o * i\n",
    "print(o)\n",
    "\n",
    "o = 1\n",
    "for i in lone_pine_revenue:\n",
    "    o = o * i\n",
    "print(o)"
   ]
  },
  {
   "cell_type": "code",
   "execution_count": 5,
   "metadata": {
    "scrolled": true
   },
   "outputs": [
    {
     "data": {
      "text/plain": [
       "25.767123287671232"
      ]
     },
     "execution_count": 5,
     "metadata": {},
     "output_type": "execute_result"
    }
   ],
   "source": [
    "len(final_df) / len(set(final_df['date']))"
   ]
  },
  {
   "cell_type": "code",
   "execution_count": 6,
   "metadata": {
    "collapsed": true
   },
   "outputs": [
    {
     "data": {
      "text/html": [
       "<div>\n",
       "<style scoped>\n",
       "    .dataframe tbody tr th:only-of-type {\n",
       "        vertical-align: middle;\n",
       "    }\n",
       "\n",
       "    .dataframe tbody tr th {\n",
       "        vertical-align: top;\n",
       "    }\n",
       "\n",
       "    .dataframe thead th {\n",
       "        text-align: right;\n",
       "    }\n",
       "</style>\n",
       "<table border=\"1\" class=\"dataframe\">\n",
       "  <thead>\n",
       "    <tr style=\"text-align: right;\">\n",
       "      <th></th>\n",
       "      <th>date</th>\n",
       "      <th>ticker</th>\n",
       "      <th>class</th>\n",
       "    </tr>\n",
       "  </thead>\n",
       "  <tbody>\n",
       "    <tr>\n",
       "      <th>0</th>\n",
       "      <td>200502</td>\n",
       "      <td>AAP</td>\n",
       "      <td>0</td>\n",
       "    </tr>\n",
       "    <tr>\n",
       "      <th>1</th>\n",
       "      <td>200502</td>\n",
       "      <td>ADSK</td>\n",
       "      <td>0</td>\n",
       "    </tr>\n",
       "    <tr>\n",
       "      <th>2</th>\n",
       "      <td>200502</td>\n",
       "      <td>AET</td>\n",
       "      <td>0</td>\n",
       "    </tr>\n",
       "    <tr>\n",
       "      <th>3</th>\n",
       "      <td>200502</td>\n",
       "      <td>AFFX</td>\n",
       "      <td>0</td>\n",
       "    </tr>\n",
       "    <tr>\n",
       "      <th>4</th>\n",
       "      <td>200502</td>\n",
       "      <td>AMX</td>\n",
       "      <td>L</td>\n",
       "    </tr>\n",
       "    <tr>\n",
       "      <th>5</th>\n",
       "      <td>200502</td>\n",
       "      <td>ANF</td>\n",
       "      <td>A</td>\n",
       "    </tr>\n",
       "    <tr>\n",
       "      <th>6</th>\n",
       "      <td>200502</td>\n",
       "      <td>ANSL</td>\n",
       "      <td>0</td>\n",
       "    </tr>\n",
       "    <tr>\n",
       "      <th>7</th>\n",
       "      <td>200502</td>\n",
       "      <td>AZO</td>\n",
       "      <td>0</td>\n",
       "    </tr>\n",
       "    <tr>\n",
       "      <th>8</th>\n",
       "      <td>200502</td>\n",
       "      <td>BAX</td>\n",
       "      <td>0</td>\n",
       "    </tr>\n",
       "    <tr>\n",
       "      <th>9</th>\n",
       "      <td>200502</td>\n",
       "      <td>BDX</td>\n",
       "      <td>0</td>\n",
       "    </tr>\n",
       "    <tr>\n",
       "      <th>10</th>\n",
       "      <td>200502</td>\n",
       "      <td>CA</td>\n",
       "      <td>0</td>\n",
       "    </tr>\n",
       "    <tr>\n",
       "      <th>11</th>\n",
       "      <td>200502</td>\n",
       "      <td>CREE</td>\n",
       "      <td>0</td>\n",
       "    </tr>\n",
       "    <tr>\n",
       "      <th>12</th>\n",
       "      <td>200502</td>\n",
       "      <td>CRI</td>\n",
       "      <td>0</td>\n",
       "    </tr>\n",
       "    <tr>\n",
       "      <th>13</th>\n",
       "      <td>200502</td>\n",
       "      <td>DDDC</td>\n",
       "      <td>A</td>\n",
       "    </tr>\n",
       "    <tr>\n",
       "      <th>14</th>\n",
       "      <td>200502</td>\n",
       "      <td>DGX</td>\n",
       "      <td>0</td>\n",
       "    </tr>\n",
       "    <tr>\n",
       "      <th>15</th>\n",
       "      <td>200502</td>\n",
       "      <td>EBAY</td>\n",
       "      <td>0</td>\n",
       "    </tr>\n",
       "    <tr>\n",
       "      <th>16</th>\n",
       "      <td>200502</td>\n",
       "      <td>EW</td>\n",
       "      <td>0</td>\n",
       "    </tr>\n",
       "    <tr>\n",
       "      <th>17</th>\n",
       "      <td>200502</td>\n",
       "      <td>GNSS</td>\n",
       "      <td>0</td>\n",
       "    </tr>\n",
       "    <tr>\n",
       "      <th>18</th>\n",
       "      <td>200502</td>\n",
       "      <td>GSK</td>\n",
       "      <td>0</td>\n",
       "    </tr>\n",
       "    <tr>\n",
       "      <th>19</th>\n",
       "      <td>200502</td>\n",
       "      <td>GTW</td>\n",
       "      <td>0</td>\n",
       "    </tr>\n",
       "    <tr>\n",
       "      <th>20</th>\n",
       "      <td>200502</td>\n",
       "      <td>HCA</td>\n",
       "      <td>0</td>\n",
       "    </tr>\n",
       "    <tr>\n",
       "      <th>21</th>\n",
       "      <td>200502</td>\n",
       "      <td>IMAX</td>\n",
       "      <td>0</td>\n",
       "    </tr>\n",
       "    <tr>\n",
       "      <th>22</th>\n",
       "      <td>200502</td>\n",
       "      <td>ISRG</td>\n",
       "      <td>0</td>\n",
       "    </tr>\n",
       "    <tr>\n",
       "      <th>23</th>\n",
       "      <td>200502</td>\n",
       "      <td>JNJ</td>\n",
       "      <td>0</td>\n",
       "    </tr>\n",
       "    <tr>\n",
       "      <th>24</th>\n",
       "      <td>200502</td>\n",
       "      <td>JWN</td>\n",
       "      <td>0</td>\n",
       "    </tr>\n",
       "    <tr>\n",
       "      <th>25</th>\n",
       "      <td>200502</td>\n",
       "      <td>LEN</td>\n",
       "      <td>A</td>\n",
       "    </tr>\n",
       "    <tr>\n",
       "      <th>26</th>\n",
       "      <td>200502</td>\n",
       "      <td>LEN</td>\n",
       "      <td>B</td>\n",
       "    </tr>\n",
       "    <tr>\n",
       "      <th>27</th>\n",
       "      <td>200502</td>\n",
       "      <td>LRCX</td>\n",
       "      <td>0</td>\n",
       "    </tr>\n",
       "    <tr>\n",
       "      <th>28</th>\n",
       "      <td>200502</td>\n",
       "      <td>MAT</td>\n",
       "      <td>0</td>\n",
       "    </tr>\n",
       "    <tr>\n",
       "      <th>29</th>\n",
       "      <td>200502</td>\n",
       "      <td>MCD</td>\n",
       "      <td>0</td>\n",
       "    </tr>\n",
       "    <tr>\n",
       "      <th>...</th>\n",
       "      <td>...</td>\n",
       "      <td>...</td>\n",
       "      <td>...</td>\n",
       "    </tr>\n",
       "    <tr>\n",
       "      <th>1851</th>\n",
       "      <td>201104</td>\n",
       "      <td>INTU</td>\n",
       "      <td>0</td>\n",
       "    </tr>\n",
       "    <tr>\n",
       "      <th>1852</th>\n",
       "      <td>201104</td>\n",
       "      <td>IPXL</td>\n",
       "      <td>0</td>\n",
       "    </tr>\n",
       "    <tr>\n",
       "      <th>1853</th>\n",
       "      <td>201104</td>\n",
       "      <td>IR</td>\n",
       "      <td>0</td>\n",
       "    </tr>\n",
       "    <tr>\n",
       "      <th>1854</th>\n",
       "      <td>201104</td>\n",
       "      <td>ITW</td>\n",
       "      <td>0</td>\n",
       "    </tr>\n",
       "    <tr>\n",
       "      <th>1855</th>\n",
       "      <td>201104</td>\n",
       "      <td>JBHT</td>\n",
       "      <td>0</td>\n",
       "    </tr>\n",
       "    <tr>\n",
       "      <th>1856</th>\n",
       "      <td>201104</td>\n",
       "      <td>LVS</td>\n",
       "      <td>0</td>\n",
       "    </tr>\n",
       "    <tr>\n",
       "      <th>1857</th>\n",
       "      <td>201104</td>\n",
       "      <td>MHS</td>\n",
       "      <td>0</td>\n",
       "    </tr>\n",
       "    <tr>\n",
       "      <th>1858</th>\n",
       "      <td>201104</td>\n",
       "      <td>MYL</td>\n",
       "      <td>0</td>\n",
       "    </tr>\n",
       "    <tr>\n",
       "      <th>1859</th>\n",
       "      <td>201104</td>\n",
       "      <td>NAV</td>\n",
       "      <td>0</td>\n",
       "    </tr>\n",
       "    <tr>\n",
       "      <th>1860</th>\n",
       "      <td>201104</td>\n",
       "      <td>NUAN</td>\n",
       "      <td>0</td>\n",
       "    </tr>\n",
       "    <tr>\n",
       "      <th>1861</th>\n",
       "      <td>201104</td>\n",
       "      <td>OC</td>\n",
       "      <td>0</td>\n",
       "    </tr>\n",
       "    <tr>\n",
       "      <th>1862</th>\n",
       "      <td>201104</td>\n",
       "      <td>PDCO</td>\n",
       "      <td>0</td>\n",
       "    </tr>\n",
       "    <tr>\n",
       "      <th>1863</th>\n",
       "      <td>201104</td>\n",
       "      <td>PFE</td>\n",
       "      <td>0</td>\n",
       "    </tr>\n",
       "    <tr>\n",
       "      <th>1864</th>\n",
       "      <td>201104</td>\n",
       "      <td>PPO</td>\n",
       "      <td>0</td>\n",
       "    </tr>\n",
       "    <tr>\n",
       "      <th>1865</th>\n",
       "      <td>201104</td>\n",
       "      <td>SHAW</td>\n",
       "      <td>0</td>\n",
       "    </tr>\n",
       "    <tr>\n",
       "      <th>1866</th>\n",
       "      <td>201104</td>\n",
       "      <td>TIBX</td>\n",
       "      <td>0</td>\n",
       "    </tr>\n",
       "    <tr>\n",
       "      <th>1867</th>\n",
       "      <td>201104</td>\n",
       "      <td>TIF</td>\n",
       "      <td>0</td>\n",
       "    </tr>\n",
       "    <tr>\n",
       "      <th>1868</th>\n",
       "      <td>201104</td>\n",
       "      <td>TWC</td>\n",
       "      <td>0</td>\n",
       "    </tr>\n",
       "    <tr>\n",
       "      <th>1869</th>\n",
       "      <td>201104</td>\n",
       "      <td>UNP</td>\n",
       "      <td>0</td>\n",
       "    </tr>\n",
       "    <tr>\n",
       "      <th>1870</th>\n",
       "      <td>201104</td>\n",
       "      <td>VFC</td>\n",
       "      <td>0</td>\n",
       "    </tr>\n",
       "    <tr>\n",
       "      <th>1871</th>\n",
       "      <td>201104</td>\n",
       "      <td>VMED</td>\n",
       "      <td>0</td>\n",
       "    </tr>\n",
       "    <tr>\n",
       "      <th>1872</th>\n",
       "      <td>201104</td>\n",
       "      <td>VRTX</td>\n",
       "      <td>0</td>\n",
       "    </tr>\n",
       "    <tr>\n",
       "      <th>1873</th>\n",
       "      <td>201104</td>\n",
       "      <td>VSI</td>\n",
       "      <td>0</td>\n",
       "    </tr>\n",
       "    <tr>\n",
       "      <th>1874</th>\n",
       "      <td>201104</td>\n",
       "      <td>WM</td>\n",
       "      <td>0</td>\n",
       "    </tr>\n",
       "    <tr>\n",
       "      <th>1875</th>\n",
       "      <td>201104</td>\n",
       "      <td>WRC</td>\n",
       "      <td>0</td>\n",
       "    </tr>\n",
       "    <tr>\n",
       "      <th>1876</th>\n",
       "      <td>201104</td>\n",
       "      <td>WSM</td>\n",
       "      <td>0</td>\n",
       "    </tr>\n",
       "    <tr>\n",
       "      <th>1877</th>\n",
       "      <td>201104</td>\n",
       "      <td>WYNN</td>\n",
       "      <td>0</td>\n",
       "    </tr>\n",
       "    <tr>\n",
       "      <th>1878</th>\n",
       "      <td>201105</td>\n",
       "      <td>BMC</td>\n",
       "      <td>0</td>\n",
       "    </tr>\n",
       "    <tr>\n",
       "      <th>1879</th>\n",
       "      <td>201105</td>\n",
       "      <td>C</td>\n",
       "      <td>0</td>\n",
       "    </tr>\n",
       "    <tr>\n",
       "      <th>1880</th>\n",
       "      <td>201105</td>\n",
       "      <td>EAT</td>\n",
       "      <td>0</td>\n",
       "    </tr>\n",
       "  </tbody>\n",
       "</table>\n",
       "<p>1881 rows × 3 columns</p>\n",
       "</div>"
      ],
      "text/plain": [
       "        date ticker class\n",
       "0     200502    AAP     0\n",
       "1     200502   ADSK     0\n",
       "2     200502    AET     0\n",
       "3     200502   AFFX     0\n",
       "4     200502    AMX     L\n",
       "5     200502    ANF     A\n",
       "6     200502   ANSL     0\n",
       "7     200502    AZO     0\n",
       "8     200502    BAX     0\n",
       "9     200502    BDX     0\n",
       "10    200502     CA     0\n",
       "11    200502   CREE     0\n",
       "12    200502    CRI     0\n",
       "13    200502   DDDC     A\n",
       "14    200502    DGX     0\n",
       "15    200502   EBAY     0\n",
       "16    200502     EW     0\n",
       "17    200502   GNSS     0\n",
       "18    200502    GSK     0\n",
       "19    200502    GTW     0\n",
       "20    200502    HCA     0\n",
       "21    200502   IMAX     0\n",
       "22    200502   ISRG     0\n",
       "23    200502    JNJ     0\n",
       "24    200502    JWN     0\n",
       "25    200502    LEN     A\n",
       "26    200502    LEN     B\n",
       "27    200502   LRCX     0\n",
       "28    200502    MAT     0\n",
       "29    200502    MCD     0\n",
       "...      ...    ...   ...\n",
       "1851  201104   INTU     0\n",
       "1852  201104   IPXL     0\n",
       "1853  201104     IR     0\n",
       "1854  201104    ITW     0\n",
       "1855  201104   JBHT     0\n",
       "1856  201104    LVS     0\n",
       "1857  201104    MHS     0\n",
       "1858  201104    MYL     0\n",
       "1859  201104    NAV     0\n",
       "1860  201104   NUAN     0\n",
       "1861  201104     OC     0\n",
       "1862  201104   PDCO     0\n",
       "1863  201104    PFE     0\n",
       "1864  201104    PPO     0\n",
       "1865  201104   SHAW     0\n",
       "1866  201104   TIBX     0\n",
       "1867  201104    TIF     0\n",
       "1868  201104    TWC     0\n",
       "1869  201104    UNP     0\n",
       "1870  201104    VFC     0\n",
       "1871  201104   VMED     0\n",
       "1872  201104   VRTX     0\n",
       "1873  201104    VSI     0\n",
       "1874  201104     WM     0\n",
       "1875  201104    WRC     0\n",
       "1876  201104    WSM     0\n",
       "1877  201104   WYNN     0\n",
       "1878  201105    BMC     0\n",
       "1879  201105      C     0\n",
       "1880  201105    EAT     0\n",
       "\n",
       "[1881 rows x 3 columns]"
      ]
     },
     "execution_count": 6,
     "metadata": {},
     "output_type": "execute_result"
    }
   ],
   "source": [
    "final_df"
   ]
  },
  {
   "cell_type": "code",
   "execution_count": null,
   "metadata": {},
   "outputs": [],
   "source": [
    "# import pandas as pd\n",
    "# import numpy as np\n",
    "# pred_portfolio = pd.read_csv('pred_portfolio.csv')\n",
    "# price_data = pd.read_csv('liquidity+highlow+class.csv', encoding='utf8', low_memory=False)\n",
    "\n",
    "# def abc(aa):\n",
    "#     return int(str(aa)[0:6])\n",
    "# price_data['date'] = price_data['date'].apply(abc)\n",
    "# price_data['SHRCLS'] = price_data['SHRCLS'].replace(np.nan, '0')\n",
    "\n",
    "# price_data = price_data[['date', 'TICKER', 'SHRCLS', 'PRC']]\n",
    "# price_data.columns = ['date', 'ticker', 'class', 'PRC']\n",
    "\n",
    "# pred_portfolio.merge(price_data, on=['date', 'ticker', 'class']).to_csv('pred_portfolio.csv', index=False)"
   ]
  },
  {
   "cell_type": "code",
   "execution_count": 11,
   "metadata": {},
   "outputs": [],
   "source": [
    "our_revenue_progressive = []\n",
    "lone_pine_revenue_progressive = []\n",
    "o = our_revenue[0]\n",
    "our_revenue_progressive.append(o)\n",
    "for i in our_revenue[1:]:\n",
    "    o = o * i\n",
    "    our_revenue_progressive.append(round(o, 3))\n",
    "    \n",
    "o = lone_pine_revenue[0]\n",
    "lone_pine_revenue_progressive.append(o)\n",
    "for i in lone_pine_revenue[1:]:\n",
    "    o = o * i\n",
    "    lone_pine_revenue_progressive.append(round(o, 3))"
   ]
  },
  {
   "cell_type": "code",
   "execution_count": 12,
   "metadata": {},
   "outputs": [],
   "source": [
    "r_date = list(set(a_date[1:]).difference(set(error_date)))\n",
    "r_date = [int(i) for i in r_date]\n",
    "r_date = sorted(r_date)"
   ]
  },
  {
   "cell_type": "code",
   "execution_count": 13,
   "metadata": {},
   "outputs": [
    {
     "data": {
      "text/plain": [
       "['200812',\n",
       " '200903',\n",
       " '200906',\n",
       " '200907',\n",
       " '200909',\n",
       " '201402',\n",
       " '201710',\n",
       " '201901',\n",
       " '201902',\n",
       " '201903']"
      ]
     },
     "execution_count": 13,
     "metadata": {},
     "output_type": "execute_result"
    }
   ],
   "source": [
    "error_date"
   ]
  },
  {
   "cell_type": "code",
   "execution_count": 21,
   "metadata": {
    "collapsed": true
   },
   "outputs": [
    {
     "data": {
      "text/plain": [
       "[1.082298162991761,\n",
       " 1.164,\n",
       " 1.23,\n",
       " 1.362,\n",
       " 1.463,\n",
       " 1.642,\n",
       " 1.737,\n",
       " 1.896,\n",
       " 1.986,\n",
       " 2.194,\n",
       " 2.417,\n",
       " 2.774,\n",
       " 3.004,\n",
       " 3.336,\n",
       " 3.602,\n",
       " 3.974,\n",
       " 4.303,\n",
       " 4.631,\n",
       " 5.006,\n",
       " 5.488,\n",
       " 6.17,\n",
       " 6.822,\n",
       " 7.31,\n",
       " 8.16,\n",
       " 9.622,\n",
       " 10.638,\n",
       " 12.007,\n",
       " 13.531,\n",
       " 16.196,\n",
       " 17.501,\n",
       " 20.064,\n",
       " 22.647,\n",
       " 26.594,\n",
       " 27.791,\n",
       " 30.216,\n",
       " 32.743,\n",
       " 35.762,\n",
       " 38.604,\n",
       " 42.934,\n",
       " 47.057,\n",
       " 52.306,\n",
       " 60.74,\n",
       " 62.584,\n",
       " 68.788,\n",
       " 59.332,\n",
       " 65.739,\n",
       " 71.966,\n",
       " 73.851,\n",
       " 84.624,\n",
       " 94.417,\n",
       " 107.701,\n",
       " 320.195,\n",
       " 357.656,\n",
       " 391.828,\n",
       " 448.342,\n",
       " 492.126,\n",
       " 540.117,\n",
       " 596.622,\n",
       " 684.585,\n",
       " 714.146,\n",
       " 797.975,\n",
       " 829.192,\n",
       " 948.467,\n",
       " 1014.589,\n",
       " 1096.139,\n",
       " 1186.081,\n",
       " 1248.833,\n",
       " 1353.651,\n",
       " 1493.366,\n",
       " 1622.606,\n",
       " 2263.281,\n",
       " 2398.676,\n",
       " 2635.001,\n",
       " 2841.068,\n",
       " 2991.5,\n",
       " 3356.598,\n",
       " 3472.64,\n",
       " 3598.126,\n",
       " 3886.492,\n",
       " 4408.663,\n",
       " 4616.311,\n",
       " 4974.97,\n",
       " 5309.911,\n",
       " 5731.137,\n",
       " 6019.051,\n",
       " 6620.633,\n",
       " 7100.607,\n",
       " 8219.688,\n",
       " 8877.843,\n",
       " 9361.789,\n",
       " 10586.679,\n",
       " 10929.46,\n",
       " 11963.691,\n",
       " 13200.284,\n",
       " 14257.128,\n",
       " 15291.624,\n",
       " 16919.141,\n",
       " 17894.36,\n",
       " 19642.559,\n",
       " 21106.387,\n",
       " 22751.824,\n",
       " 24416.012,\n",
       " 26047.326,\n",
       " 28439.968,\n",
       " 31007.81,\n",
       " 33173.158,\n",
       " 35335.972,\n",
       " 38028.029,\n",
       " 40862.191,\n",
       " 43040.725,\n",
       " 47006.928,\n",
       " 50082.017,\n",
       " 51978.766,\n",
       " 56867.827,\n",
       " 62197.332,\n",
       " 65988.208,\n",
       " 77847.265,\n",
       " 85258.742,\n",
       " 90790.033,\n",
       " 98358.383,\n",
       " 100026.117,\n",
       " 106941.433,\n",
       " 118931.195,\n",
       " 125170.729,\n",
       " 139707.631,\n",
       " 147962.526,\n",
       " 163198.133,\n",
       " 177301.853,\n",
       " 178511.196,\n",
       " 192161.865,\n",
       " 209399.759,\n",
       " 226873.026,\n",
       " 231902.231,\n",
       " 250640.511,\n",
       " 274408.726,\n",
       " 308135.717,\n",
       " 315500.298,\n",
       " 344403.359,\n",
       " 373548.345,\n",
       " 393499.59,\n",
       " 418401.914,\n",
       " 454413.029,\n",
       " 507797.577,\n",
       " 547741.303,\n",
       " 591800.174,\n",
       " 634609.983,\n",
       " 693724.299,\n",
       " 733759.801,\n",
       " 826740.35,\n",
       " 866467.519,\n",
       " 920930.749,\n",
       " 994201.393,\n",
       " 1111231.79,\n",
       " 1174662.205,\n",
       " 1287868.879,\n",
       " 1449103.339,\n",
       " 1527256.983,\n",
       " 1621528.503,\n",
       " 1755156.301,\n",
       " 1831558.872,\n",
       " 2082834.931,\n",
       " 2365854.076,\n",
       " 2585574.743,\n",
       " 2771139.146,\n",
       " 2986717.313,\n",
       " 3159036.742,\n",
       " 3391154.975,\n",
       " 3787174.823,\n",
       " 3944610.705]"
      ]
     },
     "execution_count": 21,
     "metadata": {},
     "output_type": "execute_result"
    }
   ],
   "source": [
    "our_revenue_progressive"
   ]
  },
  {
   "cell_type": "code",
   "execution_count": 15,
   "metadata": {
    "scrolled": true
   },
   "outputs": [],
   "source": [
    "revenue_rate = pd.DataFrame({'date':r_date,\n",
    "              'portfolio':our_revenue,\n",
    "              'lone_pine':lone_pine_revenue,\n",
    "              'portfolio_progressive':our_revenue_progressive,\n",
    "             'lone_pine_progressive':lone_pine_revenue_progressive})\n",
    "# .to_csv('revenue_rate.csv', index=False)"
   ]
  },
  {
   "cell_type": "code",
   "execution_count": 28,
   "metadata": {
    "scrolled": true
   },
   "outputs": [],
   "source": [
    "revenue_rate.to_csv('revenue_rate3.5.csv', index=False)"
   ]
  },
  {
   "cell_type": "code",
   "execution_count": 16,
   "metadata": {},
   "outputs": [],
   "source": [
    "import pandas as pd\n",
    "# revenue_rate = pd.read_csv('revenue_rate.csv')\n",
    "snp500 = pd.read_csv('sp500.csv')"
   ]
  },
  {
   "cell_type": "code",
   "execution_count": 17,
   "metadata": {
    "scrolled": true
   },
   "outputs": [],
   "source": [
    "snp500['last_close'] = snp500['Close'].shift()"
   ]
  },
  {
   "cell_type": "code",
   "execution_count": 18,
   "metadata": {
    "scrolled": true
   },
   "outputs": [],
   "source": [
    "snp500['close_rate'] = snp500['Close'] / snp500['last_close']"
   ]
  },
  {
   "cell_type": "code",
   "execution_count": 19,
   "metadata": {
    "scrolled": true
   },
   "outputs": [],
   "source": [
    "t = list(snp500['close_rate'])\n",
    "snp500_close = []\n",
    "o = t[1]\n",
    "snp500_close.append(o)\n",
    "for i in t[2:]:\n",
    "    o = o * i\n",
    "    snp500_close.append(o)"
   ]
  },
  {
   "cell_type": "code",
   "execution_count": 20,
   "metadata": {
    "scrolled": true
   },
   "outputs": [],
   "source": [
    "# our_revenue_progressive = list(revenue_rate['portfolio_progressive'])\n",
    "# lone_pine_revenue_progressive = list(revenue_rate['lone_pine_progressive'])\n",
    "# snp500_close = list(snp500['close_rate'])"
   ]
  },
  {
   "cell_type": "code",
   "execution_count": 20,
   "metadata": {
    "scrolled": true
   },
   "outputs": [
    {
     "ename": "NameError",
     "evalue": "name 'snp500_close' is not defined",
     "output_type": "error",
     "traceback": [
      "\u001b[1;31m---------------------------------------------------------------------------\u001b[0m",
      "\u001b[1;31mNameError\u001b[0m                                 Traceback (most recent call last)",
      "\u001b[1;32m<ipython-input-20-45013344a4f0>\u001b[0m in \u001b[0;36m<module>\u001b[1;34m\u001b[0m\n\u001b[0;32m      3\u001b[0m \u001b[0mplt\u001b[0m\u001b[1;33m.\u001b[0m\u001b[0mplot\u001b[0m\u001b[1;33m(\u001b[0m\u001b[0mx\u001b[0m\u001b[1;33m,\u001b[0m \u001b[0mour_revenue_progressive\u001b[0m\u001b[1;33m[\u001b[0m\u001b[1;36m1\u001b[0m\u001b[1;33m:\u001b[0m\u001b[1;33m]\u001b[0m\u001b[1;33m)\u001b[0m\u001b[1;33m\u001b[0m\u001b[1;33m\u001b[0m\u001b[0m\n\u001b[0;32m      4\u001b[0m \u001b[0mplt\u001b[0m\u001b[1;33m.\u001b[0m\u001b[0mplot\u001b[0m\u001b[1;33m(\u001b[0m\u001b[0mx\u001b[0m\u001b[1;33m,\u001b[0m \u001b[0mlone_pine_revenue_progressive\u001b[0m\u001b[1;33m[\u001b[0m\u001b[1;36m1\u001b[0m\u001b[1;33m:\u001b[0m\u001b[1;33m]\u001b[0m\u001b[1;33m)\u001b[0m\u001b[1;33m\u001b[0m\u001b[1;33m\u001b[0m\u001b[0m\n\u001b[1;32m----> 5\u001b[1;33m \u001b[0mplt\u001b[0m\u001b[1;33m.\u001b[0m\u001b[0mplot\u001b[0m\u001b[1;33m(\u001b[0m\u001b[0mx\u001b[0m\u001b[1;33m,\u001b[0m \u001b[0msnp500_close\u001b[0m\u001b[1;33m[\u001b[0m\u001b[1;36m2\u001b[0m\u001b[1;33m:\u001b[0m\u001b[1;33m]\u001b[0m\u001b[1;33m)\u001b[0m\u001b[1;33m\u001b[0m\u001b[1;33m\u001b[0m\u001b[0m\n\u001b[0m\u001b[0;32m      6\u001b[0m \u001b[0mplt\u001b[0m\u001b[1;33m.\u001b[0m\u001b[0mxticks\u001b[0m\u001b[1;33m(\u001b[0m\u001b[1;33m[\u001b[0m\u001b[0mi\u001b[0m \u001b[1;32mfor\u001b[0m \u001b[0mi\u001b[0m \u001b[1;32min\u001b[0m \u001b[0mrange\u001b[0m\u001b[1;33m(\u001b[0m\u001b[1;36m11\u001b[0m\u001b[1;33m,\u001b[0m \u001b[1;36m179\u001b[0m\u001b[1;33m,\u001b[0m \u001b[1;36m12\u001b[0m\u001b[1;33m)\u001b[0m\u001b[1;33m]\u001b[0m\u001b[1;33m,\u001b[0m\u001b[1;33m[\u001b[0m\u001b[0mstr\u001b[0m\u001b[1;33m(\u001b[0m\u001b[0mi\u001b[0m\u001b[1;33m)\u001b[0m \u001b[1;32mfor\u001b[0m \u001b[0mi\u001b[0m \u001b[1;32min\u001b[0m \u001b[0mrange\u001b[0m\u001b[1;33m(\u001b[0m\u001b[1;36m2006\u001b[0m\u001b[1;33m,\u001b[0m \u001b[1;36m2020\u001b[0m\u001b[1;33m,\u001b[0m \u001b[1;36m1\u001b[0m\u001b[1;33m)\u001b[0m\u001b[1;33m]\u001b[0m\u001b[1;33m,\u001b[0m \u001b[0mrotation\u001b[0m\u001b[1;33m=\u001b[0m\u001b[1;36m45\u001b[0m\u001b[1;33m)\u001b[0m\u001b[1;33m\u001b[0m\u001b[1;33m\u001b[0m\u001b[0m\n\u001b[0;32m      7\u001b[0m \u001b[0mplt\u001b[0m\u001b[1;33m.\u001b[0m\u001b[0mtitle\u001b[0m\u001b[1;33m(\u001b[0m\u001b[1;34m\"portfolio accumulative return\"\u001b[0m\u001b[1;33m)\u001b[0m\u001b[1;33m\u001b[0m\u001b[1;33m\u001b[0m\u001b[0m\n",
      "\u001b[1;31mNameError\u001b[0m: name 'snp500_close' is not defined"
     ]
    },
    {
     "data": {
      "image/png": "[encoded data removed]",
      "text/plain": [
       "<Figure size 432x288 with 1 Axes>"
      ]
     },
     "metadata": {
      "needs_background": "light"
     },
     "output_type": "display_data"
    }
   ],
   "source": [
    "import matplotlib.pyplot as plt\n",
    "x = [i for i in range(len(our_revenue_progressive)-1)]\n",
    "plt.plot(x, our_revenue_progressive[1:])\n",
    "plt.plot(x, lone_pine_revenue_progressive[1:])\n",
    "plt.plot(x, snp500_close[2:])\n",
    "plt.xticks([i for i in range(11, 179, 12)],[str(i) for i in range(2006, 2020, 1)], rotation=45)\n",
    "plt.title(\"portfolio accumulative return\")\n",
    "plt.xlabel(\"year\")\n",
    "plt.ylabel(\"return rate\")\n",
    "plt.show()"
   ]
  },
  {
   "cell_type": "code",
   "execution_count": 40,
   "metadata": {
    "collapsed": true
   },
   "outputs": [
    {
     "data": {
      "text/html": [
       "<div>\n",
       "<style scoped>\n",
       "    .dataframe tbody tr th:only-of-type {\n",
       "        vertical-align: middle;\n",
       "    }\n",
       "\n",
       "    .dataframe tbody tr th {\n",
       "        vertical-align: top;\n",
       "    }\n",
       "\n",
       "    .dataframe thead th {\n",
       "        text-align: right;\n",
       "    }\n",
       "</style>\n",
       "<table border=\"1\" class=\"dataframe\">\n",
       "  <thead>\n",
       "    <tr style=\"text-align: right;\">\n",
       "      <th></th>\n",
       "      <th>date</th>\n",
       "      <th>ticker</th>\n",
       "      <th>class</th>\n",
       "    </tr>\n",
       "  </thead>\n",
       "  <tbody>\n",
       "    <tr>\n",
       "      <th>0</th>\n",
       "      <td>200502</td>\n",
       "      <td>A</td>\n",
       "      <td>0</td>\n",
       "    </tr>\n",
       "    <tr>\n",
       "      <th>1</th>\n",
       "      <td>200502</td>\n",
       "      <td>ADP</td>\n",
       "      <td>0</td>\n",
       "    </tr>\n",
       "    <tr>\n",
       "      <th>2</th>\n",
       "      <td>200502</td>\n",
       "      <td>ADTN</td>\n",
       "      <td>0</td>\n",
       "    </tr>\n",
       "    <tr>\n",
       "      <th>3</th>\n",
       "      <td>200502</td>\n",
       "      <td>AET</td>\n",
       "      <td>0</td>\n",
       "    </tr>\n",
       "    <tr>\n",
       "      <th>4</th>\n",
       "      <td>200502</td>\n",
       "      <td>AKAM</td>\n",
       "      <td>0</td>\n",
       "    </tr>\n",
       "    <tr>\n",
       "      <th>5</th>\n",
       "      <td>200502</td>\n",
       "      <td>AMTD</td>\n",
       "      <td>0</td>\n",
       "    </tr>\n",
       "    <tr>\n",
       "      <th>6</th>\n",
       "      <td>200502</td>\n",
       "      <td>AMX</td>\n",
       "      <td>L</td>\n",
       "    </tr>\n",
       "    <tr>\n",
       "      <th>7</th>\n",
       "      <td>200502</td>\n",
       "      <td>ANF</td>\n",
       "      <td>A</td>\n",
       "    </tr>\n",
       "    <tr>\n",
       "      <th>8</th>\n",
       "      <td>200502</td>\n",
       "      <td>APOL</td>\n",
       "      <td>A</td>\n",
       "    </tr>\n",
       "    <tr>\n",
       "      <th>9</th>\n",
       "      <td>200502</td>\n",
       "      <td>AZN</td>\n",
       "      <td>0</td>\n",
       "    </tr>\n",
       "    <tr>\n",
       "      <th>10</th>\n",
       "      <td>200502</td>\n",
       "      <td>BBBY</td>\n",
       "      <td>0</td>\n",
       "    </tr>\n",
       "    <tr>\n",
       "      <th>11</th>\n",
       "      <td>200502</td>\n",
       "      <td>BBY</td>\n",
       "      <td>0</td>\n",
       "    </tr>\n",
       "    <tr>\n",
       "      <th>12</th>\n",
       "      <td>200502</td>\n",
       "      <td>BEAS</td>\n",
       "      <td>0</td>\n",
       "    </tr>\n",
       "    <tr>\n",
       "      <th>13</th>\n",
       "      <td>200502</td>\n",
       "      <td>BIIB</td>\n",
       "      <td>0</td>\n",
       "    </tr>\n",
       "    <tr>\n",
       "      <th>14</th>\n",
       "      <td>200502</td>\n",
       "      <td>BK</td>\n",
       "      <td>0</td>\n",
       "    </tr>\n",
       "    <tr>\n",
       "      <th>15</th>\n",
       "      <td>200502</td>\n",
       "      <td>BMC</td>\n",
       "      <td>0</td>\n",
       "    </tr>\n",
       "    <tr>\n",
       "      <th>16</th>\n",
       "      <td>200502</td>\n",
       "      <td>BRCD</td>\n",
       "      <td>0</td>\n",
       "    </tr>\n",
       "    <tr>\n",
       "      <th>17</th>\n",
       "      <td>200502</td>\n",
       "      <td>CA</td>\n",
       "      <td>0</td>\n",
       "    </tr>\n",
       "    <tr>\n",
       "      <th>18</th>\n",
       "      <td>200502</td>\n",
       "      <td>CCL</td>\n",
       "      <td>0</td>\n",
       "    </tr>\n",
       "    <tr>\n",
       "      <th>19</th>\n",
       "      <td>200502</td>\n",
       "      <td>CHKP</td>\n",
       "      <td>0</td>\n",
       "    </tr>\n",
       "    <tr>\n",
       "      <th>20</th>\n",
       "      <td>200502</td>\n",
       "      <td>CKFR</td>\n",
       "      <td>0</td>\n",
       "    </tr>\n",
       "    <tr>\n",
       "      <th>21</th>\n",
       "      <td>200502</td>\n",
       "      <td>CMVT</td>\n",
       "      <td>0</td>\n",
       "    </tr>\n",
       "    <tr>\n",
       "      <th>22</th>\n",
       "      <td>200502</td>\n",
       "      <td>CREE</td>\n",
       "      <td>0</td>\n",
       "    </tr>\n",
       "    <tr>\n",
       "      <th>23</th>\n",
       "      <td>200502</td>\n",
       "      <td>CSCO</td>\n",
       "      <td>0</td>\n",
       "    </tr>\n",
       "    <tr>\n",
       "      <th>24</th>\n",
       "      <td>200502</td>\n",
       "      <td>CYTR</td>\n",
       "      <td>0</td>\n",
       "    </tr>\n",
       "    <tr>\n",
       "      <th>25</th>\n",
       "      <td>200502</td>\n",
       "      <td>DELL</td>\n",
       "      <td>0</td>\n",
       "    </tr>\n",
       "    <tr>\n",
       "      <th>26</th>\n",
       "      <td>200502</td>\n",
       "      <td>DIGL</td>\n",
       "      <td>0</td>\n",
       "    </tr>\n",
       "    <tr>\n",
       "      <th>27</th>\n",
       "      <td>200502</td>\n",
       "      <td>DISH</td>\n",
       "      <td>A</td>\n",
       "    </tr>\n",
       "    <tr>\n",
       "      <th>28</th>\n",
       "      <td>200502</td>\n",
       "      <td>DOX</td>\n",
       "      <td>0</td>\n",
       "    </tr>\n",
       "    <tr>\n",
       "      <th>29</th>\n",
       "      <td>200502</td>\n",
       "      <td>DRI</td>\n",
       "      <td>0</td>\n",
       "    </tr>\n",
       "    <tr>\n",
       "      <th>...</th>\n",
       "      <td>...</td>\n",
       "      <td>...</td>\n",
       "      <td>...</td>\n",
       "    </tr>\n",
       "    <tr>\n",
       "      <th>8676</th>\n",
       "      <td>201912</td>\n",
       "      <td>ATVI</td>\n",
       "      <td>0</td>\n",
       "    </tr>\n",
       "    <tr>\n",
       "      <th>8677</th>\n",
       "      <td>201912</td>\n",
       "      <td>BAX</td>\n",
       "      <td>0</td>\n",
       "    </tr>\n",
       "    <tr>\n",
       "      <th>8678</th>\n",
       "      <td>201912</td>\n",
       "      <td>BHC</td>\n",
       "      <td>0</td>\n",
       "    </tr>\n",
       "    <tr>\n",
       "      <th>8679</th>\n",
       "      <td>201912</td>\n",
       "      <td>CRM</td>\n",
       "      <td>0</td>\n",
       "    </tr>\n",
       "    <tr>\n",
       "      <th>8680</th>\n",
       "      <td>201912</td>\n",
       "      <td>DHI</td>\n",
       "      <td>0</td>\n",
       "    </tr>\n",
       "    <tr>\n",
       "      <th>8681</th>\n",
       "      <td>201912</td>\n",
       "      <td>EBAY</td>\n",
       "      <td>0</td>\n",
       "    </tr>\n",
       "    <tr>\n",
       "      <th>8682</th>\n",
       "      <td>201912</td>\n",
       "      <td>FB</td>\n",
       "      <td>A</td>\n",
       "    </tr>\n",
       "    <tr>\n",
       "      <th>8683</th>\n",
       "      <td>201912</td>\n",
       "      <td>INTC</td>\n",
       "      <td>0</td>\n",
       "    </tr>\n",
       "    <tr>\n",
       "      <th>8684</th>\n",
       "      <td>201912</td>\n",
       "      <td>JD</td>\n",
       "      <td>0</td>\n",
       "    </tr>\n",
       "    <tr>\n",
       "      <th>8685</th>\n",
       "      <td>201912</td>\n",
       "      <td>JWN</td>\n",
       "      <td>0</td>\n",
       "    </tr>\n",
       "    <tr>\n",
       "      <th>8686</th>\n",
       "      <td>201912</td>\n",
       "      <td>LB</td>\n",
       "      <td>0</td>\n",
       "    </tr>\n",
       "    <tr>\n",
       "      <th>8687</th>\n",
       "      <td>201912</td>\n",
       "      <td>MSFT</td>\n",
       "      <td>0</td>\n",
       "    </tr>\n",
       "    <tr>\n",
       "      <th>8688</th>\n",
       "      <td>201912</td>\n",
       "      <td>NIO</td>\n",
       "      <td>A</td>\n",
       "    </tr>\n",
       "    <tr>\n",
       "      <th>8689</th>\n",
       "      <td>201912</td>\n",
       "      <td>NOW</td>\n",
       "      <td>0</td>\n",
       "    </tr>\n",
       "    <tr>\n",
       "      <th>8690</th>\n",
       "      <td>201912</td>\n",
       "      <td>NVDA</td>\n",
       "      <td>0</td>\n",
       "    </tr>\n",
       "    <tr>\n",
       "      <th>8691</th>\n",
       "      <td>201912</td>\n",
       "      <td>PAGS</td>\n",
       "      <td>A</td>\n",
       "    </tr>\n",
       "    <tr>\n",
       "      <th>8692</th>\n",
       "      <td>201912</td>\n",
       "      <td>PINS</td>\n",
       "      <td>A</td>\n",
       "    </tr>\n",
       "    <tr>\n",
       "      <th>8693</th>\n",
       "      <td>201912</td>\n",
       "      <td>PYPL</td>\n",
       "      <td>0</td>\n",
       "    </tr>\n",
       "    <tr>\n",
       "      <th>8694</th>\n",
       "      <td>201912</td>\n",
       "      <td>SE</td>\n",
       "      <td>A</td>\n",
       "    </tr>\n",
       "    <tr>\n",
       "      <th>8695</th>\n",
       "      <td>201912</td>\n",
       "      <td>SQ</td>\n",
       "      <td>A</td>\n",
       "    </tr>\n",
       "    <tr>\n",
       "      <th>8696</th>\n",
       "      <td>201912</td>\n",
       "      <td>TIF</td>\n",
       "      <td>0</td>\n",
       "    </tr>\n",
       "    <tr>\n",
       "      <th>8697</th>\n",
       "      <td>201912</td>\n",
       "      <td>TMUS</td>\n",
       "      <td>0</td>\n",
       "    </tr>\n",
       "    <tr>\n",
       "      <th>8698</th>\n",
       "      <td>201912</td>\n",
       "      <td>TSLA</td>\n",
       "      <td>0</td>\n",
       "    </tr>\n",
       "    <tr>\n",
       "      <th>8699</th>\n",
       "      <td>201912</td>\n",
       "      <td>TSM</td>\n",
       "      <td>0</td>\n",
       "    </tr>\n",
       "    <tr>\n",
       "      <th>8700</th>\n",
       "      <td>201912</td>\n",
       "      <td>TWLO</td>\n",
       "      <td>A</td>\n",
       "    </tr>\n",
       "    <tr>\n",
       "      <th>8701</th>\n",
       "      <td>201912</td>\n",
       "      <td>UAA</td>\n",
       "      <td>A</td>\n",
       "    </tr>\n",
       "    <tr>\n",
       "      <th>8702</th>\n",
       "      <td>201912</td>\n",
       "      <td>UBER</td>\n",
       "      <td>0</td>\n",
       "    </tr>\n",
       "    <tr>\n",
       "      <th>8703</th>\n",
       "      <td>201912</td>\n",
       "      <td>V</td>\n",
       "      <td>A</td>\n",
       "    </tr>\n",
       "    <tr>\n",
       "      <th>8704</th>\n",
       "      <td>201912</td>\n",
       "      <td>VEON</td>\n",
       "      <td>0</td>\n",
       "    </tr>\n",
       "    <tr>\n",
       "      <th>8705</th>\n",
       "      <td>201912</td>\n",
       "      <td>WU</td>\n",
       "      <td>0</td>\n",
       "    </tr>\n",
       "  </tbody>\n",
       "</table>\n",
       "<p>8706 rows × 3 columns</p>\n",
       "</div>"
      ],
      "text/plain": [
       "        date ticker class\n",
       "0     200502      A     0\n",
       "1     200502    ADP     0\n",
       "2     200502   ADTN     0\n",
       "3     200502    AET     0\n",
       "4     200502   AKAM     0\n",
       "5     200502   AMTD     0\n",
       "6     200502    AMX     L\n",
       "7     200502    ANF     A\n",
       "8     200502   APOL     A\n",
       "9     200502    AZN     0\n",
       "10    200502   BBBY     0\n",
       "11    200502    BBY     0\n",
       "12    200502   BEAS     0\n",
       "13    200502   BIIB     0\n",
       "14    200502     BK     0\n",
       "15    200502    BMC     0\n",
       "16    200502   BRCD     0\n",
       "17    200502     CA     0\n",
       "18    200502    CCL     0\n",
       "19    200502   CHKP     0\n",
       "20    200502   CKFR     0\n",
       "21    200502   CMVT     0\n",
       "22    200502   CREE     0\n",
       "23    200502   CSCO     0\n",
       "24    200502   CYTR     0\n",
       "25    200502   DELL     0\n",
       "26    200502   DIGL     0\n",
       "27    200502   DISH     A\n",
       "28    200502    DOX     0\n",
       "29    200502    DRI     0\n",
       "...      ...    ...   ...\n",
       "8676  201912   ATVI     0\n",
       "8677  201912    BAX     0\n",
       "8678  201912    BHC     0\n",
       "8679  201912    CRM     0\n",
       "8680  201912    DHI     0\n",
       "8681  201912   EBAY     0\n",
       "8682  201912     FB     A\n",
       "8683  201912   INTC     0\n",
       "8684  201912     JD     0\n",
       "8685  201912    JWN     0\n",
       "8686  201912     LB     0\n",
       "8687  201912   MSFT     0\n",
       "8688  201912    NIO     A\n",
       "8689  201912    NOW     0\n",
       "8690  201912   NVDA     0\n",
       "8691  201912   PAGS     A\n",
       "8692  201912   PINS     A\n",
       "8693  201912   PYPL     0\n",
       "8694  201912     SE     A\n",
       "8695  201912     SQ     A\n",
       "8696  201912    TIF     0\n",
       "8697  201912   TMUS     0\n",
       "8698  201912   TSLA     0\n",
       "8699  201912    TSM     0\n",
       "8700  201912   TWLO     A\n",
       "8701  201912    UAA     A\n",
       "8702  201912   UBER     0\n",
       "8703  201912      V     A\n",
       "8704  201912   VEON     0\n",
       "8705  201912     WU     0\n",
       "\n",
       "[8706 rows x 3 columns]"
      ]
     },
     "execution_count": 40,
     "metadata": {},
     "output_type": "execute_result"
    }
   ],
   "source": [
    "final_df"
   ]
  },
  {
   "cell_type": "code",
   "execution_count": 43,
   "metadata": {
    "scrolled": true
   },
   "outputs": [],
   "source": [
    "test = tool.f13_data.merge(final_df, left_on=['Ticker', 'Date'], right_on=['ticker', 'date'])"
   ]
  },
  {
   "cell_type": "code",
   "execution_count": 68,
   "metadata": {
    "scrolled": true
   },
   "outputs": [
    {
     "data": {
      "text/plain": [
       "18"
      ]
     },
     "execution_count": 68,
     "metadata": {},
     "output_type": "execute_result"
    }
   ],
   "source": [
    "len(test[test['date']=='201709'])"
   ]
  },
  {
   "cell_type": "code",
   "execution_count": 57,
   "metadata": {},
   "outputs": [
    {
     "data": {
      "text/plain": [
       "49"
      ]
     },
     "execution_count": 57,
     "metadata": {},
     "output_type": "execute_result"
    }
   ],
   "source": [
    "len(tool.f13_data[tool.f13_data['Date']=='201912'])"
   ]
  },
  {
   "cell_type": "code",
   "execution_count": 78,
   "metadata": {},
   "outputs": [
    {
     "data": {
      "text/plain": [
       "0.8140387418138387"
      ]
     },
     "execution_count": 78,
     "metadata": {},
     "output_type": "execute_result"
    }
   ],
   "source": [
    "revenue_rate.portfolio.corr(revenue_rate.lone_pine)"
   ]
  },
  {
   "cell_type": "code",
   "execution_count": 16,
   "metadata": {
    "scrolled": true
   },
   "outputs": [
    {
     "data": {
      "text/html": [
       "<div>\n",
       "<style scoped>\n",
       "    .dataframe tbody tr th:only-of-type {\n",
       "        vertical-align: middle;\n",
       "    }\n",
       "\n",
       "    .dataframe tbody tr th {\n",
       "        vertical-align: top;\n",
       "    }\n",
       "\n",
       "    .dataframe thead th {\n",
       "        text-align: right;\n",
       "    }\n",
       "</style>\n",
       "<table border=\"1\" class=\"dataframe\">\n",
       "  <thead>\n",
       "    <tr style=\"text-align: right;\">\n",
       "      <th></th>\n",
       "      <th>date</th>\n",
       "      <th>portfolio</th>\n",
       "      <th>lone_pine</th>\n",
       "      <th>portfolio_progressive</th>\n",
       "      <th>lone_pine_progressive</th>\n",
       "    </tr>\n",
       "  </thead>\n",
       "  <tbody>\n",
       "    <tr>\n",
       "      <th>0</th>\n",
       "      <td>200502</td>\n",
       "      <td>1.082298</td>\n",
       "      <td>0.994608</td>\n",
       "      <td>1.082298e+00</td>\n",
       "      <td>0.994608</td>\n",
       "    </tr>\n",
       "    <tr>\n",
       "      <th>1</th>\n",
       "      <td>200503</td>\n",
       "      <td>1.075065</td>\n",
       "      <td>0.973149</td>\n",
       "      <td>1.164000e+00</td>\n",
       "      <td>0.968000</td>\n",
       "    </tr>\n",
       "    <tr>\n",
       "      <th>2</th>\n",
       "      <td>200504</td>\n",
       "      <td>1.056912</td>\n",
       "      <td>1.077206</td>\n",
       "      <td>1.230000e+00</td>\n",
       "      <td>1.043000</td>\n",
       "    </tr>\n",
       "    <tr>\n",
       "      <th>3</th>\n",
       "      <td>200505</td>\n",
       "      <td>1.107463</td>\n",
       "      <td>1.195630</td>\n",
       "      <td>1.362000e+00</td>\n",
       "      <td>1.247000</td>\n",
       "    </tr>\n",
       "    <tr>\n",
       "      <th>4</th>\n",
       "      <td>200506</td>\n",
       "      <td>1.074384</td>\n",
       "      <td>1.071075</td>\n",
       "      <td>1.463000e+00</td>\n",
       "      <td>1.335000</td>\n",
       "    </tr>\n",
       "    <tr>\n",
       "      <th>5</th>\n",
       "      <td>200507</td>\n",
       "      <td>1.122506</td>\n",
       "      <td>1.017617</td>\n",
       "      <td>1.642000e+00</td>\n",
       "      <td>1.359000</td>\n",
       "    </tr>\n",
       "    <tr>\n",
       "      <th>6</th>\n",
       "      <td>200508</td>\n",
       "      <td>1.057531</td>\n",
       "      <td>0.978628</td>\n",
       "      <td>1.737000e+00</td>\n",
       "      <td>1.330000</td>\n",
       "    </tr>\n",
       "    <tr>\n",
       "      <th>7</th>\n",
       "      <td>200509</td>\n",
       "      <td>1.091461</td>\n",
       "      <td>1.057418</td>\n",
       "      <td>1.896000e+00</td>\n",
       "      <td>1.406000</td>\n",
       "    </tr>\n",
       "    <tr>\n",
       "      <th>8</th>\n",
       "      <td>200510</td>\n",
       "      <td>1.047318</td>\n",
       "      <td>1.085776</td>\n",
       "      <td>1.986000e+00</td>\n",
       "      <td>1.527000</td>\n",
       "    </tr>\n",
       "    <tr>\n",
       "      <th>9</th>\n",
       "      <td>200511</td>\n",
       "      <td>1.104772</td>\n",
       "      <td>1.067688</td>\n",
       "      <td>2.194000e+00</td>\n",
       "      <td>1.630000</td>\n",
       "    </tr>\n",
       "    <tr>\n",
       "      <th>10</th>\n",
       "      <td>200512</td>\n",
       "      <td>1.101725</td>\n",
       "      <td>1.031314</td>\n",
       "      <td>2.417000e+00</td>\n",
       "      <td>1.681000</td>\n",
       "    </tr>\n",
       "    <tr>\n",
       "      <th>11</th>\n",
       "      <td>200601</td>\n",
       "      <td>1.147723</td>\n",
       "      <td>1.032990</td>\n",
       "      <td>2.774000e+00</td>\n",
       "      <td>1.736000</td>\n",
       "    </tr>\n",
       "    <tr>\n",
       "      <th>12</th>\n",
       "      <td>200602</td>\n",
       "      <td>1.082857</td>\n",
       "      <td>0.871528</td>\n",
       "      <td>3.004000e+00</td>\n",
       "      <td>1.513000</td>\n",
       "    </tr>\n",
       "    <tr>\n",
       "      <th>13</th>\n",
       "      <td>200603</td>\n",
       "      <td>1.110791</td>\n",
       "      <td>1.053879</td>\n",
       "      <td>3.336000e+00</td>\n",
       "      <td>1.595000</td>\n",
       "    </tr>\n",
       "    <tr>\n",
       "      <th>14</th>\n",
       "      <td>200604</td>\n",
       "      <td>1.079646</td>\n",
       "      <td>1.040344</td>\n",
       "      <td>3.602000e+00</td>\n",
       "      <td>1.659000</td>\n",
       "    </tr>\n",
       "    <tr>\n",
       "      <th>15</th>\n",
       "      <td>200605</td>\n",
       "      <td>1.103353</td>\n",
       "      <td>0.891577</td>\n",
       "      <td>3.974000e+00</td>\n",
       "      <td>1.479000</td>\n",
       "    </tr>\n",
       "    <tr>\n",
       "      <th>16</th>\n",
       "      <td>200606</td>\n",
       "      <td>1.082734</td>\n",
       "      <td>1.085681</td>\n",
       "      <td>4.303000e+00</td>\n",
       "      <td>1.606000</td>\n",
       "    </tr>\n",
       "    <tr>\n",
       "      <th>17</th>\n",
       "      <td>200607</td>\n",
       "      <td>1.076295</td>\n",
       "      <td>0.941285</td>\n",
       "      <td>4.631000e+00</td>\n",
       "      <td>1.512000</td>\n",
       "    </tr>\n",
       "    <tr>\n",
       "      <th>18</th>\n",
       "      <td>200608</td>\n",
       "      <td>1.080925</td>\n",
       "      <td>0.985677</td>\n",
       "      <td>5.006000e+00</td>\n",
       "      <td>1.490000</td>\n",
       "    </tr>\n",
       "    <tr>\n",
       "      <th>19</th>\n",
       "      <td>200609</td>\n",
       "      <td>1.096247</td>\n",
       "      <td>1.063239</td>\n",
       "      <td>5.488000e+00</td>\n",
       "      <td>1.584000</td>\n",
       "    </tr>\n",
       "    <tr>\n",
       "      <th>20</th>\n",
       "      <td>200610</td>\n",
       "      <td>1.124237</td>\n",
       "      <td>1.166122</td>\n",
       "      <td>6.170000e+00</td>\n",
       "      <td>1.848000</td>\n",
       "    </tr>\n",
       "    <tr>\n",
       "      <th>21</th>\n",
       "      <td>200611</td>\n",
       "      <td>1.105729</td>\n",
       "      <td>1.032249</td>\n",
       "      <td>6.822000e+00</td>\n",
       "      <td>1.907000</td>\n",
       "    </tr>\n",
       "    <tr>\n",
       "      <th>22</th>\n",
       "      <td>200612</td>\n",
       "      <td>1.071480</td>\n",
       "      <td>0.957623</td>\n",
       "      <td>7.310000e+00</td>\n",
       "      <td>1.826000</td>\n",
       "    </tr>\n",
       "    <tr>\n",
       "      <th>23</th>\n",
       "      <td>200701</td>\n",
       "      <td>1.116313</td>\n",
       "      <td>1.086052</td>\n",
       "      <td>8.160000e+00</td>\n",
       "      <td>1.984000</td>\n",
       "    </tr>\n",
       "    <tr>\n",
       "      <th>24</th>\n",
       "      <td>200702</td>\n",
       "      <td>1.179125</td>\n",
       "      <td>0.930413</td>\n",
       "      <td>9.622000e+00</td>\n",
       "      <td>1.845000</td>\n",
       "    </tr>\n",
       "    <tr>\n",
       "      <th>25</th>\n",
       "      <td>200703</td>\n",
       "      <td>1.105571</td>\n",
       "      <td>1.018631</td>\n",
       "      <td>1.063800e+01</td>\n",
       "      <td>1.880000</td>\n",
       "    </tr>\n",
       "    <tr>\n",
       "      <th>26</th>\n",
       "      <td>200704</td>\n",
       "      <td>1.128727</td>\n",
       "      <td>1.027183</td>\n",
       "      <td>1.200700e+01</td>\n",
       "      <td>1.931000</td>\n",
       "    </tr>\n",
       "    <tr>\n",
       "      <th>27</th>\n",
       "      <td>200705</td>\n",
       "      <td>1.126979</td>\n",
       "      <td>1.096325</td>\n",
       "      <td>1.353100e+01</td>\n",
       "      <td>2.117000</td>\n",
       "    </tr>\n",
       "    <tr>\n",
       "      <th>28</th>\n",
       "      <td>200706</td>\n",
       "      <td>1.196881</td>\n",
       "      <td>1.052190</td>\n",
       "      <td>1.619600e+01</td>\n",
       "      <td>2.227000</td>\n",
       "    </tr>\n",
       "    <tr>\n",
       "      <th>29</th>\n",
       "      <td>200707</td>\n",
       "      <td>1.080623</td>\n",
       "      <td>0.962304</td>\n",
       "      <td>1.750100e+01</td>\n",
       "      <td>2.144000</td>\n",
       "    </tr>\n",
       "    <tr>\n",
       "      <th>...</th>\n",
       "      <td>...</td>\n",
       "      <td>...</td>\n",
       "      <td>...</td>\n",
       "      <td>...</td>\n",
       "      <td>...</td>\n",
       "    </tr>\n",
       "    <tr>\n",
       "      <th>139</th>\n",
       "      <td>201703</td>\n",
       "      <td>1.053410</td>\n",
       "      <td>1.108288</td>\n",
       "      <td>3.934996e+05</td>\n",
       "      <td>2.673000</td>\n",
       "    </tr>\n",
       "    <tr>\n",
       "      <th>140</th>\n",
       "      <td>201704</td>\n",
       "      <td>1.063284</td>\n",
       "      <td>1.046952</td>\n",
       "      <td>4.184019e+05</td>\n",
       "      <td>2.798000</td>\n",
       "    </tr>\n",
       "    <tr>\n",
       "      <th>141</th>\n",
       "      <td>201705</td>\n",
       "      <td>1.086068</td>\n",
       "      <td>1.044986</td>\n",
       "      <td>4.544130e+05</td>\n",
       "      <td>2.924000</td>\n",
       "    </tr>\n",
       "    <tr>\n",
       "      <th>142</th>\n",
       "      <td>201706</td>\n",
       "      <td>1.117480</td>\n",
       "      <td>1.011041</td>\n",
       "      <td>5.077976e+05</td>\n",
       "      <td>2.956000</td>\n",
       "    </tr>\n",
       "    <tr>\n",
       "      <th>143</th>\n",
       "      <td>201707</td>\n",
       "      <td>1.078661</td>\n",
       "      <td>1.017927</td>\n",
       "      <td>5.477413e+05</td>\n",
       "      <td>3.009000</td>\n",
       "    </tr>\n",
       "    <tr>\n",
       "      <th>144</th>\n",
       "      <td>201708</td>\n",
       "      <td>1.080437</td>\n",
       "      <td>1.039251</td>\n",
       "      <td>5.918002e+05</td>\n",
       "      <td>3.127000</td>\n",
       "    </tr>\n",
       "    <tr>\n",
       "      <th>145</th>\n",
       "      <td>201709</td>\n",
       "      <td>1.072338</td>\n",
       "      <td>0.962703</td>\n",
       "      <td>6.346100e+05</td>\n",
       "      <td>3.011000</td>\n",
       "    </tr>\n",
       "    <tr>\n",
       "      <th>146</th>\n",
       "      <td>201711</td>\n",
       "      <td>1.093151</td>\n",
       "      <td>0.998274</td>\n",
       "      <td>6.937243e+05</td>\n",
       "      <td>3.006000</td>\n",
       "    </tr>\n",
       "    <tr>\n",
       "      <th>147</th>\n",
       "      <td>201712</td>\n",
       "      <td>1.057711</td>\n",
       "      <td>1.037586</td>\n",
       "      <td>7.337598e+05</td>\n",
       "      <td>3.118000</td>\n",
       "    </tr>\n",
       "    <tr>\n",
       "      <th>148</th>\n",
       "      <td>201801</td>\n",
       "      <td>1.126718</td>\n",
       "      <td>1.069606</td>\n",
       "      <td>8.267403e+05</td>\n",
       "      <td>3.336000</td>\n",
       "    </tr>\n",
       "    <tr>\n",
       "      <th>149</th>\n",
       "      <td>201802</td>\n",
       "      <td>1.048053</td>\n",
       "      <td>0.957491</td>\n",
       "      <td>8.664675e+05</td>\n",
       "      <td>3.194000</td>\n",
       "    </tr>\n",
       "    <tr>\n",
       "      <th>150</th>\n",
       "      <td>201803</td>\n",
       "      <td>1.062857</td>\n",
       "      <td>1.030263</td>\n",
       "      <td>9.209307e+05</td>\n",
       "      <td>3.290000</td>\n",
       "    </tr>\n",
       "    <tr>\n",
       "      <th>151</th>\n",
       "      <td>201804</td>\n",
       "      <td>1.079562</td>\n",
       "      <td>1.020641</td>\n",
       "      <td>9.942014e+05</td>\n",
       "      <td>3.358000</td>\n",
       "    </tr>\n",
       "    <tr>\n",
       "      <th>152</th>\n",
       "      <td>201805</td>\n",
       "      <td>1.117713</td>\n",
       "      <td>1.004375</td>\n",
       "      <td>1.111232e+06</td>\n",
       "      <td>3.373000</td>\n",
       "    </tr>\n",
       "    <tr>\n",
       "      <th>153</th>\n",
       "      <td>201806</td>\n",
       "      <td>1.057081</td>\n",
       "      <td>0.981128</td>\n",
       "      <td>1.174662e+06</td>\n",
       "      <td>3.309000</td>\n",
       "    </tr>\n",
       "    <tr>\n",
       "      <th>154</th>\n",
       "      <td>201807</td>\n",
       "      <td>1.096374</td>\n",
       "      <td>0.960525</td>\n",
       "      <td>1.287869e+06</td>\n",
       "      <td>3.179000</td>\n",
       "    </tr>\n",
       "    <tr>\n",
       "      <th>155</th>\n",
       "      <td>201808</td>\n",
       "      <td>1.125195</td>\n",
       "      <td>0.990344</td>\n",
       "      <td>1.449103e+06</td>\n",
       "      <td>3.148000</td>\n",
       "    </tr>\n",
       "    <tr>\n",
       "      <th>156</th>\n",
       "      <td>201809</td>\n",
       "      <td>1.053932</td>\n",
       "      <td>1.035639</td>\n",
       "      <td>1.527257e+06</td>\n",
       "      <td>3.260000</td>\n",
       "    </tr>\n",
       "    <tr>\n",
       "      <th>157</th>\n",
       "      <td>201810</td>\n",
       "      <td>1.061726</td>\n",
       "      <td>0.923987</td>\n",
       "      <td>1.621529e+06</td>\n",
       "      <td>3.012000</td>\n",
       "    </tr>\n",
       "    <tr>\n",
       "      <th>158</th>\n",
       "      <td>201811</td>\n",
       "      <td>1.082409</td>\n",
       "      <td>0.982583</td>\n",
       "      <td>1.755156e+06</td>\n",
       "      <td>2.960000</td>\n",
       "    </tr>\n",
       "    <tr>\n",
       "      <th>159</th>\n",
       "      <td>201812</td>\n",
       "      <td>1.043530</td>\n",
       "      <td>0.873848</td>\n",
       "      <td>1.831559e+06</td>\n",
       "      <td>2.587000</td>\n",
       "    </tr>\n",
       "    <tr>\n",
       "      <th>160</th>\n",
       "      <td>201904</td>\n",
       "      <td>1.137192</td>\n",
       "      <td>1.101067</td>\n",
       "      <td>2.082835e+06</td>\n",
       "      <td>2.848000</td>\n",
       "    </tr>\n",
       "    <tr>\n",
       "      <th>161</th>\n",
       "      <td>201905</td>\n",
       "      <td>1.135882</td>\n",
       "      <td>0.910725</td>\n",
       "      <td>2.365854e+06</td>\n",
       "      <td>2.594000</td>\n",
       "    </tr>\n",
       "    <tr>\n",
       "      <th>162</th>\n",
       "      <td>201906</td>\n",
       "      <td>1.092872</td>\n",
       "      <td>1.065910</td>\n",
       "      <td>2.585575e+06</td>\n",
       "      <td>2.765000</td>\n",
       "    </tr>\n",
       "    <tr>\n",
       "      <th>163</th>\n",
       "      <td>201907</td>\n",
       "      <td>1.071769</td>\n",
       "      <td>1.015346</td>\n",
       "      <td>2.771139e+06</td>\n",
       "      <td>2.807000</td>\n",
       "    </tr>\n",
       "    <tr>\n",
       "      <th>164</th>\n",
       "      <td>201908</td>\n",
       "      <td>1.077794</td>\n",
       "      <td>1.028199</td>\n",
       "      <td>2.986717e+06</td>\n",
       "      <td>2.886000</td>\n",
       "    </tr>\n",
       "    <tr>\n",
       "      <th>165</th>\n",
       "      <td>201909</td>\n",
       "      <td>1.057695</td>\n",
       "      <td>0.936702</td>\n",
       "      <td>3.159037e+06</td>\n",
       "      <td>2.704000</td>\n",
       "    </tr>\n",
       "    <tr>\n",
       "      <th>166</th>\n",
       "      <td>201910</td>\n",
       "      <td>1.073478</td>\n",
       "      <td>0.948595</td>\n",
       "      <td>3.391155e+06</td>\n",
       "      <td>2.565000</td>\n",
       "    </tr>\n",
       "    <tr>\n",
       "      <th>167</th>\n",
       "      <td>201911</td>\n",
       "      <td>1.116780</td>\n",
       "      <td>1.065485</td>\n",
       "      <td>3.787175e+06</td>\n",
       "      <td>2.733000</td>\n",
       "    </tr>\n",
       "    <tr>\n",
       "      <th>168</th>\n",
       "      <td>201912</td>\n",
       "      <td>1.041571</td>\n",
       "      <td>1.021012</td>\n",
       "      <td>3.944611e+06</td>\n",
       "      <td>2.790000</td>\n",
       "    </tr>\n",
       "  </tbody>\n",
       "</table>\n",
       "<p>169 rows × 5 columns</p>\n",
       "</div>"
      ],
      "text/plain": [
       "       date  portfolio  lone_pine  portfolio_progressive  \\\n",
       "0    200502   1.082298   0.994608           1.082298e+00   \n",
       "1    200503   1.075065   0.973149           1.164000e+00   \n",
       "2    200504   1.056912   1.077206           1.230000e+00   \n",
       "3    200505   1.107463   1.195630           1.362000e+00   \n",
       "4    200506   1.074384   1.071075           1.463000e+00   \n",
       "5    200507   1.122506   1.017617           1.642000e+00   \n",
       "6    200508   1.057531   0.978628           1.737000e+00   \n",
       "7    200509   1.091461   1.057418           1.896000e+00   \n",
       "8    200510   1.047318   1.085776           1.986000e+00   \n",
       "9    200511   1.104772   1.067688           2.194000e+00   \n",
       "10   200512   1.101725   1.031314           2.417000e+00   \n",
       "11   200601   1.147723   1.032990           2.774000e+00   \n",
       "12   200602   1.082857   0.871528           3.004000e+00   \n",
       "13   200603   1.110791   1.053879           3.336000e+00   \n",
       "14   200604   1.079646   1.040344           3.602000e+00   \n",
       "15   200605   1.103353   0.891577           3.974000e+00   \n",
       "16   200606   1.082734   1.085681           4.303000e+00   \n",
       "17   200607   1.076295   0.941285           4.631000e+00   \n",
       "18   200608   1.080925   0.985677           5.006000e+00   \n",
       "19   200609   1.096247   1.063239           5.488000e+00   \n",
       "20   200610   1.124237   1.166122           6.170000e+00   \n",
       "21   200611   1.105729   1.032249           6.822000e+00   \n",
       "22   200612   1.071480   0.957623           7.310000e+00   \n",
       "23   200701   1.116313   1.086052           8.160000e+00   \n",
       "24   200702   1.179125   0.930413           9.622000e+00   \n",
       "25   200703   1.105571   1.018631           1.063800e+01   \n",
       "26   200704   1.128727   1.027183           1.200700e+01   \n",
       "27   200705   1.126979   1.096325           1.353100e+01   \n",
       "28   200706   1.196881   1.052190           1.619600e+01   \n",
       "29   200707   1.080623   0.962304           1.750100e+01   \n",
       "..      ...        ...        ...                    ...   \n",
       "139  201703   1.053410   1.108288           3.934996e+05   \n",
       "140  201704   1.063284   1.046952           4.184019e+05   \n",
       "141  201705   1.086068   1.044986           4.544130e+05   \n",
       "142  201706   1.117480   1.011041           5.077976e+05   \n",
       "143  201707   1.078661   1.017927           5.477413e+05   \n",
       "144  201708   1.080437   1.039251           5.918002e+05   \n",
       "145  201709   1.072338   0.962703           6.346100e+05   \n",
       "146  201711   1.093151   0.998274           6.937243e+05   \n",
       "147  201712   1.057711   1.037586           7.337598e+05   \n",
       "148  201801   1.126718   1.069606           8.267403e+05   \n",
       "149  201802   1.048053   0.957491           8.664675e+05   \n",
       "150  201803   1.062857   1.030263           9.209307e+05   \n",
       "151  201804   1.079562   1.020641           9.942014e+05   \n",
       "152  201805   1.117713   1.004375           1.111232e+06   \n",
       "153  201806   1.057081   0.981128           1.174662e+06   \n",
       "154  201807   1.096374   0.960525           1.287869e+06   \n",
       "155  201808   1.125195   0.990344           1.449103e+06   \n",
       "156  201809   1.053932   1.035639           1.527257e+06   \n",
       "157  201810   1.061726   0.923987           1.621529e+06   \n",
       "158  201811   1.082409   0.982583           1.755156e+06   \n",
       "159  201812   1.043530   0.873848           1.831559e+06   \n",
       "160  201904   1.137192   1.101067           2.082835e+06   \n",
       "161  201905   1.135882   0.910725           2.365854e+06   \n",
       "162  201906   1.092872   1.065910           2.585575e+06   \n",
       "163  201907   1.071769   1.015346           2.771139e+06   \n",
       "164  201908   1.077794   1.028199           2.986717e+06   \n",
       "165  201909   1.057695   0.936702           3.159037e+06   \n",
       "166  201910   1.073478   0.948595           3.391155e+06   \n",
       "167  201911   1.116780   1.065485           3.787175e+06   \n",
       "168  201912   1.041571   1.021012           3.944611e+06   \n",
       "\n",
       "     lone_pine_progressive  \n",
       "0                 0.994608  \n",
       "1                 0.968000  \n",
       "2                 1.043000  \n",
       "3                 1.247000  \n",
       "4                 1.335000  \n",
       "5                 1.359000  \n",
       "6                 1.330000  \n",
       "7                 1.406000  \n",
       "8                 1.527000  \n",
       "9                 1.630000  \n",
       "10                1.681000  \n",
       "11                1.736000  \n",
       "12                1.513000  \n",
       "13                1.595000  \n",
       "14                1.659000  \n",
       "15                1.479000  \n",
       "16                1.606000  \n",
       "17                1.512000  \n",
       "18                1.490000  \n",
       "19                1.584000  \n",
       "20                1.848000  \n",
       "21                1.907000  \n",
       "22                1.826000  \n",
       "23                1.984000  \n",
       "24                1.845000  \n",
       "25                1.880000  \n",
       "26                1.931000  \n",
       "27                2.117000  \n",
       "28                2.227000  \n",
       "29                2.144000  \n",
       "..                     ...  \n",
       "139               2.673000  \n",
       "140               2.798000  \n",
       "141               2.924000  \n",
       "142               2.956000  \n",
       "143               3.009000  \n",
       "144               3.127000  \n",
       "145               3.011000  \n",
       "146               3.006000  \n",
       "147               3.118000  \n",
       "148               3.336000  \n",
       "149               3.194000  \n",
       "150               3.290000  \n",
       "151               3.358000  \n",
       "152               3.373000  \n",
       "153               3.309000  \n",
       "154               3.179000  \n",
       "155               3.148000  \n",
       "156               3.260000  \n",
       "157               3.012000  \n",
       "158               2.960000  \n",
       "159               2.587000  \n",
       "160               2.848000  \n",
       "161               2.594000  \n",
       "162               2.765000  \n",
       "163               2.807000  \n",
       "164               2.886000  \n",
       "165               2.704000  \n",
       "166               2.565000  \n",
       "167               2.733000  \n",
       "168               2.790000  \n",
       "\n",
       "[169 rows x 5 columns]"
      ]
     },
     "execution_count": 16,
     "metadata": {},
     "output_type": "execute_result"
    }
   ],
   "source": [
    "revenue_rate"
   ]
  },
  {
   "cell_type": "code",
   "execution_count": 55,
   "metadata": {},
   "outputs": [
    {
     "data": {
      "image/png": "[encoded data removed]",
      "text/plain": [
       "<Figure size 432x288 with 1 Axes>"
      ]
     },
     "metadata": {
      "needs_background": "light"
     },
     "output_type": "display_data"
    }
   ],
   "source": [
    "mat = confusion_matrix(y_test, y_pred)\n",
    "sns.heatmap(mat.T, square=True, annot=True, fmt='d', cbar=False)\n",
    "plt.xlabel('true label')\n",
    "plt.ylabel('predicted label')"
   ]
  },
  {
   "cell_type": "code",
   "execution_count": 2,
   "metadata": {},
   "outputs": [],
   "source": [
    "f13_data = tool.f13_data\n",
    "price_data = tool.price_data\n",
    "\n",
    "# season_date_list = ['201909', '201906', '201903', '201812']\n",
    "f13_data = f13_data[f13_data['Date'].isin(season_date_list)]\n",
    "\n",
    "all_date = sorted(list(set(price_data['Date'].astype('int'))))\n",
    "final = pd.DataFrame(columns=['ticker', 'class', 'volatility', 'liquidity', '52 week high', 'momentum'])\n",
    "for date, df in f13_data.groupby('Date'):\n",
    "    index = all_date.index(int(date))\n",
    "    start = index - 12\n",
    "    end = index\n",
    "    if start < 0:\n",
    "        start = 0\n",
    "    last_12month = all_date[start:end]\n",
    "    last_12month = [str(i) for i in last_12month]\n",
    "    last_year_price = price_data[price_data['Date'].isin(last_12month)]\n",
    "    df = last_year_price.merge(df[['Ticker', 'Class']], on=['Ticker', 'Class'])\n",
    "    for group, df1 in df.groupby(['Ticker', 'Class']):\n",
    "        ticker, cls = group\n",
    "        max_price = max(df1['ASKHI'])\n",
    "        min_price = min(df1['BIDLO'])\n",
    "        week_high = max_price / min_price\n",
    "        df1 = df1.sort_values('Date').reset_index(drop=True)\n",
    "        df_len = len(df1)\n",
    "        mom = np.mean(df1[df_len-2:df_len]['PRC']) / np.mean(df1['PRC'])\n",
    "        df1 = df1[df1['Date']==last_12month[-1]].reset_index(drop=True)\n",
    "        vol = df1['VOL'][0]\n",
    "        liq = vol / df1['SHROUT'][0]\n",
    "        final.loc[-1] = [ticker, cls, vol, liq, week_high, mom]\n",
    "        final = final.reset_index(drop=True)"
   ]
  },
  {
   "cell_type": "code",
   "execution_count": 5,
   "metadata": {
    "scrolled": true
   },
   "outputs": [
    {
     "data": {
      "text/html": [
       "<div>\n",
       "<style scoped>\n",
       "    .dataframe tbody tr th:only-of-type {\n",
       "        vertical-align: middle;\n",
       "    }\n",
       "\n",
       "    .dataframe tbody tr th {\n",
       "        vertical-align: top;\n",
       "    }\n",
       "\n",
       "    .dataframe thead th {\n",
       "        text-align: right;\n",
       "    }\n",
       "</style>\n",
       "<table border=\"1\" class=\"dataframe\">\n",
       "  <thead>\n",
       "    <tr style=\"text-align: right;\">\n",
       "      <th></th>\n",
       "      <th>ticker</th>\n",
       "      <th>class</th>\n",
       "      <th>volatility</th>\n",
       "      <th>liquidity</th>\n",
       "      <th>52 week high</th>\n",
       "      <th>momentum</th>\n",
       "    </tr>\n",
       "  </thead>\n",
       "  <tbody>\n",
       "    <tr>\n",
       "      <th>0</th>\n",
       "      <td>ADBE</td>\n",
       "      <td>0</td>\n",
       "      <td>813790.0</td>\n",
       "      <td>1.668755</td>\n",
       "      <td>1.644324</td>\n",
       "      <td>1.068183</td>\n",
       "    </tr>\n",
       "    <tr>\n",
       "      <th>1</th>\n",
       "      <td>ADSK</td>\n",
       "      <td>0</td>\n",
       "      <td>511872.0</td>\n",
       "      <td>2.337219</td>\n",
       "      <td>1.514451</td>\n",
       "      <td>1.051375</td>\n",
       "    </tr>\n",
       "    <tr>\n",
       "      <th>2</th>\n",
       "      <td>AMZN</td>\n",
       "      <td>0</td>\n",
       "      <td>1393304.0</td>\n",
       "      <td>2.849473</td>\n",
       "      <td>1.798589</td>\n",
       "      <td>1.008797</td>\n",
       "    </tr>\n",
       "    <tr>\n",
       "      <th>3</th>\n",
       "      <td>ATVI</td>\n",
       "      <td>0</td>\n",
       "      <td>2455742.0</td>\n",
       "      <td>3.218320</td>\n",
       "      <td>1.696988</td>\n",
       "      <td>0.850249</td>\n",
       "    </tr>\n",
       "    <tr>\n",
       "      <th>4</th>\n",
       "      <td>BABA</td>\n",
       "      <td>0</td>\n",
       "      <td>4563960.0</td>\n",
       "      <td>4.019301</td>\n",
       "      <td>1.580897</td>\n",
       "      <td>0.850474</td>\n",
       "    </tr>\n",
       "    <tr>\n",
       "      <th>5</th>\n",
       "      <td>BKNG</td>\n",
       "      <td>0</td>\n",
       "      <td>93368.0</td>\n",
       "      <td>2.015282</td>\n",
       "      <td>1.260313</td>\n",
       "      <td>0.934180</td>\n",
       "    </tr>\n",
       "    <tr>\n",
       "      <th>6</th>\n",
       "      <td>CP</td>\n",
       "      <td>0</td>\n",
       "      <td>126167.0</td>\n",
       "      <td>0.884749</td>\n",
       "      <td>1.299009</td>\n",
       "      <td>1.077932</td>\n",
       "    </tr>\n",
       "    <tr>\n",
       "      <th>7</th>\n",
       "      <td>CRM</td>\n",
       "      <td>0</td>\n",
       "      <td>1657478.0</td>\n",
       "      <td>2.166638</td>\n",
       "      <td>1.606710</td>\n",
       "      <td>1.073983</td>\n",
       "    </tr>\n",
       "    <tr>\n",
       "      <th>8</th>\n",
       "      <td>CSX</td>\n",
       "      <td>0</td>\n",
       "      <td>1036978.0</td>\n",
       "      <td>1.228036</td>\n",
       "      <td>1.495938</td>\n",
       "      <td>1.103365</td>\n",
       "    </tr>\n",
       "    <tr>\n",
       "      <th>9</th>\n",
       "      <td>EA</td>\n",
       "      <td>0</td>\n",
       "      <td>963326.0</td>\n",
       "      <td>3.188459</td>\n",
       "      <td>1.801500</td>\n",
       "      <td>0.747773</td>\n",
       "    </tr>\n",
       "    <tr>\n",
       "      <th>10</th>\n",
       "      <td>FLT</td>\n",
       "      <td>0</td>\n",
       "      <td>162563.0</td>\n",
       "      <td>1.844038</td>\n",
       "      <td>1.259898</td>\n",
       "      <td>0.953134</td>\n",
       "    </tr>\n",
       "    <tr>\n",
       "      <th>11</th>\n",
       "      <td>IQV</td>\n",
       "      <td>0</td>\n",
       "      <td>255214.0</td>\n",
       "      <td>1.275777</td>\n",
       "      <td>1.378703</td>\n",
       "      <td>1.129146</td>\n",
       "    </tr>\n",
       "    <tr>\n",
       "      <th>12</th>\n",
       "      <td>MA</td>\n",
       "      <td>A</td>\n",
       "      <td>921661.0</td>\n",
       "      <td>0.902765</td>\n",
       "      <td>1.560134</td>\n",
       "      <td>1.053428</td>\n",
       "    </tr>\n",
       "    <tr>\n",
       "      <th>13</th>\n",
       "      <td>MELI</td>\n",
       "      <td>0</td>\n",
       "      <td>134942.0</td>\n",
       "      <td>2.985244</td>\n",
       "      <td>1.528582</td>\n",
       "      <td>0.995358</td>\n",
       "    </tr>\n",
       "    <tr>\n",
       "      <th>14</th>\n",
       "      <td>MSFT</td>\n",
       "      <td>0</td>\n",
       "      <td>7199533.0</td>\n",
       "      <td>0.937901</td>\n",
       "      <td>1.425876</td>\n",
       "      <td>1.082151</td>\n",
       "    </tr>\n",
       "    <tr>\n",
       "      <th>15</th>\n",
       "      <td>NOW</td>\n",
       "      <td>0</td>\n",
       "      <td>425195.0</td>\n",
       "      <td>2.371417</td>\n",
       "      <td>1.800563</td>\n",
       "      <td>1.068894</td>\n",
       "    </tr>\n",
       "    <tr>\n",
       "      <th>16</th>\n",
       "      <td>NVDA</td>\n",
       "      <td>0</td>\n",
       "      <td>4049666.0</td>\n",
       "      <td>6.638797</td>\n",
       "      <td>1.999723</td>\n",
       "      <td>0.799786</td>\n",
       "    </tr>\n",
       "    <tr>\n",
       "      <th>17</th>\n",
       "      <td>PYPL</td>\n",
       "      <td>0</td>\n",
       "      <td>1618029.0</td>\n",
       "      <td>1.373121</td>\n",
       "      <td>1.311399</td>\n",
       "      <td>1.033979</td>\n",
       "    </tr>\n",
       "    <tr>\n",
       "      <th>18</th>\n",
       "      <td>STZ</td>\n",
       "      <td>A</td>\n",
       "      <td>409070.0</td>\n",
       "      <td>2.462230</td>\n",
       "      <td>1.228083</td>\n",
       "      <td>0.913075</td>\n",
       "    </tr>\n",
       "    <tr>\n",
       "      <th>19</th>\n",
       "      <td>TDG</td>\n",
       "      <td>0</td>\n",
       "      <td>97951.0</td>\n",
       "      <td>1.856961</td>\n",
       "      <td>1.390889</td>\n",
       "      <td>1.044050</td>\n",
       "    </tr>\n",
       "    <tr>\n",
       "      <th>20</th>\n",
       "      <td>TIF</td>\n",
       "      <td>0</td>\n",
       "      <td>492190.0</td>\n",
       "      <td>4.037753</td>\n",
       "      <td>1.553971</td>\n",
       "      <td>0.888586</td>\n",
       "    </tr>\n",
       "    <tr>\n",
       "      <th>21</th>\n",
       "      <td>TRU</td>\n",
       "      <td>0</td>\n",
       "      <td>315115.0</td>\n",
       "      <td>1.700567</td>\n",
       "      <td>1.400329</td>\n",
       "      <td>0.996178</td>\n",
       "    </tr>\n",
       "    <tr>\n",
       "      <th>22</th>\n",
       "      <td>UNH</td>\n",
       "      <td>0</td>\n",
       "      <td>748551.0</td>\n",
       "      <td>0.778092</td>\n",
       "      <td>1.329334</td>\n",
       "      <td>1.103413</td>\n",
       "    </tr>\n",
       "    <tr>\n",
       "      <th>23</th>\n",
       "      <td>WYNN</td>\n",
       "      <td>0</td>\n",
       "      <td>763816.0</td>\n",
       "      <td>7.024306</td>\n",
       "      <td>2.139626</td>\n",
       "      <td>0.668166</td>\n",
       "    </tr>\n",
       "    <tr>\n",
       "      <th>24</th>\n",
       "      <td>ADBE</td>\n",
       "      <td>0</td>\n",
       "      <td>509842.0</td>\n",
       "      <td>1.042377</td>\n",
       "      <td>1.342806</td>\n",
       "      <td>1.040719</td>\n",
       "    </tr>\n",
       "    <tr>\n",
       "      <th>25</th>\n",
       "      <td>ADSK</td>\n",
       "      <td>0</td>\n",
       "      <td>300297.0</td>\n",
       "      <td>1.368719</td>\n",
       "      <td>1.431759</td>\n",
       "      <td>1.119124</td>\n",
       "    </tr>\n",
       "    <tr>\n",
       "      <th>26</th>\n",
       "      <td>AMZN</td>\n",
       "      <td>0</td>\n",
       "      <td>809418.0</td>\n",
       "      <td>1.645961</td>\n",
       "      <td>1.517538</td>\n",
       "      <td>0.993424</td>\n",
       "    </tr>\n",
       "    <tr>\n",
       "      <th>27</th>\n",
       "      <td>ATVI</td>\n",
       "      <td>0</td>\n",
       "      <td>3873640.0</td>\n",
       "      <td>5.071311</td>\n",
       "      <td>2.079033</td>\n",
       "      <td>0.701359</td>\n",
       "    </tr>\n",
       "    <tr>\n",
       "      <th>28</th>\n",
       "      <td>BABA</td>\n",
       "      <td>0</td>\n",
       "      <td>2236645.0</td>\n",
       "      <td>1.969726</td>\n",
       "      <td>1.614548</td>\n",
       "      <td>1.021687</td>\n",
       "    </tr>\n",
       "    <tr>\n",
       "      <th>29</th>\n",
       "      <td>BKNG</td>\n",
       "      <td>0</td>\n",
       "      <td>84118.0</td>\n",
       "      <td>1.868749</td>\n",
       "      <td>1.364454</td>\n",
       "      <td>0.905965</td>\n",
       "    </tr>\n",
       "    <tr>\n",
       "      <th>...</th>\n",
       "      <td>...</td>\n",
       "      <td>...</td>\n",
       "      <td>...</td>\n",
       "      <td>...</td>\n",
       "      <td>...</td>\n",
       "      <td>...</td>\n",
       "    </tr>\n",
       "    <tr>\n",
       "      <th>76</th>\n",
       "      <td>ADSK</td>\n",
       "      <td>0</td>\n",
       "      <td>718067.0</td>\n",
       "      <td>3.270065</td>\n",
       "      <td>1.506170</td>\n",
       "      <td>0.982706</td>\n",
       "    </tr>\n",
       "    <tr>\n",
       "      <th>77</th>\n",
       "      <td>AMZN</td>\n",
       "      <td>0</td>\n",
       "      <td>799855.0</td>\n",
       "      <td>1.616992</td>\n",
       "      <td>1.517538</td>\n",
       "      <td>1.032482</td>\n",
       "    </tr>\n",
       "    <tr>\n",
       "      <th>78</th>\n",
       "      <td>ATVI</td>\n",
       "      <td>0</td>\n",
       "      <td>1672994.0</td>\n",
       "      <td>2.181144</td>\n",
       "      <td>2.079033</td>\n",
       "      <td>0.958695</td>\n",
       "    </tr>\n",
       "    <tr>\n",
       "      <th>79</th>\n",
       "      <td>BABA</td>\n",
       "      <td>0</td>\n",
       "      <td>4058852.0</td>\n",
       "      <td>3.574472</td>\n",
       "      <td>1.494717</td>\n",
       "      <td>1.048951</td>\n",
       "    </tr>\n",
       "    <tr>\n",
       "      <th>80</th>\n",
       "      <td>BKNG</td>\n",
       "      <td>0</td>\n",
       "      <td>73027.0</td>\n",
       "      <td>1.717797</td>\n",
       "      <td>1.235857</td>\n",
       "      <td>1.051465</td>\n",
       "    </tr>\n",
       "    <tr>\n",
       "      <th>81</th>\n",
       "      <td>COUP</td>\n",
       "      <td>0</td>\n",
       "      <td>232490.0</td>\n",
       "      <td>3.699537</td>\n",
       "      <td>2.678578</td>\n",
       "      <td>1.424063</td>\n",
       "    </tr>\n",
       "    <tr>\n",
       "      <th>82</th>\n",
       "      <td>CP</td>\n",
       "      <td>0</td>\n",
       "      <td>91290.0</td>\n",
       "      <td>0.658772</td>\n",
       "      <td>1.462324</td>\n",
       "      <td>1.114075</td>\n",
       "    </tr>\n",
       "    <tr>\n",
       "      <th>83</th>\n",
       "      <td>CRM</td>\n",
       "      <td>0</td>\n",
       "      <td>2007286.0</td>\n",
       "      <td>2.288810</td>\n",
       "      <td>1.383525</td>\n",
       "      <td>1.018791</td>\n",
       "    </tr>\n",
       "    <tr>\n",
       "      <th>84</th>\n",
       "      <td>DHI</td>\n",
       "      <td>0</td>\n",
       "      <td>946263.0</td>\n",
       "      <td>2.558712</td>\n",
       "      <td>1.527306</td>\n",
       "      <td>1.157908</td>\n",
       "    </tr>\n",
       "    <tr>\n",
       "      <th>85</th>\n",
       "      <td>DPZ</td>\n",
       "      <td>0</td>\n",
       "      <td>159632.0</td>\n",
       "      <td>3.871462</td>\n",
       "      <td>1.333333</td>\n",
       "      <td>0.888986</td>\n",
       "    </tr>\n",
       "    <tr>\n",
       "      <th>86</th>\n",
       "      <td>EFX</td>\n",
       "      <td>0</td>\n",
       "      <td>181705.0</td>\n",
       "      <td>1.503135</td>\n",
       "      <td>1.626444</td>\n",
       "      <td>1.197441</td>\n",
       "    </tr>\n",
       "    <tr>\n",
       "      <th>87</th>\n",
       "      <td>GPN</td>\n",
       "      <td>0</td>\n",
       "      <td>335962.0</td>\n",
       "      <td>2.144283</td>\n",
       "      <td>1.797735</td>\n",
       "      <td>1.229163</td>\n",
       "    </tr>\n",
       "    <tr>\n",
       "      <th>88</th>\n",
       "      <td>HLF</td>\n",
       "      <td>0</td>\n",
       "      <td>387548.0</td>\n",
       "      <td>2.562386</td>\n",
       "      <td>1.826746</td>\n",
       "      <td>0.747474</td>\n",
       "    </tr>\n",
       "    <tr>\n",
       "      <th>89</th>\n",
       "      <td>HUM</td>\n",
       "      <td>0</td>\n",
       "      <td>228960.0</td>\n",
       "      <td>1.694883</td>\n",
       "      <td>1.519945</td>\n",
       "      <td>0.999805</td>\n",
       "    </tr>\n",
       "    <tr>\n",
       "      <th>90</th>\n",
       "      <td>IQV</td>\n",
       "      <td>0</td>\n",
       "      <td>216836.0</td>\n",
       "      <td>1.101277</td>\n",
       "      <td>1.527531</td>\n",
       "      <td>1.138263</td>\n",
       "    </tr>\n",
       "    <tr>\n",
       "      <th>91</th>\n",
       "      <td>MA</td>\n",
       "      <td>A</td>\n",
       "      <td>768440.0</td>\n",
       "      <td>0.766057</td>\n",
       "      <td>1.615059</td>\n",
       "      <td>1.184151</td>\n",
       "    </tr>\n",
       "    <tr>\n",
       "      <th>92</th>\n",
       "      <td>MDLA</td>\n",
       "      <td>0</td>\n",
       "      <td>118881.0</td>\n",
       "      <td>0.956104</td>\n",
       "      <td>1.212976</td>\n",
       "      <td>1.000000</td>\n",
       "    </tr>\n",
       "    <tr>\n",
       "      <th>93</th>\n",
       "      <td>MELI</td>\n",
       "      <td>0</td>\n",
       "      <td>122664.0</td>\n",
       "      <td>2.467592</td>\n",
       "      <td>2.679792</td>\n",
       "      <td>1.321100</td>\n",
       "    </tr>\n",
       "    <tr>\n",
       "      <th>94</th>\n",
       "      <td>MSFT</td>\n",
       "      <td>0</td>\n",
       "      <td>5853810.0</td>\n",
       "      <td>0.766666</td>\n",
       "      <td>1.501540</td>\n",
       "      <td>1.149866</td>\n",
       "    </tr>\n",
       "    <tr>\n",
       "      <th>95</th>\n",
       "      <td>NFLX</td>\n",
       "      <td>0</td>\n",
       "      <td>1373680.0</td>\n",
       "      <td>3.137438</td>\n",
       "      <td>1.646272</td>\n",
       "      <td>0.929352</td>\n",
       "    </tr>\n",
       "    <tr>\n",
       "      <th>96</th>\n",
       "      <td>NOW</td>\n",
       "      <td>0</td>\n",
       "      <td>373511.0</td>\n",
       "      <td>1.992462</td>\n",
       "      <td>1.927997</td>\n",
       "      <td>1.158314</td>\n",
       "    </tr>\n",
       "    <tr>\n",
       "      <th>97</th>\n",
       "      <td>SPGI</td>\n",
       "      <td>0</td>\n",
       "      <td>309561.0</td>\n",
       "      <td>1.256845</td>\n",
       "      <td>1.664277</td>\n",
       "      <td>1.212069</td>\n",
       "    </tr>\n",
       "    <tr>\n",
       "      <th>98</th>\n",
       "      <td>TDG</td>\n",
       "      <td>0</td>\n",
       "      <td>90649.0</td>\n",
       "      <td>1.698342</td>\n",
       "      <td>1.764972</td>\n",
       "      <td>1.201035</td>\n",
       "    </tr>\n",
       "    <tr>\n",
       "      <th>99</th>\n",
       "      <td>TIF</td>\n",
       "      <td>0</td>\n",
       "      <td>591619.0</td>\n",
       "      <td>4.897549</td>\n",
       "      <td>1.741140</td>\n",
       "      <td>0.916511</td>\n",
       "    </tr>\n",
       "    <tr>\n",
       "      <th>100</th>\n",
       "      <td>TWLO</td>\n",
       "      <td>A</td>\n",
       "      <td>819674.0</td>\n",
       "      <td>6.744012</td>\n",
       "      <td>2.343701</td>\n",
       "      <td>1.169934</td>\n",
       "    </tr>\n",
       "    <tr>\n",
       "      <th>101</th>\n",
       "      <td>UBER</td>\n",
       "      <td>0</td>\n",
       "      <td>2767304.0</td>\n",
       "      <td>1.627822</td>\n",
       "      <td>1.424010</td>\n",
       "      <td>0.925201</td>\n",
       "    </tr>\n",
       "    <tr>\n",
       "      <th>102</th>\n",
       "      <td>UNH</td>\n",
       "      <td>0</td>\n",
       "      <td>765986.0</td>\n",
       "      <td>0.808274</td>\n",
       "      <td>1.320467</td>\n",
       "      <td>0.959800</td>\n",
       "    </tr>\n",
       "    <tr>\n",
       "      <th>103</th>\n",
       "      <td>UNP</td>\n",
       "      <td>0</td>\n",
       "      <td>678817.0</td>\n",
       "      <td>0.963503</td>\n",
       "      <td>1.403557</td>\n",
       "      <td>1.052101</td>\n",
       "    </tr>\n",
       "    <tr>\n",
       "      <th>104</th>\n",
       "      <td>WWE</td>\n",
       "      <td>A</td>\n",
       "      <td>259056.0</td>\n",
       "      <td>5.446816</td>\n",
       "      <td>1.608851</td>\n",
       "      <td>0.916754</td>\n",
       "    </tr>\n",
       "    <tr>\n",
       "      <th>105</th>\n",
       "      <td>WYNN</td>\n",
       "      <td>0</td>\n",
       "      <td>575979.0</td>\n",
       "      <td>5.352169</td>\n",
       "      <td>1.622650</td>\n",
       "      <td>1.014421</td>\n",
       "    </tr>\n",
       "  </tbody>\n",
       "</table>\n",
       "<p>106 rows × 6 columns</p>\n",
       "</div>"
      ],
      "text/plain": [
       "    ticker class  volatility  liquidity  52 week high  momentum\n",
       "0     ADBE     0    813790.0   1.668755      1.644324  1.068183\n",
       "1     ADSK     0    511872.0   2.337219      1.514451  1.051375\n",
       "2     AMZN     0   1393304.0   2.849473      1.798589  1.008797\n",
       "3     ATVI     0   2455742.0   3.218320      1.696988  0.850249\n",
       "4     BABA     0   4563960.0   4.019301      1.580897  0.850474\n",
       "5     BKNG     0     93368.0   2.015282      1.260313  0.934180\n",
       "6       CP     0    126167.0   0.884749      1.299009  1.077932\n",
       "7      CRM     0   1657478.0   2.166638      1.606710  1.073983\n",
       "8      CSX     0   1036978.0   1.228036      1.495938  1.103365\n",
       "9       EA     0    963326.0   3.188459      1.801500  0.747773\n",
       "10     FLT     0    162563.0   1.844038      1.259898  0.953134\n",
       "11     IQV     0    255214.0   1.275777      1.378703  1.129146\n",
       "12      MA     A    921661.0   0.902765      1.560134  1.053428\n",
       "13    MELI     0    134942.0   2.985244      1.528582  0.995358\n",
       "14    MSFT     0   7199533.0   0.937901      1.425876  1.082151\n",
       "15     NOW     0    425195.0   2.371417      1.800563  1.068894\n",
       "16    NVDA     0   4049666.0   6.638797      1.999723  0.799786\n",
       "17    PYPL     0   1618029.0   1.373121      1.311399  1.033979\n",
       "18     STZ     A    409070.0   2.462230      1.228083  0.913075\n",
       "19     TDG     0     97951.0   1.856961      1.390889  1.044050\n",
       "20     TIF     0    492190.0   4.037753      1.553971  0.888586\n",
       "21     TRU     0    315115.0   1.700567      1.400329  0.996178\n",
       "22     UNH     0    748551.0   0.778092      1.329334  1.103413\n",
       "23    WYNN     0    763816.0   7.024306      2.139626  0.668166\n",
       "24    ADBE     0    509842.0   1.042377      1.342806  1.040719\n",
       "25    ADSK     0    300297.0   1.368719      1.431759  1.119124\n",
       "26    AMZN     0    809418.0   1.645961      1.517538  0.993424\n",
       "27    ATVI     0   3873640.0   5.071311      2.079033  0.701359\n",
       "28    BABA     0   2236645.0   1.969726      1.614548  1.021687\n",
       "29    BKNG     0     84118.0   1.868749      1.364454  0.905965\n",
       "..     ...   ...         ...        ...           ...       ...\n",
       "76    ADSK     0    718067.0   3.270065      1.506170  0.982706\n",
       "77    AMZN     0    799855.0   1.616992      1.517538  1.032482\n",
       "78    ATVI     0   1672994.0   2.181144      2.079033  0.958695\n",
       "79    BABA     0   4058852.0   3.574472      1.494717  1.048951\n",
       "80    BKNG     0     73027.0   1.717797      1.235857  1.051465\n",
       "81    COUP     0    232490.0   3.699537      2.678578  1.424063\n",
       "82      CP     0     91290.0   0.658772      1.462324  1.114075\n",
       "83     CRM     0   2007286.0   2.288810      1.383525  1.018791\n",
       "84     DHI     0    946263.0   2.558712      1.527306  1.157908\n",
       "85     DPZ     0    159632.0   3.871462      1.333333  0.888986\n",
       "86     EFX     0    181705.0   1.503135      1.626444  1.197441\n",
       "87     GPN     0    335962.0   2.144283      1.797735  1.229163\n",
       "88     HLF     0    387548.0   2.562386      1.826746  0.747474\n",
       "89     HUM     0    228960.0   1.694883      1.519945  0.999805\n",
       "90     IQV     0    216836.0   1.101277      1.527531  1.138263\n",
       "91      MA     A    768440.0   0.766057      1.615059  1.184151\n",
       "92    MDLA     0    118881.0   0.956104      1.212976  1.000000\n",
       "93    MELI     0    122664.0   2.467592      2.679792  1.321100\n",
       "94    MSFT     0   5853810.0   0.766666      1.501540  1.149866\n",
       "95    NFLX     0   1373680.0   3.137438      1.646272  0.929352\n",
       "96     NOW     0    373511.0   1.992462      1.927997  1.158314\n",
       "97    SPGI     0    309561.0   1.256845      1.664277  1.212069\n",
       "98     TDG     0     90649.0   1.698342      1.764972  1.201035\n",
       "99     TIF     0    591619.0   4.897549      1.741140  0.916511\n",
       "100   TWLO     A    819674.0   6.744012      2.343701  1.169934\n",
       "101   UBER     0   2767304.0   1.627822      1.424010  0.925201\n",
       "102    UNH     0    765986.0   0.808274      1.320467  0.959800\n",
       "103    UNP     0    678817.0   0.963503      1.403557  1.052101\n",
       "104    WWE     A    259056.0   5.446816      1.608851  0.916754\n",
       "105   WYNN     0    575979.0   5.352169      1.622650  1.014421\n",
       "\n",
       "[106 rows x 6 columns]"
      ]
     },
     "execution_count": 5,
     "metadata": {},
     "output_type": "execute_result"
    }
   ],
   "source": [
    "final"
   ]
  },
  {
   "cell_type": "code",
   "execution_count": null,
   "metadata": {},
   "outputs": [],
   "source": []
  }
 ],
 "metadata": {
  "kernelspec": {
   "display_name": "Python 3",
   "language": "python",
   "name": "python3"
  },
  "language_info": {
   "codemirror_mode": {
    "name": "ipython",
    "version": 3
   },
   "file_extension": ".py",
   "mimetype": "text/x-python",
   "name": "python",
   "nbconvert_exporter": "python",
   "pygments_lexer": "ipython3",
   "version": "3.7.3"
  }
 },
 "nbformat": 4,
 "nbformat_minor": 2
}
